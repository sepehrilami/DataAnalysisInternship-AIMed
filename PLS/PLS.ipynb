{
  "nbformat": 4,
  "nbformat_minor": 0,
  "metadata": {
    "colab": {
      "name": "Copy of PLS-NET.ipynb",
      "provenance": []
    },
    "kernelspec": {
      "name": "python3",
      "display_name": "Python 3"
    }
  },
  "cells": [
    {
      "cell_type": "code",
      "metadata": {
        "id": "hTIoGL5FIMLS"
      },
      "source": [
        "#  Importing!\n",
        "\n",
        "import torch\n",
        "import torch.nn as nn\n",
        "import torchvision.transforms as transforms\n",
        "from torch.autograd import Variable\n",
        "\n",
        "from __future__ import print_function\n",
        "#%matplotlib inline\n",
        "import argparse\n",
        "import os\n",
        "import random\n",
        "import torch.nn.parallel\n",
        "import torch.backends.cudnn as cudnn\n",
        "import torch.optim as optim\n",
        "import torch.utils.data\n",
        "import torchvision.datasets as dset\n",
        "import torchvision.transforms as transforms\n",
        "import torchvision.utils as vutils\n",
        "import numpy as np\n",
        "import matplotlib.pyplot as plt\n",
        "import matplotlib.animation as animation\n",
        "from IPython.display import HTML\n",
        "from PIL import Image\n",
        "from torch.utils.data import Dataset, DataLoader\n"
      ],
      "execution_count": null,
      "outputs": []
    },
    {
      "cell_type": "code",
      "metadata": {
        "id": "89beIO7o--5a"
      },
      "source": [
        ""
      ],
      "execution_count": null,
      "outputs": []
    },
    {
      "cell_type": "code",
      "metadata": {
        "id": "3a5KnhcuQ7E7"
      },
      "source": [
        "# custom weights initialization\n",
        "def weights_init(m):\n",
        "    classname = m.__class__.__name__\n",
        "    if classname.find('Conv') != -1:\n",
        "        nn.init.normal_(m.weight.data, 0.0, 0.01)\n",
        "    elif classname.find('BatchNorm') != -1:\n",
        "        nn.init.normal_(m.weight.data, 1.0, 0.01)\n",
        "        nn.init.constant_(m.bias.data, 0)"
      ],
      "execution_count": null,
      "outputs": []
    },
    {
      "cell_type": "markdown",
      "metadata": {
        "id": "ajrvW218dM3i"
      },
      "source": [
        "Defining Depthwise Separable (DS) Convolution And Dilated Residual Dense Block (DRDB)"
      ]
    },
    {
      "cell_type": "code",
      "metadata": {
        "id": "Dq545Tn1RGw9"
      },
      "source": [
        "class DSconv(nn.Module):\n",
        "  def __init__(in_channels, out_channels,DSkernel,DSstride, DSpadding, dilation = True):\n",
        "    super().__init__()\n",
        "\n",
        "    self.dsconv = nn.Sequential(\n",
        "        nn.Conv3d(in_channels, in_channels, DSkernel, DSstride, DSpadding, dilation, groups = in_channels),\n",
        "        nn.BatchNorm3d(in_channels),\n",
        "        nn.ReLU(inplace=True),\n",
        "        nn.Conv3d(in_channels, out_channels, 1 ,DSstride, DSpadding),\n",
        "        nn.BatchNorm3d(out_channels),\n",
        "        nn.ReLU(inplace=True)\n",
        "    )\n",
        "\n",
        "  def forward(self, inputx):\n",
        "    return self.dsconv(inputx)\n",
        "\n",
        "\n",
        "class DRDB(nn.Module):\n",
        "      def __init__(self,in_channels, out_channels, DSkernel, DSstride ,DSpadding):\n",
        "        super().__init__()\n",
        "        \n",
        "        self.r1 = DSconv(in_channels, in_channels, DSkernel, DSstride, DSpadding, dilation = 1)\n",
        "        self.r2 = DSconv(in_channels, in_channels, DSkernel, DSstride, DSpadding, dilation = 2)\n",
        "        self.r3 = DSconv(in_channels, in_channels, DSkernel, DSstride, DSpadding, dilation = 3)\n",
        "        self.r4 = DSconv(in_channels, in_channels, DSkernel, DSstride, DSpadding, dilation = 4)\n",
        "        self.g0 = DSconv(in_channels, in_channels, 1, DSstride, DSpadding, dilation = 4)\n",
        "\n",
        "      def forward(self,x):\n",
        "        x1 = self.r1(x)\n",
        "        x11 = torch.cat([x1,x], dim=1) # concatting the input and output of the same convolution\n",
        "        x2 = self.r2(x11)\n",
        "        x22 = torch.cat([x2,x11], dim=1)\n",
        "        x3 = self.r3(x22)\n",
        "        x33 = torch.cat([x3,x22], dim=1)\n",
        "        x4 = self.r4(x33)\n",
        "        x44 = torch.cat([x4,x33], dim=1)\n",
        "        xg0 = self.g0(x44)\n",
        "        \n",
        "        return xg0 + x\n"
      ],
      "execution_count": null,
      "outputs": []
    },
    {
      "cell_type": "markdown",
      "metadata": {
        "id": "WUdT9ylmOXTs"
      },
      "source": [
        "Model"
      ]
    },
    {
      "cell_type": "code",
      "metadata": {
        "id": "I2XZejqbOV-V"
      },
      "source": [
        "class PLSnet(nn.Module):\n",
        "  def __init__(self,in_channels, out_channels, DSkernel, DSstride ,DSpadding):\n",
        "    super().__init__()\n",
        "    self.TLupsample = nn.Upsample(scale_factor=2, mode='trilinear')\n",
        "    self.TLdownsample = nn.functional.interpolate(scale_factor=1/2, mode='trilinear')\n",
        "    self.oneconv = nn.Conv3d(in_channels, out_channels, 1 ,DSstride, DSpadding)\n",
        "    self.softmaxAF = nn.Softmax()\n",
        "\n",
        "  def forward(self, InputImage):\n",
        "    # resolution = 1 in encoder\n",
        "    g1 = DSconv(InputImage)\n",
        "    InputImage = self.TLdownsample(InputImage)\n",
        "    g1 = torch.cat([g1,InputImage],dim=1)\n",
        "    g1 = DRDB(g1)\n",
        "    # resolution = 2 in encoder\n",
        "    g2 = DSconv(g1)\n",
        "    InputImage = self.TLdownsample(InputImage)\n",
        "    g2 = torch.cat([g2,InputImage],dim=1)\n",
        "    g2 = DRDB(g2)\n",
        "    g2 = DRDB(g2) # Don't know, but the paper's architecture has a DRDBx2! and I don't know what's that mean!\n",
        "    # resolution = 3 in encoder\n",
        "    g3 = DSconv(g2)\n",
        "    InputImage = self.TLdownsample(InputImage)\n",
        "    g3 = torch.cat([g3,InputImage],dim=1)\n",
        "    g3 = DRDB(g3)\n",
        "    g3 = DRDB(g3)\n",
        "    g3 = DRDB(g3)\n",
        "    g3 = DRDB(g3)\n",
        "    g3 = DSconv(g3)\n",
        "    g3d = self.TLupsample(g3) # g3 that got upsample and is placed in decoder\n",
        "    # resolution = 2 in decoder\n",
        "    g2d = torch.cat([g3d,g2],dim=1)\n",
        "    g2d = DSconv(g2d)\n",
        "    g2d = self.TLupsample(g2d)\n",
        "    # resolution = 1 in decoder\n",
        "    g1d = torch.cat([g2d,g1],dim=1)\n",
        "    g1d = DSconv(g1d)\n",
        "    g1d = self.TLupsample(g1d)\n",
        "    # resolution = 0 in decoder\n",
        "    g0d = self.oneconv(g1d)\n",
        "    return self.Softmax(g0d) "
      ],
      "execution_count": null,
      "outputs": []
    },
    {
      "cell_type": "code",
      "metadata": {
        "id": "d70IKAnMdrCe"
      },
      "source": [
        ""
      ],
      "execution_count": null,
      "outputs": []
    }
  ]
}