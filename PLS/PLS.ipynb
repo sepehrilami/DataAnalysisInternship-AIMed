{
  "nbformat": 4,
  "nbformat_minor": 0,
  "metadata": {
    "colab": {
      "name": "PLS.ipynb",
      "provenance": [],
      "include_colab_link": true
    },
    "kernelspec": {
      "name": "python3",
      "display_name": "Python 3"
    },
    "accelerator": "GPU"
  },
  "cells": [
    {
      "cell_type": "markdown",
      "metadata": {
        "id": "view-in-github",
        "colab_type": "text"
      },
      "source": [
        "<a href=\"https://colab.research.google.com/github/sepehrilami/DataScienceInternship-AIMed/blob/master/PLS/PLS.ipynb\" target=\"_parent\"><img src=\"https://colab.research.google.com/assets/colab-badge.svg\" alt=\"Open In Colab\"/></a>"
      ]
    },
    {
      "cell_type": "code",
      "metadata": {
        "id": "Rt2LGmI0ePmv"
      },
      "source": [
        "#  Importing!\n",
        "\n",
        "import torch\n",
        "import torch.nn as nn\n",
        "from torch.autograd import Variable\n",
        "\n",
        "import argparse\n",
        "import os\n",
        "import random\n",
        "import torch.optim as optim\n",
        "\n",
        "import numpy as np\n",
        "import torch.nn.functional as F\n",
        "import matplotlib.pyplot as plt\n",
        "import matplotlib.animation as animation\n",
        "from PIL import Image\n",
        "from torch.utils.data import Dataset, DataLoader\n",
        "import matplotlib.pylab as plt\n",
        "from skimage.transform import resize\n",
        "from time import time\n",
        "\n",
        "# %matplotlib inline\n",
        "# from __future__ import print_function\n",
        "# from IPython.display import HTML\n",
        "# import torch.nn.parallel\n",
        "# import torch.backends.cudnn as cudnn\n",
        "# import nibabel as nib\n",
        "# import torch.utils.data\n",
        "# import torchvision.datasets as dset\n",
        "# import torchvision.transforms as transforms\n",
        "# import torchvision.utils as vutils"
      ],
      "execution_count": 1,
      "outputs": []
    },
    {
      "cell_type": "code",
      "metadata": {
        "id": "Ofren4nceaOB",
        "outputId": "d2ff9c18-24f9-4fee-da1f-61c65d21af40",
        "colab": {
          "base_uri": "https://localhost:8080/"
        }
      },
      "source": [
        "#Requird for reading mhd format\n",
        "!pip install SimpleITK\n",
        "import SimpleITK as sitk"
      ],
      "execution_count": 2,
      "outputs": [
        {
          "output_type": "stream",
          "text": [
            "Requirement already satisfied: SimpleITK in /usr/local/lib/python3.6/dist-packages (2.0.1)\n"
          ],
          "name": "stdout"
        }
      ]
    },
    {
      "cell_type": "code",
      "metadata": {
        "id": "0YVOxnbhedtA",
        "outputId": "ffc779c3-4789-409b-f8d6-b289ec6a9c30",
        "colab": {
          "base_uri": "https://localhost:8080/"
        }
      },
      "source": [
        "#Reading 3 samples from VESSEL12 dataset\n",
        "!wget https://www.dropbox.com/sh/1j2x17k8y18k3l6/AACkAc6bCEqYVXBdODFo6Iqya/VESSEL12_ExampleScans.tar.bz2"
      ],
      "execution_count": 3,
      "outputs": [
        {
          "output_type": "stream",
          "text": [
            "--2020-11-01 12:37:11--  https://www.dropbox.com/sh/1j2x17k8y18k3l6/AACkAc6bCEqYVXBdODFo6Iqya/VESSEL12_ExampleScans.tar.bz2\n",
            "Resolving www.dropbox.com (www.dropbox.com)... 162.125.1.1, 2620:100:6016:1::a27d:101\n",
            "Connecting to www.dropbox.com (www.dropbox.com)|162.125.1.1|:443... connected.\n",
            "HTTP request sent, awaiting response... 301 Moved Permanently\n",
            "Location: /sh/raw/1j2x17k8y18k3l6/AACkAc6bCEqYVXBdODFo6Iqya/VESSEL12_ExampleScans.tar.bz2 [following]\n",
            "--2020-11-01 12:37:11--  https://www.dropbox.com/sh/raw/1j2x17k8y18k3l6/AACkAc6bCEqYVXBdODFo6Iqya/VESSEL12_ExampleScans.tar.bz2\n",
            "Reusing existing connection to www.dropbox.com:443.\n",
            "HTTP request sent, awaiting response... 302 Found\n",
            "Location: https://uc4580a92237328b3488fe372c64.dl.dropboxusercontent.com/cd/0/inline/BCUiX8ODM16Lwy94uzrQhh0nGOdh3ADu5OhlCuxjB4bSn_P-cFlTSpbptsQCG4DUDAMcpenctbgO2wGGBw66PxhZJ7GJPYIqT5gifC7dFTSllg/file# [following]\n",
            "--2020-11-01 12:37:11--  https://uc4580a92237328b3488fe372c64.dl.dropboxusercontent.com/cd/0/inline/BCUiX8ODM16Lwy94uzrQhh0nGOdh3ADu5OhlCuxjB4bSn_P-cFlTSpbptsQCG4DUDAMcpenctbgO2wGGBw66PxhZJ7GJPYIqT5gifC7dFTSllg/file\n",
            "Resolving uc4580a92237328b3488fe372c64.dl.dropboxusercontent.com (uc4580a92237328b3488fe372c64.dl.dropboxusercontent.com)... 162.125.1.15, 2620:100:6016:15::a27d:10f\n",
            "Connecting to uc4580a92237328b3488fe372c64.dl.dropboxusercontent.com (uc4580a92237328b3488fe372c64.dl.dropboxusercontent.com)|162.125.1.15|:443... connected.\n",
            "HTTP request sent, awaiting response... 302 Found\n",
            "Location: /cd/0/inline2/BCXBI-OYAwXXNtCbw4QRONAI3UzQtJ2gUKJ2S8xgKF9MrkgblJiRq_NMOZUN_tRyyVxxKkVqIjXMALBJTIFXfa4P5SIrfEwr5FmO172Ieu2Dq3-zWx-aEMyCkSNYgbX6CTVN-nLDxyGgshyjfLG37QidB6hicWAJeeL7MUTkgdrIogQZf5B2yc0jVsvAPu7k3WWCBbU8B0dzp0I417MXeRScrGtHUIgljbZnJbuIJADF9u5yJGg_b7J0uicHBQDv2h_6qsxk_U0cDd5pgcISb03VT9y5imtonNse-0LRpcvVOQj6Thnj-s1h02go1Gcisqh8tWakoxafl6glgQZR_jDZ/file [following]\n",
            "--2020-11-01 12:37:12--  https://uc4580a92237328b3488fe372c64.dl.dropboxusercontent.com/cd/0/inline2/BCXBI-OYAwXXNtCbw4QRONAI3UzQtJ2gUKJ2S8xgKF9MrkgblJiRq_NMOZUN_tRyyVxxKkVqIjXMALBJTIFXfa4P5SIrfEwr5FmO172Ieu2Dq3-zWx-aEMyCkSNYgbX6CTVN-nLDxyGgshyjfLG37QidB6hicWAJeeL7MUTkgdrIogQZf5B2yc0jVsvAPu7k3WWCBbU8B0dzp0I417MXeRScrGtHUIgljbZnJbuIJADF9u5yJGg_b7J0uicHBQDv2h_6qsxk_U0cDd5pgcISb03VT9y5imtonNse-0LRpcvVOQj6Thnj-s1h02go1Gcisqh8tWakoxafl6glgQZR_jDZ/file\n",
            "Reusing existing connection to uc4580a92237328b3488fe372c64.dl.dropboxusercontent.com:443.\n",
            "HTTP request sent, awaiting response... 200 OK\n",
            "Length: 313639176 (299M) [application/octet-stream]\n",
            "Saving to: ‘VESSEL12_ExampleScans.tar.bz2’\n",
            "\n",
            "VESSEL12_ExampleSca 100%[===================>] 299.11M  49.9MB/s    in 6.1s    \n",
            "\n",
            "2020-11-01 12:37:18 (49.4 MB/s) - ‘VESSEL12_ExampleScans.tar.bz2’ saved [313639176/313639176]\n",
            "\n"
          ],
          "name": "stdout"
        }
      ]
    },
    {
      "cell_type": "code",
      "metadata": {
        "id": "zQUlpJhPegK2"
      },
      "source": [
        "#Unzip samples\n",
        "!tar xf VESSEL12_ExampleScans.tar.bz2"
      ],
      "execution_count": 4,
      "outputs": []
    },
    {
      "cell_type": "code",
      "metadata": {
        "id": "Qpr1HAWnejIR"
      },
      "source": [
        "def read_mhd(file):\n",
        "    return sitk.GetArrayFromImage(sitk.ReadImage(file, sitk.sitkFloat32))"
      ],
      "execution_count": 3,
      "outputs": []
    },
    {
      "cell_type": "code",
      "metadata": {
        "id": "7S4vfmCpelWt",
        "outputId": "720c6ee1-69c6-40ad-ce66-81eca0b0e5d0",
        "colab": {
          "base_uri": "https://localhost:8080/"
        }
      },
      "source": [
        "vessel12_21 = read_mhd(\"Scans/VESSEL12_21.mhd\")\n",
        "vessel12_21.shape"
      ],
      "execution_count": 4,
      "outputs": [
        {
          "output_type": "execute_result",
          "data": {
            "text/plain": [
              "(459, 512, 512)"
            ]
          },
          "metadata": {
            "tags": []
          },
          "execution_count": 4
        }
      ]
    },
    {
      "cell_type": "code",
      "metadata": {
        "id": "kMbmW5D-enkM",
        "outputId": "bf88aa01-2710-4a62-890c-a7c608f70c83",
        "colab": {
          "base_uri": "https://localhost:8080/"
        }
      },
      "source": [
        "vessel12_21_mask = read_mhd(\"Lungmasks/VESSEL12_21.mhd\")\n",
        "vessel12_21_mask.shape"
      ],
      "execution_count": 5,
      "outputs": [
        {
          "output_type": "execute_result",
          "data": {
            "text/plain": [
              "(459, 512, 512)"
            ]
          },
          "metadata": {
            "tags": []
          },
          "execution_count": 5
        }
      ]
    },
    {
      "cell_type": "code",
      "metadata": {
        "id": "J6wZrxsdep0W"
      },
      "source": [
        "def draw(images, columns=4):\n",
        "    rows = int(np.ceil(images.shape[0] / columns))\n",
        "    max_size = 20\n",
        "    \n",
        "    width = max(columns * 5, max_size)\n",
        "    height = width * rows // columns\n",
        "\n",
        "    plt.figure(figsize=(width, height))\n",
        "    plt.gray()\n",
        "    plt.subplots_adjust(0,0,1,1,0.01,0.01)\n",
        "    for i in range(images.shape[0]):\n",
        "        plt.subplot(rows,columns,i+1), plt.imshow(images[i]), plt.axis('off')\n",
        "        # use plt.savefig(...) here if you want to save the images as .jpg, e.g.,\n",
        "    plt.show()\n",
        "\n",
        "def draw_masked(images, masks, columns=4):\n",
        "    assert images.shape == masks.shape\n",
        "    \n",
        "    rows = int(np.ceil(images.shape[0] / columns))\n",
        "    max_size = 20\n",
        "    \n",
        "    width = min(columns * 5, max_size)\n",
        "    height = width * rows // columns\n",
        "\n",
        "    fig = plt.figure(figsize=(width, height))\n",
        "    plt.gray()\n",
        "    plt.subplots_adjust(0,0,1,1,0.01,0.01)\n",
        "    \n",
        "    X, Y = np.meshgrid(np.arange(masks.shape[1]), np.arange(masks.shape[2]))\n",
        "    \n",
        "    for i in range(images.shape[0]):\n",
        "        ax = fig.add_subplot(rows,columns,i+1)\n",
        "        if masks[i].sum() > 0:\n",
        "            ax.contour(X, Y, masks[i], 1, colors='red', linewidths=0.5)\n",
        "        ax.imshow(images[i], origin='lower', cmap='gray')\n",
        "        plt.axis('off')\n",
        "    \n",
        "    plt.show()"
      ],
      "execution_count": 6,
      "outputs": []
    },
    {
      "cell_type": "code",
      "metadata": {
        "id": "sq2yT5YHer8p"
      },
      "source": [
        "# custom weights initialization\n",
        "def weights_init(m):\n",
        "    classname = m.__class__.__name__\n",
        "    if classname.find('Conv') != -1:\n",
        "        nn.init.normal_(m.weight.data, 0.0, 0.01)\n",
        "    elif classname.find('BatchNorm') != -1:\n",
        "        nn.init.normal_(m.weight.data, 1.0, 0.01)\n",
        "        nn.init.constant_(m.bias.data, 0)"
      ],
      "execution_count": 7,
      "outputs": []
    },
    {
      "cell_type": "code",
      "metadata": {
        "id": "ITK5VjD7ev4t"
      },
      "source": [
        "class DSconv(nn.Module):\n",
        "  def __init__(self, in_channels, out_channels, DSkernel, depth_stride, DSstride, DSpadding, dilation=1):\n",
        "    super(DSconv, self).__init__()\n",
        "\n",
        "    self.dsconv = nn.Sequential(\n",
        "        #Input is 10, 512, 512\n",
        "\n",
        "        nn.Conv3d(in_channels, in_channels, DSkernel, depth_stride, DSpadding, dilation, groups = in_channels),\n",
        "\n",
        "        nn.BatchNorm3d(in_channels),\n",
        "        nn.ReLU(inplace=True),\n",
        "        nn.Conv3d(in_channels, out_channels, 1 ,DSstride, 0, dilation),\n",
        "        nn.BatchNorm3d(out_channels),\n",
        "        nn.ReLU(inplace=True)\n",
        "    )\n",
        "\n",
        "  def forward(self, input):\n",
        "    # print(\"dsconv shape of input:\", input.shape)  \n",
        "    return self.dsconv(input)\n",
        "\n",
        "\n",
        "class DRDB(nn.Module):\n",
        "      def __init__(self, in_channels, DRDBpadding):\n",
        "        super(DRDB, self).__init__()\n",
        "        \n",
        "        DSkernel = 3\n",
        "        DSstride = 1\n",
        "        DSpadding = DRDBpadding\n",
        "        self.conv_1 = DSconv(in_channels, in_channels, 3, 1, DSstride, 1, 1)\n",
        "        self.conv_2 = DSconv(in_channels * 2 , in_channels * 2, 3, 1, DSstride, 2, 2)\n",
        "        self.conv_3 = DSconv(in_channels * 4, in_channels * 4, 3, 1, DSstride, 3, 3)\n",
        "        self.conv_4 = DSconv(in_channels * 8, in_channels * 8, 3, 1, DSstride, 4, 4)\n",
        "        \n",
        "        self.final_conv = nn.Conv3d(in_channels * 16, in_channels, 1, DSstride, 0,bias=False)\n",
        "\n",
        "      def forward(self, DRDBinput):\n",
        "        first_convolved = self.conv_1(DRDBinput)\n",
        "        # print(first_convolved.shape)\n",
        "        concat = torch.cat([first_convolved, DRDBinput], dim=1)\n",
        "        second_convolved = self.conv_2(concat)\n",
        "        # print(\"Testing\")\n",
        "        # print(second_convolved.shape)\n",
        "        # print(DRDBinput.shape)\n",
        "        concat = torch.cat([second_convolved, concat], dim=1)\n",
        "        third_convolved = self.conv_3(concat)\n",
        "        concat = torch.cat([third_convolved, concat], dim=1)\n",
        "        forth_convolved = self.conv_4(concat)\n",
        "        concat = torch.cat([forth_convolved, concat], dim=1)\n",
        "        xg0 = self.final_conv(concat)\n",
        "        # fff = xg0 + DRDBinput\n",
        "        # print(fff.shape)\n",
        "        return xg0 + DRDBinput"
      ],
      "execution_count": 8,
      "outputs": []
    },
    {
      "cell_type": "code",
      "metadata": {
        "id": "ytXb2mA3ewps"
      },
      "source": [
        "#Testing DRDB\n",
        "\n",
        "# test = torch.zeros(size= [1, 17, 10, 512, 512], device = 'cuda:0', dtype = torch.float16)\n",
        "# drdb = DRDB(17, 0)\n",
        "# drdb = drdb.to('cuda:0').half()\n",
        "# out = drdb(test)\n",
        "# out.shape"
      ],
      "execution_count": 9,
      "outputs": []
    },
    {
      "cell_type": "code",
      "metadata": {
        "id": "3lImBSDoe350"
      },
      "source": [
        "#Testing DSconv\n",
        "\n",
        "# test = torch.zeros(size= [1, 1, 8, 512, 512], device = 'cuda:0', dtype = torch.float16)\n",
        "# dsconv = nn.Sequential( DSconv(1, 16, 3, 2, 1, 1, dilation = 1),\n",
        "# DSconv(16, 16, 3, 2, 1, 1, dilation = 1),\n",
        "# DSconv(16, 1, 3, 2, 1, 1, dilation = 1))\n",
        "# dsconv = dsconv.to('cuda:0').half()\n",
        "# out = dsconv(test)\n",
        "# out.shape"
      ],
      "execution_count": 10,
      "outputs": []
    },
    {
      "cell_type": "code",
      "metadata": {
        "id": "HsLOEu-me1u1",
        "outputId": "78af7565-8a4c-46e2-9698-09d8c4c490df",
        "colab": {
          "base_uri": "https://localhost:8080/"
        }
      },
      "source": [
        "torch.cuda.empty_cache()\n",
        "import gc\n",
        "gc.collect()"
      ],
      "execution_count": 11,
      "outputs": [
        {
          "output_type": "execute_result",
          "data": {
            "text/plain": [
              "0"
            ]
          },
          "metadata": {
            "tags": []
          },
          "execution_count": 11
        }
      ]
    },
    {
      "cell_type": "code",
      "metadata": {
        "id": "HH9A1blAe6eS"
      },
      "source": [
        "class PLSnet(nn.Module):\n",
        "  def __init__(self, DSkernel, DSstride, DSpadding, C):\n",
        "    super(PLSnet, self).__init__()\n",
        "\n",
        "    self.dsconvolve_1 = DSconv(1, 16, DSkernel, 2, DSstride, DSpadding)\n",
        "    self.dsconvolve_2 = DSconv(17, 64, DSkernel, 2, DSstride, DSpadding)\n",
        "    self.dsconvolve_3 = DSconv(65, 128, DSkernel, 2, DSstride, DSpadding)\n",
        "\n",
        "    self.mid_dsconvolve_1 = DSconv(17, 2*C, DSkernel, 1, DSstride, DSpadding, 1)\n",
        "    self.mid_dsconvolve_2 = DSconv(65, 2*C, DSkernel, 1, DSstride, DSpadding, 1)\n",
        "    \n",
        "    self.decoder_dsconvolve_1 = DSconv(129, 2*C, DSkernel, 1, DSstride, DSpadding, 1)\n",
        "    self.decoder_dsconvolve_2 = DSconv(4*C, 2*C, DSkernel, 1, DSstride, DSpadding, 1)\n",
        "    self.decoder_dsconvolve_3 = DSconv(4*C, 2*C, DSkernel, 1, DSstride, DSpadding, 1)\n",
        "\n",
        "    self.oneconv = nn.Conv3d(2*C, 1, 1, DSstride, 0)\n",
        "\n",
        "    DRDBpadding = DSpadding\n",
        "    self.drdb = DRDB(17, DRDBpadding)\n",
        "    self.drdbx2 = DRDB(65, DRDBpadding)\n",
        "    self.drdbx4 = DRDB(129, DRDBpadding)\n",
        "\n",
        "    self.TLupsample = nn.Upsample(scale_factor = 2, mode='trilinear')\n",
        "    self.sigmoid = nn.Sigmoid()\n",
        "\n",
        "  def forward(self, InputImage, real_mask):\n",
        "\n",
        "    # resolution = 1 in encoder\n",
        "    DSconv_output = self.dsconvolve_1(InputImage)\n",
        "    # print(\"dsconv: \", DSconv_1.shape)\n",
        "    InputImage = nn.functional.interpolate(InputImage, scale_factor = 0.5, mode='trilinear')\n",
        "    # print(\"image: \", InputImage.shape)\n",
        "    concat_output = torch.cat([DSconv_output,InputImage], dim=1)\n",
        "    DRDB1_output = self.drdb(concat_output)\n",
        "    # resolution = 2 in encoder\n",
        "    DSconv_output = self.dsconvolve_2(DRDB1_output)\n",
        "    InputImage = nn.functional.interpolate(InputImage, scale_factor = 0.5, mode='trilinear')\n",
        "    concat_output = torch.cat([DSconv_output,InputImage], dim = 1)\n",
        "    DRDB2_output = self.drdbx2(self.drdbx2(concat_output))\n",
        "    # resolution = 3 in encoder\n",
        "    DSconv_output = self.dsconvolve_3(DRDB2_output)\n",
        "\n",
        "    InputImage = nn.functional.interpolate(InputImage, scale_factor = 0.5, mode = 'trilinear')\n",
        "    concat_output = torch.cat([DSconv_output,InputImage], dim = 1)\n",
        "\n",
        "    DSconv_output = self.decoder_dsconvolve_1(self.drdbx4(self.drdbx4(self.drdbx4(self.drdbx4(concat_output)))))\n",
        "    upsample_output = self.TLupsample(DSconv_output) \n",
        "    # resolution = 2 in decoder\n",
        "    DSconv_output = self.mid_dsconvolve_2(DRDB2_output)\n",
        "    concat_output = torch.cat([upsample_output, DSconv_output], dim = 1)\n",
        "    DSconv_output = self.decoder_dsconvolve_2(concat_output)\n",
        "    upsample_output = self.TLupsample(DSconv_output)\n",
        "    # resolution = 1 in decoder\n",
        "    DSconv_output = self.mid_dsconvolve_1(DRDB1_output)\n",
        "    concat_output = torch.cat([upsample_output, DSconv_output], dim = 1)\n",
        "    DSconv_output = self.decoder_dsconvolve_2(concat_output)\n",
        "    upsample_output = self.TLupsample(DSconv_output)\n",
        "    # resolution = 0 in decoder\n",
        "\n",
        "    output = self.oneconv(upsample_output)\n",
        "\n",
        "    predicted = self.sigmoid(output)\n",
        "\n",
        "    # print(predicted.shape)\n",
        "    # print(real_mask.squeeze(dim = 1).shape)\n",
        "    # print(\"LOSS:\")\n",
        "\n",
        "    loss_output = F.binary_cross_entropy(predicted, real_mask.squeeze(dim = 1))\n",
        "    # print(loss_output)\n",
        "    \n",
        "\n",
        "    return predicted, loss_output"
      ],
      "execution_count": 12,
      "outputs": []
    },
    {
      "cell_type": "code",
      "metadata": {
        "id": "oXZmo1NHfBHh"
      },
      "source": [
        "# in_channels = 10\n",
        "# out_channels = 256\n",
        "DSkernel = 3\n",
        "DSstride = 1\n",
        "DSpadding = 1\n",
        "\n",
        "C = 6   #number of classes\n",
        "\n",
        "model = PLSnet(DSkernel, DSstride, DSpadding, C)\n",
        "model = model.cuda()"
      ],
      "execution_count": 13,
      "outputs": []
    },
    {
      "cell_type": "code",
      "metadata": {
        "id": "7GL82GBPfD8r"
      },
      "source": [
        "optimizer = torch.optim.Adam(filter(\n",
        "    lambda p : p.requires_grad, model.parameters()),\n",
        "    lr = 0.001\n",
        ")"
      ],
      "execution_count": 14,
      "outputs": []
    },
    {
      "cell_type": "code",
      "metadata": {
        "id": "t0x7HUnE5fZa"
      },
      "source": [
        "# output = torch.randn(1, 2, 8, 512, 512, dtype=torch.float32)\n",
        "# print(output.shape)\n",
        "# target = torch.empty(1, 8, 512, 512, dtype=torch.float32).random_(2)\n",
        "# print(target.shape)\n",
        "# print(F.cross_entropy(output, target))"
      ],
      "execution_count": 15,
      "outputs": []
    },
    {
      "cell_type": "code",
      "metadata": {
        "id": "XHXu6wm5fHv3"
      },
      "source": [
        "batch_size = 1\n",
        "batch_x_placeholder = torch.zeros(size= [batch_size, 1, 8, 512, 512], dtype = torch.float32, device = 'cuda:0')\n",
        "batch_y_placeholder = torch.zeros(size= [batch_size, 1, 8, 512, 512], dtype = torch.float32, device = 'cuda:0')\n",
        "\n",
        "x_train = vessel12_21[200:208]\n",
        "y_train = vessel12_21_mask[200:208]\n",
        "x_val = vessel12_21[208:216]\n",
        "y_val = vessel12_21_mask[208:216]\n",
        "\n",
        "epochs = 30\n",
        "\n",
        "train_loss = np.zeros((batch_size * epochs,))\n",
        "val_loss = np.zeros((batch_size * epochs,))\n",
        "train_acc = np.zeros((batch_size * epochs,))\n",
        "val_acc = np.zeros((batch_size * epochs,))\n"
      ],
      "execution_count": 20,
      "outputs": []
    },
    {
      "cell_type": "code",
      "metadata": {
        "id": "TEDxVzxDfK7F",
        "outputId": "12dd3c2f-600c-4369-ecc6-c7b21f72e022",
        "colab": {
          "base_uri": "https://localhost:8080/"
        }
      },
      "source": [
        "iters_per_epoch = int(np.ceil(1.0 * len(x_train) / batch_size))\n",
        "\n",
        "for e in range(epochs):\n",
        "    t_start = time()\n",
        "\n",
        "    model.train() # training phase\n",
        "\n",
        "    # shuffling\n",
        "    inds = np.arange(len(x_train))\n",
        "    np.random.shuffle(inds)\n",
        "\n",
        "    epoch_loss = 0\n",
        "    true_positive = 0\n",
        "\n",
        "\n",
        "    # iterating over the whole training set\n",
        "    for iter in range(iters_per_epoch):\n",
        "\n",
        "        batch_inds = inds[iter * batch_size: min(len(inds), (iter + 1) * batch_size)]\n",
        "        # print(batch_inds)\n",
        "\n",
        "        # reshaping placeholders\n",
        "        if len(batch_inds) != len(batch_x_placeholder):\n",
        "            batch_x_placeholder.resize_([len(batch_inds), 1, 8, 512, 512])\n",
        "            batch_y_placeholder.resize_([len(batch_inds), 1, 8, 512, 512])\n",
        "\n",
        "\n",
        "        batch_x_placeholder.copy_(torch.Tensor(x_train[batch_inds, np.newaxis, np.newaxis, :, :]))\n",
        "\n",
        "        batch_y_placeholder.copy_(torch.Tensor(y_train[batch_inds, np.newaxis, np.newaxis, :, :]))\n",
        "\n",
        "        \n",
        "        b_decision, b_loss = model(batch_x_placeholder, batch_y_placeholder)\n",
        "        b_decision = b_decision.detach().cpu().numpy()\n",
        "      \n",
        "        epoch_loss += float(b_loss) / iters_per_epoch  # CARE: WE SHOULD USE FLOAT OVER LOSS\n",
        "        true_positive += np.sum(y_train[batch_inds[0]].astype(int) == b_decision)\n",
        "        \n",
        "        b_loss.backward() # calculates derivations\n",
        "\n",
        "        optimizer.step()\n",
        "        optimizer.zero_grad() # CARE: MUST DO\n",
        "\n",
        "    epoch_train_accuracy = true_positive * 100.0 / len(x_train)\n",
        "    train_loss[e] = epoch_loss\n",
        "    train_acc[e] = epoch_train_accuracy\n",
        "    \n",
        " # Validating over validation data\n",
        "    with torch.no_grad():\n",
        "        model.eval()  # validation phase\n",
        "\n",
        "        val_inds = np.arange(len(x_val))\n",
        "\n",
        "        val_iters_per_epoch = int(np.ceil(1.0 * len(x_val) / batch_size))\n",
        "\n",
        "        epoch_validation_loss = 0\n",
        "        val_true_positive = 0\n",
        "\n",
        "\n",
        "        # iterating over the whole training set\n",
        "        for iter in range(val_iters_per_epoch):\n",
        "\n",
        "            val_batch_inds = val_inds[iter * batch_size: min(len(val_inds), (iter + 1) * batch_size)]\n",
        "\n",
        "            # reshaping placeholders\n",
        "            if len(batch_inds) != len(batch_x_placeholder):\n",
        "                batch_x_placeholder.resize_([len(batch_inds), 1, 8, 512, 512])\n",
        "                batch_y_placeholder.resize_([len(batch_inds), 1, 8, 512, 512])\n",
        "\n",
        "            batch_x_placeholder.copy_(torch.Tensor(x_train[batch_inds, np.newaxis, np.newaxis, :, :]))\n",
        "\n",
        "            batch_y_placeholder.copy_(torch.Tensor(y_train[batch_inds, np.newaxis, np.newaxis, :, :]))\n",
        "\n",
        "            b_decision, b_loss = model(batch_x_placeholder, batch_y_placeholder)\n",
        "            b_decision = b_decision.cpu().numpy()\n",
        "        \n",
        "            epoch_validation_loss += float(b_loss) / val_iters_per_epoch  # CARE: WE SHOULD USE FLOAT OVER LOSS\n",
        "            val_true_positive += np.sum(y_val[val_batch_inds].astype(int) == b_decision)\n",
        "                \n",
        "        epoch_validation_accuracy = val_true_positive * 100.0 / len(x_val)\n",
        "        val_loss[e] = epoch_validation_loss\n",
        "        val_acc[e] = epoch_validation_accuracy\n",
        "        # TO Complete\n",
        "    \n",
        "    print(f'Train epoch Loss: {epoch_loss:.4f}, Validation Loss: {epoch_validation_loss:.4f}')\n",
        "\n",
        "    # Saving the model and optimizer state\n",
        "    torch.save({\n",
        "            'epoch': e,\n",
        "            'optimizer_state_dict': optimizer.state_dict(),\n",
        "            'model_state_dict': model.state_dict(),\n",
        "            'train_loss': epoch_loss,\n",
        "            'train_accuracy': epoch_train_accuracy,\n",
        "            # 'validation_loss': epoch_validation_loss,\n",
        "            # 'validation_accuracy': epoch_validation_accuracy\n",
        "        }, 'epoch_%d_state.pt' % e)\n",
        "    \n",
        "    \n",
        "\n",
        "    print('Epoch %d ended in %.2f secs.' % (e, time() - t_start,))\n"
      ],
      "execution_count": 21,
      "outputs": [
        {
          "output_type": "stream",
          "text": [
            "/usr/local/lib/python3.6/dist-packages/torch/nn/functional.py:3121: UserWarning: Default upsampling behavior when mode=trilinear is changed to align_corners=False since 0.4.0. Please specify align_corners=True if the old behavior is desired. See the documentation of nn.Upsample for details.\n",
            "  \"See the documentation of nn.Upsample for details.\".format(mode))\n",
            "/usr/local/lib/python3.6/dist-packages/torch/nn/functional.py:3000: UserWarning: The default behavior for interpolate/upsample with float scale_factor changed in 1.6.0 to align with other frameworks/libraries, and uses scale_factor directly, instead of relying on the computed output size. If you wish to keep the old behavior, please set recompute_scale_factor=True. See the documentation of nn.Upsample for details. \n",
            "  warnings.warn(\"The default behavior for interpolate/upsample with float scale_factor changed \"\n",
            "/usr/local/lib/python3.6/dist-packages/ipykernel_launcher.py:68: UserWarning: Using a target size (torch.Size([1, 8, 512, 512])) that is different to the input size (torch.Size([1, 1, 8, 512, 512])) is deprecated. Please ensure they have the same size.\n"
          ],
          "name": "stderr"
        },
        {
          "output_type": "stream",
          "text": [
            "Train epoch Loss: 0.1407, Validation Loss: 0.2627\n",
            "Epoch 0 ended in 19.77 secs.\n",
            "Train epoch Loss: 0.1319, Validation Loss: 0.2538\n",
            "Epoch 1 ended in 19.99 secs.\n",
            "Train epoch Loss: 0.1239, Validation Loss: 0.2571\n",
            "Epoch 2 ended in 19.62 secs.\n",
            "Train epoch Loss: 0.1165, Validation Loss: 0.2464\n",
            "Epoch 3 ended in 19.49 secs.\n",
            "Train epoch Loss: 0.1096, Validation Loss: 0.2367\n",
            "Epoch 4 ended in 19.65 secs.\n",
            "Train epoch Loss: 0.1033, Validation Loss: 0.2356\n",
            "Epoch 5 ended in 19.74 secs.\n",
            "Train epoch Loss: 0.0975, Validation Loss: 0.2260\n",
            "Epoch 6 ended in 19.62 secs.\n",
            "Train epoch Loss: 0.0920, Validation Loss: 0.2204\n",
            "Epoch 7 ended in 19.58 secs.\n",
            "Train epoch Loss: 0.0870, Validation Loss: 0.2206\n",
            "Epoch 8 ended in 19.63 secs.\n",
            "Train epoch Loss: 0.0824, Validation Loss: 0.2178\n",
            "Epoch 9 ended in 19.69 secs.\n",
            "Train epoch Loss: 0.0780, Validation Loss: 0.2127\n",
            "Epoch 10 ended in 19.63 secs.\n",
            "Train epoch Loss: 0.0740, Validation Loss: 0.2031\n",
            "Epoch 11 ended in 19.64 secs.\n",
            "Train epoch Loss: 0.0702, Validation Loss: 0.2014\n",
            "Epoch 12 ended in 19.59 secs.\n",
            "Train epoch Loss: 0.0667, Validation Loss: 0.1964\n",
            "Epoch 13 ended in 19.61 secs.\n",
            "Train epoch Loss: 0.0635, Validation Loss: 0.1900\n",
            "Epoch 14 ended in 19.67 secs.\n",
            "Train epoch Loss: 0.0605, Validation Loss: 0.1962\n",
            "Epoch 15 ended in 19.67 secs.\n",
            "Train epoch Loss: 0.0577, Validation Loss: 0.1840\n",
            "Epoch 16 ended in 19.68 secs.\n",
            "Train epoch Loss: 0.0551, Validation Loss: 0.1706\n",
            "Epoch 17 ended in 19.64 secs.\n",
            "Train epoch Loss: 0.0526, Validation Loss: 0.1744\n",
            "Epoch 18 ended in 19.71 secs.\n",
            "Train epoch Loss: 0.0503, Validation Loss: 0.1810\n",
            "Epoch 19 ended in 19.62 secs.\n",
            "Train epoch Loss: 0.0481, Validation Loss: 0.1694\n",
            "Epoch 20 ended in 19.68 secs.\n",
            "Train epoch Loss: 0.0460, Validation Loss: 0.1662\n",
            "Epoch 21 ended in 19.65 secs.\n",
            "Train epoch Loss: 0.0440, Validation Loss: 0.1701\n",
            "Epoch 22 ended in 19.59 secs.\n",
            "Train epoch Loss: 0.0422, Validation Loss: 0.1680\n",
            "Epoch 23 ended in 19.62 secs.\n",
            "Train epoch Loss: 0.0405, Validation Loss: 0.1614\n",
            "Epoch 24 ended in 19.66 secs.\n",
            "Train epoch Loss: 0.0389, Validation Loss: 0.1641\n",
            "Epoch 25 ended in 19.58 secs.\n",
            "Train epoch Loss: 0.0374, Validation Loss: 0.1600\n",
            "Epoch 26 ended in 19.62 secs.\n",
            "Train epoch Loss: 0.0359, Validation Loss: 0.1562\n",
            "Epoch 27 ended in 19.63 secs.\n",
            "Train epoch Loss: 0.0346, Validation Loss: 0.1555\n",
            "Epoch 28 ended in 19.62 secs.\n",
            "Train epoch Loss: 0.0333, Validation Loss: 0.1466\n",
            "Epoch 29 ended in 19.67 secs.\n"
          ],
          "name": "stdout"
        }
      ]
    },
    {
      "cell_type": "code",
      "metadata": {
        "id": "1CsQbIoo78Xu",
        "outputId": "c7b76e7e-1edc-4f6d-fa3d-9cc36022790c",
        "colab": {
          "base_uri": "https://localhost:8080/",
          "height": 530
        }
      },
      "source": [
        "import matplotlib.pyplot as plt\n",
        "\n",
        "fig = plt.figure(figsize=(16, 8))\n",
        "\n",
        "\n",
        "# loss\n",
        "ax = fig.add_subplot(121)\n",
        "ax.set_title('Loss')\n",
        "ax.set_xlabel('Loss')\n",
        "ax.set_ylabel('Epoch')\n",
        "ax.set_aspect('auto')\n",
        "\n",
        "plt.plot(train_loss, label='Train', color='blue', linewidth=3)\n",
        "plt.plot(val_loss, label='Validation', color='yellow', linewidth=3)\n",
        "\n",
        "plt.legend()"
      ],
      "execution_count": 22,
      "outputs": [
        {
          "output_type": "execute_result",
          "data": {
            "text/plain": [
              "<matplotlib.legend.Legend at 0x7f3b3aee95c0>"
            ]
          },
          "metadata": {
            "tags": []
          },
          "execution_count": 22
        },
        {
          "output_type": "display_data",
          "data": {
            "image/png": "[encoded data removed]",
            "text/plain": [
              "<Figure size 1152x576 with 1 Axes>"
            ]
          },
          "metadata": {
            "tags": [],
            "needs_background": "light"
          }
        }
      ]
    },
    {
      "cell_type": "code",
      "metadata": {
        "id": "fFrnwNpp8Ulq"
      },
      "source": [
        "x_test = vessel12_21[216:224]\n",
        "y_test = vessel12_21_mask[216:224]"
      ],
      "execution_count": 23,
      "outputs": []
    },
    {
      "cell_type": "code",
      "metadata": {
        "id": "2ntjDEAl8K5O",
        "outputId": "266c8a0b-6ee7-499c-e8ad-259ab00823d6",
        "colab": {
          "base_uri": "https://localhost:8080/"
        }
      },
      "source": [
        "with torch.no_grad():\n",
        "        model.eval()  # validation phase\n",
        "\n",
        "        val_inds = np.arange(len(x_test))\n",
        "\n",
        "        val_iters_per_epoch = int(np.ceil(1.0 * len(x_test) / batch_size))\n",
        "\n",
        "        epoch_validation_loss = 0\n",
        "        val_true_positive = 0\n",
        "        predictions = []\n",
        "\n",
        "        # iterating over the whole training set\n",
        "        for iter in range(val_iters_per_epoch):\n",
        "\n",
        "            val_batch_inds = val_inds[iter * batch_size: min(len(val_inds), (iter + 1) * batch_size)]\n",
        "\n",
        "            # reshaping placeholders\n",
        "            if len(batch_inds) != len(batch_x_placeholder):\n",
        "                batch_x_placeholder.resize_([len(batch_inds), 1, 8, 512, 512])\n",
        "                batch_y_placeholder.resize_([len(batch_inds), 1, 8, 512, 512])\n",
        "\n",
        "            batch_x_placeholder.copy_(torch.Tensor(x_test[batch_inds, np.newaxis, np.newaxis, :, :]))\n",
        "\n",
        "            batch_y_placeholder.copy_(torch.Tensor(y_test[batch_inds, np.newaxis, np.newaxis, :, :]))\n",
        "\n",
        "            b_decision, b_loss = model(batch_x_placeholder, batch_y_placeholder)\n",
        "            b_decision = b_decision.cpu().numpy()\n",
        "\n",
        "            predictions.append(b_decision)\n",
        "        \n",
        "            epoch_validation_loss += float(b_loss) / val_iters_per_epoch  # CARE: WE SHOULD USE FLOAT OVER LOSS\n",
        "            val_true_positive += np.sum(y_test[val_batch_inds].astype(int) == b_decision)\n",
        "                \n",
        "        epoch_validation_accuracy = val_true_positive * 100.0 / len(x_test)\n",
        "        val_loss = epoch_validation_loss\n",
        "        val_acc = epoch_validation_accuracy\n",
        "\n",
        "\n",
        "print('Test Loss %.4f' % val_loss)"
      ],
      "execution_count": 25,
      "outputs": [
        {
          "output_type": "stream",
          "text": [
            "/usr/local/lib/python3.6/dist-packages/torch/nn/functional.py:3121: UserWarning: Default upsampling behavior when mode=trilinear is changed to align_corners=False since 0.4.0. Please specify align_corners=True if the old behavior is desired. See the documentation of nn.Upsample for details.\n",
            "  \"See the documentation of nn.Upsample for details.\".format(mode))\n",
            "/usr/local/lib/python3.6/dist-packages/torch/nn/functional.py:3000: UserWarning: The default behavior for interpolate/upsample with float scale_factor changed in 1.6.0 to align with other frameworks/libraries, and uses scale_factor directly, instead of relying on the computed output size. If you wish to keep the old behavior, please set recompute_scale_factor=True. See the documentation of nn.Upsample for details. \n",
            "  warnings.warn(\"The default behavior for interpolate/upsample with float scale_factor changed \"\n",
            "/usr/local/lib/python3.6/dist-packages/ipykernel_launcher.py:68: UserWarning: Using a target size (torch.Size([1, 8, 512, 512])) that is different to the input size (torch.Size([1, 1, 8, 512, 512])) is deprecated. Please ensure they have the same size.\n"
          ],
          "name": "stderr"
        },
        {
          "output_type": "stream",
          "text": [
            "Test Loss 0.2480\n"
          ],
          "name": "stdout"
        }
      ]
    },
    {
      "cell_type": "code",
      "metadata": {
        "id": "nNtBQY_h9Fc3"
      },
      "source": [
        "y_test = y_test.astype(int)\n",
        "predictions = np.concatenate(predictions)"
      ],
      "execution_count": 26,
      "outputs": []
    },
    {
      "cell_type": "code",
      "metadata": {
        "id": "7AAPlIrY9Q6y",
        "outputId": "08941b1b-977c-49be-f36c-2ea9bf526b02",
        "colab": {
          "base_uri": "https://localhost:8080/"
        }
      },
      "source": [
        "x_test.shape"
      ],
      "execution_count": 28,
      "outputs": [
        {
          "output_type": "execute_result",
          "data": {
            "text/plain": [
              "(8, 512, 512)"
            ]
          },
          "metadata": {
            "tags": []
          },
          "execution_count": 28
        }
      ]
    },
    {
      "cell_type": "code",
      "metadata": {
        "id": "GtfZikTN9GWh",
        "outputId": "77caf07e-ea24-4749-94bf-976412492295",
        "colab": {
          "base_uri": "https://localhost:8080/",
          "height": 229
        }
      },
      "source": [
        "right_images = x_test[predictions == y_test]\n",
        "print('there are %d correct predictions. We have chosen a few of them randomly.' % len(right_images))\n",
        "right_labels = predictions[predictions == y_test]\n",
        "right_indices = np.random.choice(np.arange(len(right_images)), size=80)\n",
        "\n",
        "images = right_images[right_indices]\n",
        "label_predictions = right_labels[right_indices]\n",
        "texts = [f'{label_predictions[i]}' for i in range(len(right_indices))]\n",
        "columns = 16\n",
        "rows = 5\n",
        "\n",
        "fig = plt.figure(figsize=(1.2 * columns, 1.2 * rows))\n",
        "\n",
        "for i in range(columns * rows):\n",
        "    ax = fig.add_subplot(rows, columns, i + 1)\n",
        "    ax.set_title(texts[i])\n",
        "    ax.get_xaxis().set_visible(False)\n",
        "    ax.get_yaxis().set_visible(False)\n",
        "    plt.imshow(images[i].reshape((28, 28)))"
      ],
      "execution_count": 27,
      "outputs": [
        {
          "output_type": "error",
          "ename": "IndexError",
          "evalue": "ignored",
          "traceback": [
            "\u001b[0;31m---------------------------------------------------------------------------\u001b[0m",
            "\u001b[0;31mIndexError\u001b[0m                                Traceback (most recent call last)",
            "\u001b[0;32m<ipython-input-27-1e72ab8ebf4e>\u001b[0m in \u001b[0;36m<module>\u001b[0;34m()\u001b[0m\n\u001b[0;32m----> 1\u001b[0;31m \u001b[0mright_images\u001b[0m \u001b[0;34m=\u001b[0m \u001b[0mx_test\u001b[0m\u001b[0;34m[\u001b[0m\u001b[0mpredictions\u001b[0m \u001b[0;34m==\u001b[0m \u001b[0my_test\u001b[0m\u001b[0;34m]\u001b[0m\u001b[0;34m\u001b[0m\u001b[0;34m\u001b[0m\u001b[0m\n\u001b[0m\u001b[1;32m      2\u001b[0m \u001b[0mprint\u001b[0m\u001b[0;34m(\u001b[0m\u001b[0;34m'there are %d correct predictions. We have chosen a few of them randomly.'\u001b[0m \u001b[0;34m%\u001b[0m \u001b[0mlen\u001b[0m\u001b[0;34m(\u001b[0m\u001b[0mright_images\u001b[0m\u001b[0;34m)\u001b[0m\u001b[0;34m)\u001b[0m\u001b[0;34m\u001b[0m\u001b[0;34m\u001b[0m\u001b[0m\n\u001b[1;32m      3\u001b[0m \u001b[0mright_labels\u001b[0m \u001b[0;34m=\u001b[0m \u001b[0mpredictions\u001b[0m\u001b[0;34m[\u001b[0m\u001b[0mpredictions\u001b[0m \u001b[0;34m==\u001b[0m \u001b[0my_test\u001b[0m\u001b[0;34m]\u001b[0m\u001b[0;34m\u001b[0m\u001b[0;34m\u001b[0m\u001b[0m\n\u001b[1;32m      4\u001b[0m \u001b[0mright_indices\u001b[0m \u001b[0;34m=\u001b[0m \u001b[0mnp\u001b[0m\u001b[0;34m.\u001b[0m\u001b[0mrandom\u001b[0m\u001b[0;34m.\u001b[0m\u001b[0mchoice\u001b[0m\u001b[0;34m(\u001b[0m\u001b[0mnp\u001b[0m\u001b[0;34m.\u001b[0m\u001b[0marange\u001b[0m\u001b[0;34m(\u001b[0m\u001b[0mlen\u001b[0m\u001b[0;34m(\u001b[0m\u001b[0mright_images\u001b[0m\u001b[0;34m)\u001b[0m\u001b[0;34m)\u001b[0m\u001b[0;34m,\u001b[0m \u001b[0msize\u001b[0m\u001b[0;34m=\u001b[0m\u001b[0;36m80\u001b[0m\u001b[0;34m)\u001b[0m\u001b[0;34m\u001b[0m\u001b[0;34m\u001b[0m\u001b[0m\n\u001b[1;32m      5\u001b[0m \u001b[0;34m\u001b[0m\u001b[0m\n",
            "\u001b[0;31mIndexError\u001b[0m: too many indices for array"
          ]
        }
      ]
    },
    {
      "cell_type": "code",
      "metadata": {
        "id": "D8-CTJz4fNdj",
        "outputId": "f486c11b-3309-401c-a29f-f8284b9a532d",
        "colab": {
          "base_uri": "https://localhost:8080/"
        }
      },
      "source": [
        "torch.cuda.reset_max_memory_allocated"
      ],
      "execution_count": 24,
      "outputs": [
        {
          "output_type": "execute_result",
          "data": {
            "text/plain": [
              "<function torch.cuda.memory.reset_max_memory_allocated>"
            ]
          },
          "metadata": {
            "tags": []
          },
          "execution_count": 24
        }
      ]
    },
    {
      "cell_type": "code",
      "metadata": {
        "id": "EjyfHpXG_PvE"
      },
      "source": [
        ""
      ],
      "execution_count": null,
      "outputs": []
    }
  ]
}