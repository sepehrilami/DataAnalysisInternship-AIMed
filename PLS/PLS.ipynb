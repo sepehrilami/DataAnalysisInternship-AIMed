{
  "nbformat": 4,
  "nbformat_minor": 0,
  "metadata": {
    "colab": {
      "name": "Copy of PLS-NET.ipynb",
      "provenance": [],
      "include_colab_link": true
    },
    "kernelspec": {
      "name": "python3",
      "display_name": "Python 3"
    }
  },
  "cells": [
    {
      "cell_type": "markdown",
      "metadata": {
        "id": "view-in-github",
        "colab_type": "text"
      },
      "source": [
        "<a href=\"https://colab.research.google.com/github/sepehrilami/DataScienceInternship-AIMed/blob/master/PLS/PLS.ipynb\" target=\"_parent\"><img src=\"https://colab.research.google.com/assets/colab-badge.svg\" alt=\"Open In Colab\"/></a>"
      ]
    },
    {
      "cell_type": "code",
      "metadata": {
        "id": "hTIoGL5FIMLS"
      },
      "source": [
        "#  Importing!\n",
        "\n",
        "import torch\n",
        "import torch.nn as nn\n",
        "from torch.autograd import Variable\n",
        "\n",
        "from __future__ import print_function\n",
        "#%matplotlib inline\n",
        "import argparse\n",
        "import os\n",
        "import random\n",
        "import torch.nn.parallel\n",
        "import torch.backends.cudnn as cudnn\n",
        "import torch.optim as optim\n",
        "import torch.utils.data\n",
        "import torchvision.datasets as dset\n",
        "import torchvision.transforms as transforms\n",
        "import torchvision.utils as vutils\n",
        "import numpy as np\n",
        "import matplotlib.pyplot as plt\n",
        "import matplotlib.animation as animation\n",
        "from IPython.display import HTML\n",
        "from PIL import Image\n",
        "from torch.utils.data import Dataset, DataLoader\n",
        "import matplotlib.pylab as plt\n",
        "import nibabel as nib\n",
        "from skimage.transform import resize"
      ],
      "execution_count": null,
      "outputs": []
    },
    {
      "cell_type": "code",
      "metadata": {
        "id": "GF2JDNelMYFC",
        "outputId": "b0fc554b-c1c1-4b23-abad-f43841dd5b6e",
        "colab": {
          "base_uri": "https://localhost:8080/",
          "height": 34
        }
      },
      "source": [
        "#Requird for reading mhd format\n",
        "!pip install SimpleITK\n",
        "import SimpleITK as sitk"
      ],
      "execution_count": null,
      "outputs": [
        {
          "output_type": "stream",
          "text": [
            "Requirement already satisfied: SimpleITK in /usr/local/lib/python3.6/dist-packages (2.0.1)\n"
          ],
          "name": "stdout"
        }
      ]
    },
    {
      "cell_type": "code",
      "metadata": {
        "id": "89beIO7o--5a",
        "outputId": "2dfa3f98-e04b-428d-8c6b-668ef9d99462",
        "colab": {
          "base_uri": "https://localhost:8080/",
          "height": 390
        }
      },
      "source": [
        "#Reading 3 samples from VESSEL12 dataset\n",
        "!wget https://www.dropbox.com/sh/1j2x17k8y18k3l6/AACkAc6bCEqYVXBdODFo6Iqya/VESSEL12_ExampleScans.tar.bz2"
      ],
      "execution_count": null,
      "outputs": [
        {
          "output_type": "stream",
          "text": [
            "--2020-10-21 12:46:23--  https://www.dropbox.com/sh/1j2x17k8y18k3l6/AACkAc6bCEqYVXBdODFo6Iqya/VESSEL12_ExampleScans.tar.bz2\n",
            "Resolving www.dropbox.com (www.dropbox.com)... 162.125.9.1, 2620:100:601d:1::a27d:501\n",
            "Connecting to www.dropbox.com (www.dropbox.com)|162.125.9.1|:443... connected.\n",
            "HTTP request sent, awaiting response... 301 Moved Permanently\n",
            "Location: /sh/raw/1j2x17k8y18k3l6/AACkAc6bCEqYVXBdODFo6Iqya/VESSEL12_ExampleScans.tar.bz2 [following]\n",
            "--2020-10-21 12:46:24--  https://www.dropbox.com/sh/raw/1j2x17k8y18k3l6/AACkAc6bCEqYVXBdODFo6Iqya/VESSEL12_ExampleScans.tar.bz2\n",
            "Reusing existing connection to www.dropbox.com:443.\n",
            "HTTP request sent, awaiting response... 302 Found\n",
            "Location: https://uc7803bf77f81b09f6bf2d47324e.dl.dropboxusercontent.com/cd/0/inline/BBrn6rvA9qJX4aT4-TLPRCIoBoiYFDt5JNBD9T9j7lPHze6_5EujBFEh2jdiG2PJdSdwkSKd0C6goQ9KLUrONOVuN0uLPQ-slh8f0WBMkOB1Tw/file# [following]\n",
            "--2020-10-21 12:46:24--  https://uc7803bf77f81b09f6bf2d47324e.dl.dropboxusercontent.com/cd/0/inline/BBrn6rvA9qJX4aT4-TLPRCIoBoiYFDt5JNBD9T9j7lPHze6_5EujBFEh2jdiG2PJdSdwkSKd0C6goQ9KLUrONOVuN0uLPQ-slh8f0WBMkOB1Tw/file\n",
            "Resolving uc7803bf77f81b09f6bf2d47324e.dl.dropboxusercontent.com (uc7803bf77f81b09f6bf2d47324e.dl.dropboxusercontent.com)... 162.125.5.15, 2620:100:601d:15::a27d:50f\n",
            "Connecting to uc7803bf77f81b09f6bf2d47324e.dl.dropboxusercontent.com (uc7803bf77f81b09f6bf2d47324e.dl.dropboxusercontent.com)|162.125.5.15|:443... connected.\n",
            "HTTP request sent, awaiting response... 302 Found\n",
            "Location: /cd/0/inline2/BBph4fgXDEVhN_1pbbEMglNh_1n5m_MMSbWKd0Pv0WWfeVSIDhv9IXNCmb5O96CzGpxmTm1S2riM3qyeibGfrPGWaaTr8NySRP4sw1BviHfuCzYH3LGPWQKkxWo8Yg3wLF4cv0_uKNie29Gg8hJIr0Y00G-gYWbZ3oYWi3rxe-h3bUp4Y7I5AP1MYx5-m7p2h5PwcBF5_AchHgPycZDNvWckdmbsnbJXFxjzJ3lerJD5JVV0T2VX_uzSdh7r-fjNzYhcdU9YD9l1P6OCPDOMjXS2L38d6Dh3jebWspTmgn0PgxLq-8DNcNWJu-IxdJGDmS7z2k1JvKe8DJJTI6EWFfnC/file [following]\n",
            "--2020-10-21 12:46:25--  https://uc7803bf77f81b09f6bf2d47324e.dl.dropboxusercontent.com/cd/0/inline2/BBph4fgXDEVhN_1pbbEMglNh_1n5m_MMSbWKd0Pv0WWfeVSIDhv9IXNCmb5O96CzGpxmTm1S2riM3qyeibGfrPGWaaTr8NySRP4sw1BviHfuCzYH3LGPWQKkxWo8Yg3wLF4cv0_uKNie29Gg8hJIr0Y00G-gYWbZ3oYWi3rxe-h3bUp4Y7I5AP1MYx5-m7p2h5PwcBF5_AchHgPycZDNvWckdmbsnbJXFxjzJ3lerJD5JVV0T2VX_uzSdh7r-fjNzYhcdU9YD9l1P6OCPDOMjXS2L38d6Dh3jebWspTmgn0PgxLq-8DNcNWJu-IxdJGDmS7z2k1JvKe8DJJTI6EWFfnC/file\n",
            "Reusing existing connection to uc7803bf77f81b09f6bf2d47324e.dl.dropboxusercontent.com:443.\n",
            "HTTP request sent, awaiting response... 200 OK\n",
            "Length: 313639176 (299M) [application/octet-stream]\n",
            "Saving to: ‘VESSEL12_ExampleScans.tar.bz2.1’\n",
            "\n",
            "ESSEL12_ExampleScan  38%[======>             ] 116.01M  49.2MB/s               ^C\n"
          ],
          "name": "stdout"
        }
      ]
    },
    {
      "cell_type": "code",
      "metadata": {
        "id": "9fBEG3oPLKur",
        "outputId": "8b47c150-0321-45b2-e906-75db2390744b",
        "colab": {
          "base_uri": "https://localhost:8080/",
          "height": 34
        }
      },
      "source": [
        "#Unzip samples\n",
        "!tar xf VESSEL12_ExampleScans.tar.bz2"
      ],
      "execution_count": null,
      "outputs": [
        {
          "output_type": "stream",
          "text": [
            "^C\n"
          ],
          "name": "stdout"
        }
      ]
    },
    {
      "cell_type": "code",
      "metadata": {
        "id": "_d_Yz8ydLwge"
      },
      "source": [
        "def read_mhd(file):\n",
        "    return sitk.GetArrayFromImage(sitk.ReadImage(file, sitk.sitkFloat32))"
      ],
      "execution_count": null,
      "outputs": []
    },
    {
      "cell_type": "code",
      "metadata": {
        "id": "x511RoYeNvzI"
      },
      "source": [
        "def draw(images, columns=4):\n",
        "    rows = int(np.ceil(images.shape[0] / columns))\n",
        "    max_size = 20\n",
        "    \n",
        "    width = max(columns * 5, max_size)\n",
        "    height = width * rows // columns\n",
        "\n",
        "    plt.figure(figsize=(width, height))\n",
        "    plt.gray()\n",
        "    plt.subplots_adjust(0,0,1,1,0.01,0.01)\n",
        "    for i in range(images.shape[0]):\n",
        "        plt.subplot(rows,columns,i+1), plt.imshow(images[i]), plt.axis('off')\n",
        "        # use plt.savefig(...) here if you want to save the images as .jpg, e.g.,\n",
        "    plt.show()"
      ],
      "execution_count": null,
      "outputs": []
    },
    {
      "cell_type": "code",
      "metadata": {
        "id": "J9f8KKAjLxYV",
        "outputId": "9bd65953-4aca-4718-8557-f12cd4f07fed",
        "colab": {
          "base_uri": "https://localhost:8080/",
          "height": 34
        }
      },
      "source": [
        "vessel12_21 = read_mhd(\"Lungmasks/VESSEL12_21.mhd\")\n",
        "vessel12_21.shape"
      ],
      "execution_count": null,
      "outputs": [
        {
          "output_type": "execute_result",
          "data": {
            "text/plain": [
              "(459, 512, 512)"
            ]
          },
          "metadata": {
            "tags": []
          },
          "execution_count": 37
        }
      ]
    },
    {
      "cell_type": "code",
      "metadata": {
        "id": "jZimyFAYQAgb",
        "outputId": "6331edc0-5075-4e39-9957-b60cf7106066",
        "colab": {
          "base_uri": "https://localhost:8080/",
          "height": 286
        }
      },
      "source": [
        "#As an example:\n",
        "plt.imshow(vessel12_21[200])"
      ],
      "execution_count": null,
      "outputs": [
        {
          "output_type": "execute_result",
          "data": {
            "text/plain": [
              "<matplotlib.image.AxesImage at 0x7f2f15c31748>"
            ]
          },
          "metadata": {
            "tags": []
          },
          "execution_count": 38
        },
        {
          "output_type": "display_data",
          "data": {
            "image/png": "[encoded data removed]",
            "text/plain": [
              "<Figure size 432x288 with 1 Axes>"
            ]
          },
          "metadata": {
            "tags": [],
            "needs_background": "light"
          }
        }
      ]
    },
    {
      "cell_type": "code",
      "metadata": {
        "id": "dVRSWE0iNyz3"
      },
      "source": [
        "#It will take a few seconds\n",
        "draw(vessel12_21)"
      ],
      "execution_count": null,
      "outputs": []
    },
    {
      "cell_type": "code",
      "metadata": {
        "id": "3a5KnhcuQ7E7"
      },
      "source": [
        "# custom weights initialization\n",
        "def weights_init(m):\n",
        "    classname = m.__class__.__name__\n",
        "    if classname.find('Conv') != -1:\n",
        "        nn.init.normal_(m.weight.data, 0.0, 0.01)\n",
        "    elif classname.find('BatchNorm') != -1:\n",
        "        nn.init.normal_(m.weight.data, 1.0, 0.01)\n",
        "        nn.init.constant_(m.bias.data, 0)"
      ],
      "execution_count": null,
      "outputs": []
    },
    {
      "cell_type": "markdown",
      "metadata": {
        "id": "ajrvW218dM3i"
      },
      "source": [
        "Defining Depthwise Separable (DS) Convolution And Dilated Residual Dense Block (DRDB)\n",
        "\n",
        "# some note about variables names\n",
        "DS prefix denotes Depthwise-Seperable's parameters.\n",
        "\n",
        "DRDB prefix denotes DRDB's parameters.\n",
        "\n",
        "In DRDB class, I used \"in_channels\" becouse in the DRDB block all the channel numbers are the same!\n",
        "\n",
        "g0 is the last convolution in figure 3 that is a 1x1x1 convolution."
      ]
    },
    {
      "cell_type": "code",
      "metadata": {
        "id": "Dq545Tn1RGw9"
      },
      "source": [
        "class DSconv(nn.Module):\n",
        "  def __init__(in_channels, out_channels, DSkernel, DSstride, DSpadding):\n",
        "    super(DSconv, self).__init__()\n",
        "\n",
        "    self.dsconv = nn.Sequential(\n",
        "\n",
        "        #nn.Conv3d(in_chans, in_chans * k, kernel_size, groups = in_chans)\n",
        "        #here k is M * N or just M or 1 ?? \n",
        "\n",
        "        #K here is 1\n",
        "        nn.Conv3d(in_channels, in_channels, DSkernel, DSstride, DSpadding, groups = in_channels),\n",
        "\n",
        "        nn.BatchNorm3d(in_channels),\n",
        "        nn.ReLU(inplace=True),\n",
        "        nn.Conv3d(in_channels, out_channels, 1 ,DSstride, DSpadding),\n",
        "        nn.BatchNorm3d(out_channels),\n",
        "        nn.ReLU(inplace=True)\n",
        "    )\n",
        "\n",
        "  def forward(self, input):\n",
        "    return self.dsconv(input)\n",
        "\n",
        "\n",
        "class DRDB(nn.Module):\n",
        "      def __init__(self, in_channels, DRDBpadding):\n",
        "        super(DRDB, self).__init__()\n",
        "        \n",
        "        \n",
        "        self.conv_1 = DSconv(in_channels, in_channels, 3, 2, DRDBpadding, dilation = 1)\n",
        "        self.conv_2 = DSconv(in_channels, in_channels, 3, 2, DRDBpadding, dilation = 2)\n",
        "        self.conv_3 = DSconv(in_channels, in_channels, 3, 2, DRDBpadding, dilation = 3)\n",
        "        self.conv_4 = DSconv(in_channels, in_channels, 3, 2, DRDBpadding, dilation = 4)\n",
        "      \n",
        "        self.g0 = DSconv(in_channels, in_channels, 1, DSstride, DSpadding, dilation = 4)\n",
        "\n",
        "      def forward(self, DRDBinput):\n",
        "        first_convolved = self.conv_1(DRDBinput)\n",
        "        concat_1 = torch.cat([first_convolved ,DRDBinput], dim=1) # concatting the input and output of the same convolution\n",
        "        second_convolved = self.conv_2(concat_1)\n",
        "        concat_2 = torch.cat([second_convolved,first_convolved,DRDBinput], dim=1)\n",
        "        third_convolved = self.conv_3(concat_2)\n",
        "        concat_3 = torch.cat([third_convolved,second_convolved,first_convolved,DRDBinput], dim=1)\n",
        "        forth_convolved = self.conv_4(concat_3)\n",
        "        concat_4 = torch.cat([forth_convolved, third_convolved, second_convolved,first_convolved,DRDRinput], dim=1)\n",
        "        xg0 = self.g0(concat_4)\n",
        "        \n",
        "        return xg0 + DRDBinput\n",
        "\n",
        "        #Please write a full commit about your variable names\n",
        "        # I've renamed some of them, others are left\n"
      ],
      "execution_count": null,
      "outputs": []
    },
    {
      "cell_type": "markdown",
      "metadata": {
        "id": "WUdT9ylmOXTs"
      },
      "source": [
        "Model\n",
        "\n",
        "All numbers in variables are in order of PLS architecture layers!"
      ]
    },
    {
      "cell_type": "code",
      "metadata": {
        "id": "I2XZejqbOV-V"
      },
      "source": [
        "class PLSnet(nn.Module):\n",
        "  def __init__(self, in_channels, out_channels, DSkernel, DSstride, DSpadding):\n",
        "    super(PLSnet, self).__init__()\n",
        "\n",
        "    self.TLupsample = nn.Upsample(scale_factor=2, mode='trilinear')\n",
        "    #self.TLdownsample = nn.functional.interpolate(input_image, scale_factor= 1/2, mode='trilinear') # for downscaling the input image in encoder\n",
        "    self.oneconv = nn.Conv3d(in_channels, out_channels, 1 ,DSstride, DSpadding)\n",
        "    self.softmaxAF = nn.Softmax()\n",
        "\n",
        "  def forward(self, InputImage):\n",
        "    # resolution = 1 in encoder\n",
        "    DSconv_1 = DSconv(InputImage)\n",
        "    InputImage = nn.functional.interpolate(InputImage, scale_factor=1/2, mode='trilinear')\n",
        "    concat_1 = torch.cat([DSconv_1,InputImage], dim=1)\n",
        "    DRDB1_output = DRDB(concat_1)\n",
        "    # resolution = 2 in encoder\n",
        "    DSconv_2 = DSconv(DRDB1_output)\n",
        "    InputImage = nn.functional.interpolate(InputImage, scale_factor=1/2, mode='trilinear')\n",
        "    concat_2 = torch.cat([DSconv_2,InputImage], dim=1)\n",
        "    DRDB2_output = DRDB(concat_2)\n",
        "    DRDB2_output = DRDB(DRDB2_output) # Don't know, but the paper's architecture has a DRDBx2! and I don't know what's that mean!\n",
        "    # resolution = 3 in encoder\n",
        "    DSconv_3 = DSconv(DRDB2_output)\n",
        "\n",
        "    InputImage = nn.functional.interpolate(InputImage, scale_factor=1/2, mode='trilinear')\n",
        "    concat_3 = torch.cat([DSconv_3,InputImage], dim=1)\n",
        "    DRDB3_output = DRDB(concat_3)\n",
        "    DRDB3_output = DRDB(DRDB3_output)\n",
        "    DRDB3_output = DRDB(DRDB3_output)\n",
        "    DRDB3_output = DRDB(DRDB3_output)\n",
        "    DSconv_4 = DSconv(DRDB3_output)\n",
        "    upsample1_output = self.TLupsample(DSconv_4) # g3 that got upsample and is placed in decoder\n",
        "    # resolution = 2 in decoder\n",
        "    concat_4 = torch.cat([upsample1_output,DRDB2_output], dim=1)\n",
        "    DSconv_5 = DSconv(concat_4)\n",
        "    upsample2_output = self.TLupsample(DSconv_5)\n",
        "    # resolution = 1 in decoder\n",
        "    concat_5 = torch.cat([upsample2_output,DRDB1_output], dim=1)\n",
        "    DSconv_6 = DSconv(concat_5)\n",
        "    upsample3_output = self.TLupsample(DSconv_6)\n",
        "    # resolution = 0 in decoder\n",
        "    final_output = self.oneconv(upsample3_output)\n",
        "    return self.softmaxAF(final_output) "
      ],
      "execution_count": null,
      "outputs": []
    },
    {
      "cell_type": "code",
      "metadata": {
        "id": "d70IKAnMdrCe"
      },
      "source": [
        "optimizer = torch.optim.Adam(filter(\n",
        "    lambda p : p.requires_grad, model.parameters()),\n",
        "    lr = 0.001\n",
        ")"
      ],
      "execution_count": null,
      "outputs": []
    },
    {
      "cell_type": "code",
      "metadata": {
        "id": "UGKobSbwi-Bu"
      },
      "source": [
        "model = PLSnet()\n",
        "model = model.cuda()"
      ],
      "execution_count": null,
      "outputs": []
    },
    {
      "cell_type": "code",
      "metadata": {
        "id": "RJ0tPWMejHN2"
      },
      "source": [
        "from time import time"
      ],
      "execution_count": null,
      "outputs": []
    },
    {
      "cell_type": "code",
      "metadata": {
        "id": "BphBFBIri5E0"
      },
      "source": [
        "iters_per_epoch = int(np.ceil(1.0 * len(x_train) / batch_size))\n",
        "\n",
        "for e in range(epochs):\n",
        "    t_start = time()\n",
        "\n",
        "    model.train() # training phase\n",
        "\n",
        "    # shuffling\n",
        "    inds = np.arange(len(x_train))\n",
        "    np.random.shuffle(inds)\n",
        "\n",
        "    epoch_loss = 0\n",
        "    true_positive = 0\n",
        "\n",
        "\n",
        "    # iterating over the whole training set\n",
        "    for iter in range(iters_per_epoch):\n",
        "\n",
        "        batch_inds = inds[iter * batch_size: min(len(inds), (iter + 1) * batch_size)]\n",
        "\n",
        "        # reshaping placeholders\n",
        "        if len(batch_inds) != len(batch_x_placeholder):\n",
        "            batch_x_placeholder.resize_([len(batch_inds), 1, 28, 28])\n",
        "            batch_y_placeholder.resize_([len(batch_inds)])\n",
        "\n",
        "        batch_x_placeholder.copy_(torch.Tensor(x_train[batch_inds, np.newaxis, :, :]))\n",
        "        batch_y_placeholder.copy_(torch.Tensor(y_train[batch_inds].astype(int)))\n",
        "\n",
        "        b_decision, b_loss = model(batch_x_placeholder, batch_y_placeholder)\n",
        "        b_decision = b_decision.cpu().numpy()\n",
        "      \n",
        "        epoch_loss += float(b_loss) / iters_per_epoch  # CARE: WE SHOULD USE FLOAT OVER LOSS\n",
        "        true_positive += np.sum(y_train[batch_inds].astype(int) == b_decision)\n",
        "\n",
        "        b_loss.backward() # calculates derivations\n",
        "\n",
        "        optimizer.step()\n",
        "        optimizer.zero_grad() # CARE: MUST DO\n",
        "\n",
        "    epoch_train_accuracy = true_positive * 100.0 / len(x_train)\n",
        "    train_loss[e] = epoch_loss\n",
        "    train_acc[e] = epoch_train_accuracy\n",
        "    \n",
        " # Validating over validation data\n",
        "    with torch.no_grad():\n",
        "        model.eval()  # validation phase\n",
        "\n",
        "        val_inds = np.arange(len(x_val))\n",
        "\n",
        "        val_iters_per_epoch = int(np.ceil(1.0 * len(x_val) / batch_size))\n",
        "\n",
        "        epoch_validation_loss = 0\n",
        "        val_true_positive = 0\n",
        "\n",
        "\n",
        "        # iterating over the whole training set\n",
        "        for iter in range(val_iters_per_epoch):\n",
        "\n",
        "            val_batch_inds = val_inds[iter * batch_size: min(len(val_inds), (iter + 1) * batch_size)]\n",
        "\n",
        "            # reshaping placeholders\n",
        "            if len(val_batch_inds) != len(batch_x_placeholder):\n",
        "                batch_x_placeholder.resize_([len(val_batch_inds), 1, 28, 28])\n",
        "                batch_y_placeholder.resize_([len(val_batch_inds)])\n",
        "\n",
        "            batch_x_placeholder.copy_(torch.Tensor(x_val[val_batch_inds, np.newaxis, :, :]))\n",
        "            batch_y_placeholder.copy_(torch.Tensor(y_val[val_batch_inds].astype(int)))\n",
        "\n",
        "            b_decision, b_loss = model(batch_x_placeholder, batch_y_placeholder)\n",
        "            b_decision = b_decision.cpu().numpy()\n",
        "        \n",
        "            epoch_validation_loss += float(b_loss) / val_iters_per_epoch  # CARE: WE SHOULD USE FLOAT OVER LOSS\n",
        "            val_true_positive += np.sum(y_val[val_batch_inds].astype(int) == b_decision)\n",
        "                \n",
        "        epoch_validation_accuracy = val_true_positive * 100.0 / len(x_val)\n",
        "        val_loss[e] = epoch_validation_loss\n",
        "        val_acc[e] = epoch_validation_accuracy\n",
        "        # TO Complete\n",
        "    \n",
        "    print(f'Train epoch Loss: {epoch_loss:.4f}, train accuracy: {epoch_train_accuracy:.2f}, Validation Loss: {epoch_validation_loss:.4f}, validation accuracy: {epoch_validation_accuracy:.2f}')\n",
        "\n",
        "    # Saving the model and optimizer state\n",
        "    torch.save({\n",
        "            'epoch': e,\n",
        "            'optimizer_state_dict': optimizer.state_dict(),\n",
        "            'model_state_dict': model.state_dict(),\n",
        "            'train_loss': epoch_loss,\n",
        "            'train_accuracy': epoch_train_accuracy,\n",
        "            'validation_loss': epoch_validation_loss,\n",
        "            'validation_accuracy': epoch_validation_accuracy\n",
        "        }, 'epoch_%d_state.pt' % e)\n",
        "\n",
        "    print('Epoch %d ended in %.2f secs.' % (e, time() - t_start,))\n"
      ],
      "execution_count": null,
      "outputs": []
    }
  ]
}