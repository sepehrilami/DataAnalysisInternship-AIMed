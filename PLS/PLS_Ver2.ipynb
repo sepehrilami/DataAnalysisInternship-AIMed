{
  "nbformat": 4,
  "nbformat_minor": 0,
  "metadata": {
    "colab": {
      "name": "PLS-Ver2.ipynb",
      "provenance": [],
      "include_colab_link": true
    },
    "kernelspec": {
      "name": "python3",
      "display_name": "Python 3"
    },
    "accelerator": "GPU"
  },
  "cells": [
    {
      "cell_type": "markdown",
      "metadata": {
        "id": "view-in-github",
        "colab_type": "text"
      },
      "source": [
        "<a href=\"https://colab.research.google.com/github/sepehrilami/DataScienceInternship-AIMed/blob/master/PLS/PLS_Ver2.ipynb\" target=\"_parent\"><img src=\"https://colab.research.google.com/assets/colab-badge.svg\" alt=\"Open In Colab\"/></a>"
      ]
    },
    {
      "cell_type": "code",
      "metadata": {
        "id": "PzDrB2Mq3dGI"
      },
      "source": [
        "#  Importing!\n",
        "\n",
        "import torch\n",
        "import torch.nn as nn\n",
        "from torch.autograd import Variable\n",
        "\n",
        "from __future__ import print_function\n",
        "#%matplotlib inline\n",
        "import argparse\n",
        "import os\n",
        "import random\n",
        "import torch.nn.parallel\n",
        "import torch.backends.cudnn as cudnn\n",
        "import torch.optim as optim\n",
        "import torch.utils.data\n",
        "import torchvision.datasets as dset\n",
        "import torchvision.transforms as transforms\n",
        "import torchvision.utils as vutils\n",
        "import numpy as np\n",
        "import matplotlib.pyplot as plt\n",
        "import matplotlib.animation as animation\n",
        "from IPython.display import HTML\n",
        "from PIL import Image\n",
        "from torch.utils.data import Dataset, DataLoader\n",
        "import matplotlib.pylab as plt\n",
        "import nibabel as nib\n",
        "from skimage.transform import resize"
      ],
      "execution_count": 2,
      "outputs": []
    },
    {
      "cell_type": "code",
      "metadata": {
        "id": "9790ZunE3mwn",
        "outputId": "d2699d47-e44c-47a1-a72b-bb6d3f0732a5",
        "colab": {
          "base_uri": "https://localhost:8080/",
          "height": 121
        }
      },
      "source": [
        "#Requird for reading mhd format\n",
        "!pip install SimpleITK\n",
        "import SimpleITK as sitk"
      ],
      "execution_count": 3,
      "outputs": [
        {
          "output_type": "stream",
          "text": [
            "Collecting SimpleITK\n",
            "\u001b[?25l  Downloading https://files.pythonhosted.org/packages/f3/cb/a15f4612af8e37f3627fc7fb2f91d07bb584968b0a47e3d5103d7014f93e/SimpleITK-2.0.1-cp36-cp36m-manylinux1_x86_64.whl (44.9MB)\n",
            "\u001b[K     |████████████████████████████████| 44.9MB 68kB/s \n",
            "\u001b[?25hInstalling collected packages: SimpleITK\n",
            "Successfully installed SimpleITK-2.0.1\n"
          ],
          "name": "stdout"
        }
      ]
    },
    {
      "cell_type": "code",
      "metadata": {
        "id": "eStPb-7V3um6",
        "outputId": "b1c60e66-172f-4b18-8d3f-35092595d145",
        "colab": {
          "base_uri": "https://localhost:8080/",
          "height": 440
        }
      },
      "source": [
        "#Reading 3 samples from VESSEL12 dataset\n",
        "!wget https://www.dropbox.com/sh/1j2x17k8y18k3l6/AACkAc6bCEqYVXBdODFo6Iqya/VESSEL12_ExampleScans.tar.bz2"
      ],
      "execution_count": 4,
      "outputs": [
        {
          "output_type": "stream",
          "text": [
            "--2020-10-27 13:58:11--  https://www.dropbox.com/sh/1j2x17k8y18k3l6/AACkAc6bCEqYVXBdODFo6Iqya/VESSEL12_ExampleScans.tar.bz2\n",
            "Resolving www.dropbox.com (www.dropbox.com)... 162.125.7.1, 2620:100:601c:1::a27d:601\n",
            "Connecting to www.dropbox.com (www.dropbox.com)|162.125.7.1|:443... connected.\n",
            "HTTP request sent, awaiting response... 301 Moved Permanently\n",
            "Location: /sh/raw/1j2x17k8y18k3l6/AACkAc6bCEqYVXBdODFo6Iqya/VESSEL12_ExampleScans.tar.bz2 [following]\n",
            "--2020-10-27 13:58:12--  https://www.dropbox.com/sh/raw/1j2x17k8y18k3l6/AACkAc6bCEqYVXBdODFo6Iqya/VESSEL12_ExampleScans.tar.bz2\n",
            "Reusing existing connection to www.dropbox.com:443.\n",
            "HTTP request sent, awaiting response... 302 Found\n",
            "Location: https://uca4b7b0b6bd8de39d80d605e9c8.dl.dropboxusercontent.com/cd/0/inline/BCB6pyCfM2AuV5W7Djg6PQ5LvvgFi9H8P0CSzr-c869fkon6r1Iq-flrSp9ogikK0lPaZM0RC2s037hJXj_TxnmKHxEAEwzSwiFQSVIEUsRwYw/file# [following]\n",
            "--2020-10-27 13:58:12--  https://uca4b7b0b6bd8de39d80d605e9c8.dl.dropboxusercontent.com/cd/0/inline/BCB6pyCfM2AuV5W7Djg6PQ5LvvgFi9H8P0CSzr-c869fkon6r1Iq-flrSp9ogikK0lPaZM0RC2s037hJXj_TxnmKHxEAEwzSwiFQSVIEUsRwYw/file\n",
            "Resolving uca4b7b0b6bd8de39d80d605e9c8.dl.dropboxusercontent.com (uca4b7b0b6bd8de39d80d605e9c8.dl.dropboxusercontent.com)... 162.125.6.15, 2620:100:601c:15::a27d:60f\n",
            "Connecting to uca4b7b0b6bd8de39d80d605e9c8.dl.dropboxusercontent.com (uca4b7b0b6bd8de39d80d605e9c8.dl.dropboxusercontent.com)|162.125.6.15|:443... connected.\n",
            "HTTP request sent, awaiting response... 302 Found\n",
            "Location: /cd/0/inline2/BCAhyDI9ci9_BQx5zCjUuJWIzgPPxPN63CcVUSvOaYVT-U5VgfDlHrkp083yKJylSbJCZKTLQwoNgHob3k1jyVBmbhxT7uol87u-VpIGrD_sh7m1dIINbH4-s4dFeB4lCEyECmbmE6PLmmKLLW5uU4fceDPjnkksnsu43bboZbPr76UG-aMvFRNAGN-TIl3PjWadJP2BzkFUmn24qxPbu74ZfKgvf8Ujy1VNuUKupnHb2YmLl_Hu6aRdd4yXQk773qLO0QeF0D1IQUY0tq4lJyM7Xn9CtdwZ24f1lphikAISfIKbPYkczVB9_3Zs9qutLgKdFpLkfoM1iB37r-cRmklN/file [following]\n",
            "--2020-10-27 13:58:13--  https://uca4b7b0b6bd8de39d80d605e9c8.dl.dropboxusercontent.com/cd/0/inline2/BCAhyDI9ci9_BQx5zCjUuJWIzgPPxPN63CcVUSvOaYVT-U5VgfDlHrkp083yKJylSbJCZKTLQwoNgHob3k1jyVBmbhxT7uol87u-VpIGrD_sh7m1dIINbH4-s4dFeB4lCEyECmbmE6PLmmKLLW5uU4fceDPjnkksnsu43bboZbPr76UG-aMvFRNAGN-TIl3PjWadJP2BzkFUmn24qxPbu74ZfKgvf8Ujy1VNuUKupnHb2YmLl_Hu6aRdd4yXQk773qLO0QeF0D1IQUY0tq4lJyM7Xn9CtdwZ24f1lphikAISfIKbPYkczVB9_3Zs9qutLgKdFpLkfoM1iB37r-cRmklN/file\n",
            "Reusing existing connection to uca4b7b0b6bd8de39d80d605e9c8.dl.dropboxusercontent.com:443.\n",
            "HTTP request sent, awaiting response... 200 OK\n",
            "Length: 313639176 (299M) [application/octet-stream]\n",
            "Saving to: ‘VESSEL12_ExampleScans.tar.bz2’\n",
            "\n",
            "VESSEL12_ExampleSca 100%[===================>] 299.11M  32.5MB/s    in 9.4s    \n",
            "\n",
            "2020-10-27 13:58:23 (31.7 MB/s) - ‘VESSEL12_ExampleScans.tar.bz2’ saved [313639176/313639176]\n",
            "\n"
          ],
          "name": "stdout"
        }
      ]
    },
    {
      "cell_type": "code",
      "metadata": {
        "id": "pyrt4ESD3xWJ"
      },
      "source": [
        "#Unzip samples\n",
        "!tar xf VESSEL12_ExampleScans.tar.bz2"
      ],
      "execution_count": 5,
      "outputs": []
    },
    {
      "cell_type": "code",
      "metadata": {
        "id": "DwJppgVE41Fy"
      },
      "source": [
        "def read_mhd(file):\n",
        "    return sitk.GetArrayFromImage(sitk.ReadImage(file, sitk.sitkFloat32))"
      ],
      "execution_count": 6,
      "outputs": []
    },
    {
      "cell_type": "code",
      "metadata": {
        "id": "vPe-h_lx32iD",
        "outputId": "3a3c271f-4e3f-4e4d-d29b-b795bf49e532",
        "colab": {
          "base_uri": "https://localhost:8080/",
          "height": 34
        }
      },
      "source": [
        "vessel12_21 = read_mhd(\"Scans/VESSEL12_21.mhd\")\n",
        "vessel12_21.shape"
      ],
      "execution_count": 7,
      "outputs": [
        {
          "output_type": "execute_result",
          "data": {
            "text/plain": [
              "(459, 512, 512)"
            ]
          },
          "metadata": {
            "tags": []
          },
          "execution_count": 7
        }
      ]
    },
    {
      "cell_type": "code",
      "metadata": {
        "id": "RuZ9Hiqz45xl",
        "outputId": "a5e86353-0cbc-433f-c736-be03380ed837",
        "colab": {
          "base_uri": "https://localhost:8080/",
          "height": 34
        }
      },
      "source": [
        "vessel12_21 = read_mhd(\"Scans/VESSEL12_21.mhd\")\n",
        "vessel12_21.shape"
      ],
      "execution_count": 8,
      "outputs": [
        {
          "output_type": "execute_result",
          "data": {
            "text/plain": [
              "(459, 512, 512)"
            ]
          },
          "metadata": {
            "tags": []
          },
          "execution_count": 8
        }
      ]
    },
    {
      "cell_type": "code",
      "metadata": {
        "id": "ji92bkD648oo",
        "outputId": "2a7c36bc-c0ca-43bf-e6c1-8111ce046eb6",
        "colab": {
          "base_uri": "https://localhost:8080/",
          "height": 34
        }
      },
      "source": [
        "vessel12_21_mask = read_mhd(\"Lungmasks/VESSEL12_21.mhd\")\n",
        "vessel12_21_mask.shape"
      ],
      "execution_count": 9,
      "outputs": [
        {
          "output_type": "execute_result",
          "data": {
            "text/plain": [
              "(459, 512, 512)"
            ]
          },
          "metadata": {
            "tags": []
          },
          "execution_count": 9
        }
      ]
    },
    {
      "cell_type": "code",
      "metadata": {
        "id": "CjlCjZcY4_v4"
      },
      "source": [
        "def draw(images, columns=4):\n",
        "    rows = int(np.ceil(images.shape[0] / columns))\n",
        "    max_size = 20\n",
        "    \n",
        "    width = max(columns * 5, max_size)\n",
        "    height = width * rows // columns\n",
        "\n",
        "    plt.figure(figsize=(width, height))\n",
        "    plt.gray()\n",
        "    plt.subplots_adjust(0,0,1,1,0.01,0.01)\n",
        "    for i in range(images.shape[0]):\n",
        "        plt.subplot(rows,columns,i+1), plt.imshow(images[i]), plt.axis('off')\n",
        "        # use plt.savefig(...) here if you want to save the images as .jpg, e.g.,\n",
        "    plt.show()\n",
        "\n",
        "def draw_masked(images, masks, columns=4):\n",
        "    assert images.shape == masks.shape\n",
        "    \n",
        "    rows = int(np.ceil(images.shape[0] / columns))\n",
        "    max_size = 20\n",
        "    \n",
        "    width = min(columns * 5, max_size)\n",
        "    height = width * rows // columns\n",
        "\n",
        "    fig = plt.figure(figsize=(width, height))\n",
        "    plt.gray()\n",
        "    plt.subplots_adjust(0,0,1,1,0.01,0.01)\n",
        "    \n",
        "    X, Y = np.meshgrid(np.arange(masks.shape[1]), np.arange(masks.shape[2]))\n",
        "    \n",
        "    for i in range(images.shape[0]):\n",
        "        ax = fig.add_subplot(rows,columns,i+1)\n",
        "        if masks[i].sum() > 0:\n",
        "            ax.contour(X, Y, masks[i], 1, colors='red', linewidths=0.5)\n",
        "        ax.imshow(images[i], origin='lower', cmap='gray')\n",
        "        plt.axis('off')\n",
        "    \n",
        "    plt.show()"
      ],
      "execution_count": 10,
      "outputs": []
    },
    {
      "cell_type": "code",
      "metadata": {
        "id": "UjWSxRBB5Eh9"
      },
      "source": [
        "# custom weights initialization\n",
        "def weights_init(m):\n",
        "    classname = m.__class__.__name__\n",
        "    if classname.find('Conv') != -1:\n",
        "        nn.init.normal_(m.weight.data, 0.0, 0.01)\n",
        "    elif classname.find('BatchNorm') != -1:\n",
        "        nn.init.normal_(m.weight.data, 1.0, 0.01)\n",
        "        nn.init.constant_(m.bias.data, 0)"
      ],
      "execution_count": 11,
      "outputs": []
    },
    {
      "cell_type": "code",
      "metadata": {
        "id": "YwU4v7ft5IY6"
      },
      "source": [
        "class DSconv(nn.Module):\n",
        "  def __init__(self, in_channels, out_channels, DSkernel, DSstride, DSpadding):\n",
        "    super(DSconv, self).__init__()\n",
        "\n",
        "    self.dsconv = nn.Sequential(\n",
        "        #Input is 10, 512, 512\n",
        "\n",
        "        nn.Conv3d(in_channels, in_channels, DSkernel, groups = in_channels),\n",
        "        #here k is M * N or just M or 1 ?? \n",
        "\n",
        "        #K here is 1\n",
        "        nn.Conv3d(in_channels, in_channels, DSkernel, DSstride, DSpadding, groups = in_channels),\n",
        "\n",
        "        nn.BatchNorm3d(in_channels),\n",
        "        nn.ReLU(inplace=True),\n",
        "        nn.Conv3d(in_channels, out_channels, 1 ,DSstride, DSpadding),\n",
        "        nn.BatchNorm3d(out_channels),\n",
        "        nn.ReLU(inplace=True)\n",
        "    )\n",
        "\n",
        "  def forward(self, input, dilation = 1):\n",
        "    print(\"dsconv shape of input:\", input.shape)  \n",
        "    return self.dsconv(input)\n",
        "\n",
        "\n",
        "class DRDB(nn.Module):\n",
        "      def __init__(self, in_channels, DRDBpadding):\n",
        "        super(DRDB, self).__init__()\n",
        "        \n",
        "        DSkernel = 3\n",
        "        DSstride = 2\n",
        "        DSpadding = DRDBpadding\n",
        "        self.conv_1 = DSconv(in_channels, in_channels, 3, 2, DRDBpadding)\n",
        "        self.conv_2 = DSconv(in_channels*2, in_channels*2, 3, 2, DRDBpadding)\n",
        "        self.conv_3 = DSconv(in_channels*3, in_channels*3, 3, 2, DRDBpadding)\n",
        "        self.conv_4 = DSconv(in_channels*4, in_channels*4, 3, 2, DRDBpadding)\n",
        "\n",
        "        self.final_conv = nn.Conv3d(in_channels*5, in_channels, 1, DSstride, DSpadding)\n",
        "\n",
        "      def forward(self, DRDBinput):\n",
        "        first_convolved = self.conv_1(DRDBinput)\n",
        "        concat = torch.cat([first_convolved, DRDBinput], dim=1)\n",
        "        second_convolved = self.conv_2(concat)\n",
        "        concat = torch.cat([second_convolved, DRDBinput], dim=1)\n",
        "        third_convolved = self.conv_3(concat)\n",
        "        concat = torch.cat([third_convolved, DRDBinput], dim=1)\n",
        "        forth_convolved = self.conv_4(concat)\n",
        "        concat = torch.cat([forth_convolved, DRDRinput], dim=1)\n",
        "        xg0 = self.final_conv(concat)\n",
        "        \n",
        "        return xg0 + DRDBinput\n"
      ],
      "execution_count": 12,
      "outputs": []
    },
    {
      "cell_type": "code",
      "metadata": {
        "id": "ViSVK0Xq8_bU",
        "outputId": "29bde072-ab2d-493e-aebe-d2fc79b8e235",
        "colab": {
          "base_uri": "https://localhost:8080/",
          "height": 34
        }
      },
      "source": [
        "aa = torch.zeros(size= [3, 10, 512, 512], dtype = torch.float32)\n",
        "bb = torch.zeros(size= [3, 10, 512, 512], dtype = torch.float32)\n",
        "cc = torch.cat([aa,bb],dim=1)\n",
        "cc.shape"
      ],
      "execution_count": 13,
      "outputs": [
        {
          "output_type": "execute_result",
          "data": {
            "text/plain": [
              "torch.Size([3, 20, 512, 512])"
            ]
          },
          "metadata": {
            "tags": []
          },
          "execution_count": 13
        }
      ]
    },
    {
      "cell_type": "code",
      "metadata": {
        "id": "TQxPVuTt5Lo4"
      },
      "source": [
        "class PLSnet(nn.Module):\n",
        "  def __init__(self, DSkernel, DSstride, DSpadding, C):\n",
        "    super(PLSnet, self).__init__()\n",
        "\n",
        "    self.dsconvolve_1 = DSconv(1, 16, DSkernel, DSstride, DSpadding)\n",
        "    self.dsconvolve_2 = DSconv(17, 64, DSkernel, DSstride, DSpadding)\n",
        "    self.dsconvolve_3 = DSconv(65, 128, DSkernel, DSstride, DSpadding)\n",
        "\n",
        "    self.mid_dsconvolve_1 = DSconv(17, 2*C, DSkernel, DSstride, DSpadding)\n",
        "    self.mid_dsconvolve_2 = DSconv(65, 2*C, DSkernel, DSstride, DSpadding)\n",
        "    \n",
        "    self.decoder_dsconvolve_1 = DSconv(129, 2*C, DSkernel, DSstride, DSpadding)\n",
        "    self.decoder_dsconvolve_2 = DSconv(4*C, 2*C, DSkernel, DSstride, DSpadding)\n",
        "    self.decoder_dsconvolve_3 = DSconv(4*C, 2*C, DSkernel, DSstride, DSpadding)\n",
        "\n",
        "    self.oneconv = nn.Conv3d(2*C, C, 1 ,DSstride, DSpadding)\n",
        "\n",
        "    DRDBpadding = DSpadding\n",
        "    self.drdb = DRDB(17, DRDBpadding)\n",
        "    self.drdbx2 = DRDB(65, DRDBpadding)\n",
        "    self.drdbx4 = DRDB(129, DRDBpadding)\n",
        "\n",
        "    self.TLupsample = nn.Upsample(scale_factor=2, mode='trilinear')\n",
        "    #self.TLdownsample = nn.functional.interpolate(input_image, scale_factor= 1/2, mode='trilinear') # for downscaling the input image in encoder\n",
        "    # self.oneconv = nn.Conv3d(in_channels, out_channels, 1 ,DSstride, DSpadding)\n",
        "    self.softmaxAF = nn.Softmax()\n",
        "\n",
        "  def forward(self, InputImage, real_mask):\n",
        "    # resolution = 1 in encoder\n",
        "    DSconv_1 = self.dsconvolve_1(InputImage)\n",
        "    InputImage = nn.functional.interpolate(InputImage, scale_factor=1/2, mode='trilinear')\n",
        "    print(\"testing\")\n",
        "    print(DSconv_1.shape)\n",
        "    print(InputImage.shape)\n",
        "    concat_1 = torch.cat([DSconv_1,InputImage], dim=1)\n",
        "    DRDB1_output = self.drdb(concat_1)\n",
        "    # resolution = 2 in encoder\n",
        "    DSconv_2 = self.dsconvolve_2(DRDB1_output)\n",
        "    InputImage = nn.functional.interpolate(InputImage, scale_factor=1/2, mode='trilinear')\n",
        "    concat_2 = torch.cat([DSconv_2,InputImage], dim=1)\n",
        "    DRDB2_output = self.drdbx2(self.drdbx2(concat_2)) # Don't know, but the paper's architecture has a DRDBx2! and I don't know what's that mean!\n",
        "    # resolution = 3 in encoder\n",
        "    DSconv_3 = self.dsconvolve_3(DRDB2_output)\n",
        "\n",
        "    InputImage = nn.functional.interpolate(InputImage, scale_factor = 1/2, mode = 'trilinear')\n",
        "    concat_3 = torch.cat([DSconv_3,InputImage], dim=1)\n",
        "\n",
        "    DRDB3_output = self.drdbx4(self.drdbx4(self.drdbx4(self.drdbx4(concat_3))))\n",
        "    Decoder_DSconv_1 = self.decoder_dsconvolve_1(DRDB3_output)\n",
        "    upsample1_output = self.TLupsample(DSconv_4) # g3 that got upsample and is placed in decoder\n",
        "    # resolution = 2 in decoder\n",
        "    Mid_dsconv_2 = self.mid_dsconvolve_2(DRDB2_output)\n",
        "    concat_4 = torch.cat([upsample1_output,Mid_dsconv_2], dim = 1)\n",
        "    Decoder_DSconv_2 = self.decoder_dsconvolve_2(concat_4)\n",
        "    upsample2_output = self.TLupsample(DSconv_5)\n",
        "    # resolution = 1 in decoder\n",
        "    Mid_dsconv_1 = self.mid_dsconvolve_1(DRDB1_output)\n",
        "    concat_5 = torch.cat([upsample2_output,Mid_dsconv_1], dim = 1)\n",
        "    Decoder_DSconv_3 = self.decoder_dsconvolve_2(concat_5)\n",
        "    upsample3_output = self.TLupsample(DSconv_6)\n",
        "    # resolution = 0 in decoder\n",
        "    output = self.oneconv(upsample3_output)\n",
        "    predicted = self.softmaxAF(output) \n",
        "    loss = -1 * torch.mean(predicts, real_mask)\n",
        "    return predicted, loss"
      ],
      "execution_count": 30,
      "outputs": []
    },
    {
      "cell_type": "code",
      "metadata": {
        "id": "4WhE5rl-5PeH"
      },
      "source": [
        "# in_channels = 10\n",
        "# out_channels = 256\n",
        "DSkernel = 3\n",
        "DSstride = 1\n",
        "DSpadding = 1\n",
        "# g = 12\n",
        "# g0 = 17\n",
        "C = 6   #number of classes\n",
        "\n",
        "model = PLSnet(DSkernel, DSstride, DSpadding, C)\n",
        "model = model.cuda()"
      ],
      "execution_count": 31,
      "outputs": []
    },
    {
      "cell_type": "code",
      "metadata": {
        "id": "vAfFgCZl5QTG"
      },
      "source": [
        "\n",
        "optimizer = torch.optim.Adam(filter(\n",
        "    lambda p : p.requires_grad, model.parameters()),\n",
        "    lr = 0.001\n",
        ")"
      ],
      "execution_count": 32,
      "outputs": []
    },
    {
      "cell_type": "code",
      "metadata": {
        "id": "LtuW-IQO5TR5",
        "outputId": "585eb6e0-b6ce-49de-fd7f-4cab606dbe0d",
        "colab": {
          "base_uri": "https://localhost:8080/",
          "height": 1000
        }
      },
      "source": [
        "model.to(device = 'cuda:0')"
      ],
      "execution_count": 33,
      "outputs": [
        {
          "output_type": "execute_result",
          "data": {
            "text/plain": [
              "PLSnet(\n",
              "  (dsconvolve_1): DSconv(\n",
              "    (dsconv): Sequential(\n",
              "      (0): Conv3d(1, 1, kernel_size=(3, 3, 3), stride=(1, 1, 1))\n",
              "      (1): Conv3d(1, 1, kernel_size=(3, 3, 3), stride=(1, 1, 1), padding=(1, 1, 1))\n",
              "      (2): BatchNorm3d(1, eps=1e-05, momentum=0.1, affine=True, track_running_stats=True)\n",
              "      (3): ReLU(inplace=True)\n",
              "      (4): Conv3d(1, 16, kernel_size=(1, 1, 1), stride=(1, 1, 1), padding=(1, 1, 1))\n",
              "      (5): BatchNorm3d(16, eps=1e-05, momentum=0.1, affine=True, track_running_stats=True)\n",
              "      (6): ReLU(inplace=True)\n",
              "    )\n",
              "  )\n",
              "  (dsconvolve_2): DSconv(\n",
              "    (dsconv): Sequential(\n",
              "      (0): Conv3d(17, 17, kernel_size=(3, 3, 3), stride=(1, 1, 1), groups=17)\n",
              "      (1): Conv3d(17, 17, kernel_size=(3, 3, 3), stride=(1, 1, 1), padding=(1, 1, 1), groups=17)\n",
              "      (2): BatchNorm3d(17, eps=1e-05, momentum=0.1, affine=True, track_running_stats=True)\n",
              "      (3): ReLU(inplace=True)\n",
              "      (4): Conv3d(17, 64, kernel_size=(1, 1, 1), stride=(1, 1, 1), padding=(1, 1, 1))\n",
              "      (5): BatchNorm3d(64, eps=1e-05, momentum=0.1, affine=True, track_running_stats=True)\n",
              "      (6): ReLU(inplace=True)\n",
              "    )\n",
              "  )\n",
              "  (dsconvolve_3): DSconv(\n",
              "    (dsconv): Sequential(\n",
              "      (0): Conv3d(65, 65, kernel_size=(3, 3, 3), stride=(1, 1, 1), groups=65)\n",
              "      (1): Conv3d(65, 65, kernel_size=(3, 3, 3), stride=(1, 1, 1), padding=(1, 1, 1), groups=65)\n",
              "      (2): BatchNorm3d(65, eps=1e-05, momentum=0.1, affine=True, track_running_stats=True)\n",
              "      (3): ReLU(inplace=True)\n",
              "      (4): Conv3d(65, 128, kernel_size=(1, 1, 1), stride=(1, 1, 1), padding=(1, 1, 1))\n",
              "      (5): BatchNorm3d(128, eps=1e-05, momentum=0.1, affine=True, track_running_stats=True)\n",
              "      (6): ReLU(inplace=True)\n",
              "    )\n",
              "  )\n",
              "  (mid_dsconvolve_1): DSconv(\n",
              "    (dsconv): Sequential(\n",
              "      (0): Conv3d(17, 17, kernel_size=(3, 3, 3), stride=(1, 1, 1), groups=17)\n",
              "      (1): Conv3d(17, 17, kernel_size=(3, 3, 3), stride=(1, 1, 1), padding=(1, 1, 1), groups=17)\n",
              "      (2): BatchNorm3d(17, eps=1e-05, momentum=0.1, affine=True, track_running_stats=True)\n",
              "      (3): ReLU(inplace=True)\n",
              "      (4): Conv3d(17, 12, kernel_size=(1, 1, 1), stride=(1, 1, 1), padding=(1, 1, 1))\n",
              "      (5): BatchNorm3d(12, eps=1e-05, momentum=0.1, affine=True, track_running_stats=True)\n",
              "      (6): ReLU(inplace=True)\n",
              "    )\n",
              "  )\n",
              "  (mid_dsconvolve_2): DSconv(\n",
              "    (dsconv): Sequential(\n",
              "      (0): Conv3d(65, 65, kernel_size=(3, 3, 3), stride=(1, 1, 1), groups=65)\n",
              "      (1): Conv3d(65, 65, kernel_size=(3, 3, 3), stride=(1, 1, 1), padding=(1, 1, 1), groups=65)\n",
              "      (2): BatchNorm3d(65, eps=1e-05, momentum=0.1, affine=True, track_running_stats=True)\n",
              "      (3): ReLU(inplace=True)\n",
              "      (4): Conv3d(65, 12, kernel_size=(1, 1, 1), stride=(1, 1, 1), padding=(1, 1, 1))\n",
              "      (5): BatchNorm3d(12, eps=1e-05, momentum=0.1, affine=True, track_running_stats=True)\n",
              "      (6): ReLU(inplace=True)\n",
              "    )\n",
              "  )\n",
              "  (decoder_dsconvolve_1): DSconv(\n",
              "    (dsconv): Sequential(\n",
              "      (0): Conv3d(129, 129, kernel_size=(3, 3, 3), stride=(1, 1, 1), groups=129)\n",
              "      (1): Conv3d(129, 129, kernel_size=(3, 3, 3), stride=(1, 1, 1), padding=(1, 1, 1), groups=129)\n",
              "      (2): BatchNorm3d(129, eps=1e-05, momentum=0.1, affine=True, track_running_stats=True)\n",
              "      (3): ReLU(inplace=True)\n",
              "      (4): Conv3d(129, 12, kernel_size=(1, 1, 1), stride=(1, 1, 1), padding=(1, 1, 1))\n",
              "      (5): BatchNorm3d(12, eps=1e-05, momentum=0.1, affine=True, track_running_stats=True)\n",
              "      (6): ReLU(inplace=True)\n",
              "    )\n",
              "  )\n",
              "  (decoder_dsconvolve_2): DSconv(\n",
              "    (dsconv): Sequential(\n",
              "      (0): Conv3d(24, 24, kernel_size=(3, 3, 3), stride=(1, 1, 1), groups=24)\n",
              "      (1): Conv3d(24, 24, kernel_size=(3, 3, 3), stride=(1, 1, 1), padding=(1, 1, 1), groups=24)\n",
              "      (2): BatchNorm3d(24, eps=1e-05, momentum=0.1, affine=True, track_running_stats=True)\n",
              "      (3): ReLU(inplace=True)\n",
              "      (4): Conv3d(24, 12, kernel_size=(1, 1, 1), stride=(1, 1, 1), padding=(1, 1, 1))\n",
              "      (5): BatchNorm3d(12, eps=1e-05, momentum=0.1, affine=True, track_running_stats=True)\n",
              "      (6): ReLU(inplace=True)\n",
              "    )\n",
              "  )\n",
              "  (decoder_dsconvolve_3): DSconv(\n",
              "    (dsconv): Sequential(\n",
              "      (0): Conv3d(24, 24, kernel_size=(3, 3, 3), stride=(1, 1, 1), groups=24)\n",
              "      (1): Conv3d(24, 24, kernel_size=(3, 3, 3), stride=(1, 1, 1), padding=(1, 1, 1), groups=24)\n",
              "      (2): BatchNorm3d(24, eps=1e-05, momentum=0.1, affine=True, track_running_stats=True)\n",
              "      (3): ReLU(inplace=True)\n",
              "      (4): Conv3d(24, 12, kernel_size=(1, 1, 1), stride=(1, 1, 1), padding=(1, 1, 1))\n",
              "      (5): BatchNorm3d(12, eps=1e-05, momentum=0.1, affine=True, track_running_stats=True)\n",
              "      (6): ReLU(inplace=True)\n",
              "    )\n",
              "  )\n",
              "  (oneconv): Conv3d(12, 6, kernel_size=(1, 1, 1), stride=(1, 1, 1), padding=(1, 1, 1))\n",
              "  (drdb): DRDB(\n",
              "    (conv_1): DSconv(\n",
              "      (dsconv): Sequential(\n",
              "        (0): Conv3d(17, 17, kernel_size=(3, 3, 3), stride=(1, 1, 1), groups=17)\n",
              "        (1): Conv3d(17, 17, kernel_size=(3, 3, 3), stride=(2, 2, 2), padding=(1, 1, 1), groups=17)\n",
              "        (2): BatchNorm3d(17, eps=1e-05, momentum=0.1, affine=True, track_running_stats=True)\n",
              "        (3): ReLU(inplace=True)\n",
              "        (4): Conv3d(17, 17, kernel_size=(1, 1, 1), stride=(2, 2, 2), padding=(1, 1, 1))\n",
              "        (5): BatchNorm3d(17, eps=1e-05, momentum=0.1, affine=True, track_running_stats=True)\n",
              "        (6): ReLU(inplace=True)\n",
              "      )\n",
              "    )\n",
              "    (conv_2): DSconv(\n",
              "      (dsconv): Sequential(\n",
              "        (0): Conv3d(34, 34, kernel_size=(3, 3, 3), stride=(1, 1, 1), groups=34)\n",
              "        (1): Conv3d(34, 34, kernel_size=(3, 3, 3), stride=(2, 2, 2), padding=(1, 1, 1), groups=34)\n",
              "        (2): BatchNorm3d(34, eps=1e-05, momentum=0.1, affine=True, track_running_stats=True)\n",
              "        (3): ReLU(inplace=True)\n",
              "        (4): Conv3d(34, 34, kernel_size=(1, 1, 1), stride=(2, 2, 2), padding=(1, 1, 1))\n",
              "        (5): BatchNorm3d(34, eps=1e-05, momentum=0.1, affine=True, track_running_stats=True)\n",
              "        (6): ReLU(inplace=True)\n",
              "      )\n",
              "    )\n",
              "    (conv_3): DSconv(\n",
              "      (dsconv): Sequential(\n",
              "        (0): Conv3d(51, 51, kernel_size=(3, 3, 3), stride=(1, 1, 1), groups=51)\n",
              "        (1): Conv3d(51, 51, kernel_size=(3, 3, 3), stride=(2, 2, 2), padding=(1, 1, 1), groups=51)\n",
              "        (2): BatchNorm3d(51, eps=1e-05, momentum=0.1, affine=True, track_running_stats=True)\n",
              "        (3): ReLU(inplace=True)\n",
              "        (4): Conv3d(51, 51, kernel_size=(1, 1, 1), stride=(2, 2, 2), padding=(1, 1, 1))\n",
              "        (5): BatchNorm3d(51, eps=1e-05, momentum=0.1, affine=True, track_running_stats=True)\n",
              "        (6): ReLU(inplace=True)\n",
              "      )\n",
              "    )\n",
              "    (conv_4): DSconv(\n",
              "      (dsconv): Sequential(\n",
              "        (0): Conv3d(68, 68, kernel_size=(3, 3, 3), stride=(1, 1, 1), groups=68)\n",
              "        (1): Conv3d(68, 68, kernel_size=(3, 3, 3), stride=(2, 2, 2), padding=(1, 1, 1), groups=68)\n",
              "        (2): BatchNorm3d(68, eps=1e-05, momentum=0.1, affine=True, track_running_stats=True)\n",
              "        (3): ReLU(inplace=True)\n",
              "        (4): Conv3d(68, 68, kernel_size=(1, 1, 1), stride=(2, 2, 2), padding=(1, 1, 1))\n",
              "        (5): BatchNorm3d(68, eps=1e-05, momentum=0.1, affine=True, track_running_stats=True)\n",
              "        (6): ReLU(inplace=True)\n",
              "      )\n",
              "    )\n",
              "    (final_conv): Conv3d(85, 17, kernel_size=(1, 1, 1), stride=(2, 2, 2), padding=(1, 1, 1))\n",
              "  )\n",
              "  (drdbx2): DRDB(\n",
              "    (conv_1): DSconv(\n",
              "      (dsconv): Sequential(\n",
              "        (0): Conv3d(65, 65, kernel_size=(3, 3, 3), stride=(1, 1, 1), groups=65)\n",
              "        (1): Conv3d(65, 65, kernel_size=(3, 3, 3), stride=(2, 2, 2), padding=(1, 1, 1), groups=65)\n",
              "        (2): BatchNorm3d(65, eps=1e-05, momentum=0.1, affine=True, track_running_stats=True)\n",
              "        (3): ReLU(inplace=True)\n",
              "        (4): Conv3d(65, 65, kernel_size=(1, 1, 1), stride=(2, 2, 2), padding=(1, 1, 1))\n",
              "        (5): BatchNorm3d(65, eps=1e-05, momentum=0.1, affine=True, track_running_stats=True)\n",
              "        (6): ReLU(inplace=True)\n",
              "      )\n",
              "    )\n",
              "    (conv_2): DSconv(\n",
              "      (dsconv): Sequential(\n",
              "        (0): Conv3d(130, 130, kernel_size=(3, 3, 3), stride=(1, 1, 1), groups=130)\n",
              "        (1): Conv3d(130, 130, kernel_size=(3, 3, 3), stride=(2, 2, 2), padding=(1, 1, 1), groups=130)\n",
              "        (2): BatchNorm3d(130, eps=1e-05, momentum=0.1, affine=True, track_running_stats=True)\n",
              "        (3): ReLU(inplace=True)\n",
              "        (4): Conv3d(130, 130, kernel_size=(1, 1, 1), stride=(2, 2, 2), padding=(1, 1, 1))\n",
              "        (5): BatchNorm3d(130, eps=1e-05, momentum=0.1, affine=True, track_running_stats=True)\n",
              "        (6): ReLU(inplace=True)\n",
              "      )\n",
              "    )\n",
              "    (conv_3): DSconv(\n",
              "      (dsconv): Sequential(\n",
              "        (0): Conv3d(195, 195, kernel_size=(3, 3, 3), stride=(1, 1, 1), groups=195)\n",
              "        (1): Conv3d(195, 195, kernel_size=(3, 3, 3), stride=(2, 2, 2), padding=(1, 1, 1), groups=195)\n",
              "        (2): BatchNorm3d(195, eps=1e-05, momentum=0.1, affine=True, track_running_stats=True)\n",
              "        (3): ReLU(inplace=True)\n",
              "        (4): Conv3d(195, 195, kernel_size=(1, 1, 1), stride=(2, 2, 2), padding=(1, 1, 1))\n",
              "        (5): BatchNorm3d(195, eps=1e-05, momentum=0.1, affine=True, track_running_stats=True)\n",
              "        (6): ReLU(inplace=True)\n",
              "      )\n",
              "    )\n",
              "    (conv_4): DSconv(\n",
              "      (dsconv): Sequential(\n",
              "        (0): Conv3d(260, 260, kernel_size=(3, 3, 3), stride=(1, 1, 1), groups=260)\n",
              "        (1): Conv3d(260, 260, kernel_size=(3, 3, 3), stride=(2, 2, 2), padding=(1, 1, 1), groups=260)\n",
              "        (2): BatchNorm3d(260, eps=1e-05, momentum=0.1, affine=True, track_running_stats=True)\n",
              "        (3): ReLU(inplace=True)\n",
              "        (4): Conv3d(260, 260, kernel_size=(1, 1, 1), stride=(2, 2, 2), padding=(1, 1, 1))\n",
              "        (5): BatchNorm3d(260, eps=1e-05, momentum=0.1, affine=True, track_running_stats=True)\n",
              "        (6): ReLU(inplace=True)\n",
              "      )\n",
              "    )\n",
              "    (final_conv): Conv3d(325, 65, kernel_size=(1, 1, 1), stride=(2, 2, 2), padding=(1, 1, 1))\n",
              "  )\n",
              "  (drdbx4): DRDB(\n",
              "    (conv_1): DSconv(\n",
              "      (dsconv): Sequential(\n",
              "        (0): Conv3d(129, 129, kernel_size=(3, 3, 3), stride=(1, 1, 1), groups=129)\n",
              "        (1): Conv3d(129, 129, kernel_size=(3, 3, 3), stride=(2, 2, 2), padding=(1, 1, 1), groups=129)\n",
              "        (2): BatchNorm3d(129, eps=1e-05, momentum=0.1, affine=True, track_running_stats=True)\n",
              "        (3): ReLU(inplace=True)\n",
              "        (4): Conv3d(129, 129, kernel_size=(1, 1, 1), stride=(2, 2, 2), padding=(1, 1, 1))\n",
              "        (5): BatchNorm3d(129, eps=1e-05, momentum=0.1, affine=True, track_running_stats=True)\n",
              "        (6): ReLU(inplace=True)\n",
              "      )\n",
              "    )\n",
              "    (conv_2): DSconv(\n",
              "      (dsconv): Sequential(\n",
              "        (0): Conv3d(258, 258, kernel_size=(3, 3, 3), stride=(1, 1, 1), groups=258)\n",
              "        (1): Conv3d(258, 258, kernel_size=(3, 3, 3), stride=(2, 2, 2), padding=(1, 1, 1), groups=258)\n",
              "        (2): BatchNorm3d(258, eps=1e-05, momentum=0.1, affine=True, track_running_stats=True)\n",
              "        (3): ReLU(inplace=True)\n",
              "        (4): Conv3d(258, 258, kernel_size=(1, 1, 1), stride=(2, 2, 2), padding=(1, 1, 1))\n",
              "        (5): BatchNorm3d(258, eps=1e-05, momentum=0.1, affine=True, track_running_stats=True)\n",
              "        (6): ReLU(inplace=True)\n",
              "      )\n",
              "    )\n",
              "    (conv_3): DSconv(\n",
              "      (dsconv): Sequential(\n",
              "        (0): Conv3d(387, 387, kernel_size=(3, 3, 3), stride=(1, 1, 1), groups=387)\n",
              "        (1): Conv3d(387, 387, kernel_size=(3, 3, 3), stride=(2, 2, 2), padding=(1, 1, 1), groups=387)\n",
              "        (2): BatchNorm3d(387, eps=1e-05, momentum=0.1, affine=True, track_running_stats=True)\n",
              "        (3): ReLU(inplace=True)\n",
              "        (4): Conv3d(387, 387, kernel_size=(1, 1, 1), stride=(2, 2, 2), padding=(1, 1, 1))\n",
              "        (5): BatchNorm3d(387, eps=1e-05, momentum=0.1, affine=True, track_running_stats=True)\n",
              "        (6): ReLU(inplace=True)\n",
              "      )\n",
              "    )\n",
              "    (conv_4): DSconv(\n",
              "      (dsconv): Sequential(\n",
              "        (0): Conv3d(516, 516, kernel_size=(3, 3, 3), stride=(1, 1, 1), groups=516)\n",
              "        (1): Conv3d(516, 516, kernel_size=(3, 3, 3), stride=(2, 2, 2), padding=(1, 1, 1), groups=516)\n",
              "        (2): BatchNorm3d(516, eps=1e-05, momentum=0.1, affine=True, track_running_stats=True)\n",
              "        (3): ReLU(inplace=True)\n",
              "        (4): Conv3d(516, 516, kernel_size=(1, 1, 1), stride=(2, 2, 2), padding=(1, 1, 1))\n",
              "        (5): BatchNorm3d(516, eps=1e-05, momentum=0.1, affine=True, track_running_stats=True)\n",
              "        (6): ReLU(inplace=True)\n",
              "      )\n",
              "    )\n",
              "    (final_conv): Conv3d(645, 129, kernel_size=(1, 1, 1), stride=(2, 2, 2), padding=(1, 1, 1))\n",
              "  )\n",
              "  (TLupsample): Upsample(scale_factor=2.0, mode=trilinear)\n",
              "  (softmaxAF): Softmax(dim=None)\n",
              ")"
            ]
          },
          "metadata": {
            "tags": []
          },
          "execution_count": 33
        }
      ]
    },
    {
      "cell_type": "code",
      "metadata": {
        "id": "yQg0vWoe5XIc"
      },
      "source": [
        "batch_size = 64\n",
        "batch_x_placeholder = torch.zeros(size= [batch_size, 1, 10, 512, 512], dtype = torch.float32, device =torch.device('cuda:0'))\n",
        "batch_y_placeholder = torch.zeros(size= [batch_size, 1, 10, 512, 512], dtype = torch.long, device = torch.device('cuda:0'))\n",
        "\n",
        "x_train = vessel12_21[200:210]\n",
        "y_train = vessel12_21_mask[200:210]\n",
        "\n",
        "epochs = 10"
      ],
      "execution_count": 34,
      "outputs": []
    },
    {
      "cell_type": "code",
      "metadata": {
        "id": "dq4esN2L5Zzg"
      },
      "source": [
        "from time import time"
      ],
      "execution_count": 35,
      "outputs": []
    },
    {
      "cell_type": "code",
      "metadata": {
        "id": "rOw0iAEZ5b8C",
        "outputId": "fe4fff2d-b2e4-40ce-ea77-6d3367aee97d",
        "colab": {
          "base_uri": "https://localhost:8080/",
          "height": 558
        }
      },
      "source": [
        "iters_per_epoch = int(np.ceil(1.0 * len(x_train) / batch_size))\n",
        "\n",
        "for e in range(epochs):\n",
        "    t_start = time()\n",
        "\n",
        "    model.train() # training phase\n",
        "\n",
        "    # shuffling\n",
        "    inds = np.arange(len(x_train))\n",
        "    np.random.shuffle(inds)\n",
        "\n",
        "    epoch_loss = 0\n",
        "    true_positive = 0\n",
        "\n",
        "\n",
        "    # iterating over the whole training set\n",
        "    for iter in range(iters_per_epoch):\n",
        "\n",
        "        batch_inds = inds[iter * batch_size: min(len(inds), (iter + 1) * batch_size)]\n",
        "\n",
        "        # reshaping placeholders\n",
        "        if len(batch_inds) != len(batch_x_placeholder):\n",
        "            batch_x_placeholder.resize_([len(batch_inds), 1, 10, 512, 512])\n",
        "            batch_y_placeholder.resize_([len(batch_inds), 1, 10, 512, 512])\n",
        "\n",
        "        # print(\"HERE\")\n",
        "        # print(y_train.shape)\n",
        "        # print(batch_y_placeholder.shape)\n",
        "        # batch_x_placeholder.copy_(torch.Tensor(x_train[batch_inds, np.newaxis, :, :, :]))\n",
        "        # batch_y_placeholder.copy_(torch.Tensor(y_train[batch_inds, np.newaxis, :, :, :]))\n",
        "\n",
        "        b_decision, b_loss = model(batch_x_placeholder, batch_y_placeholder)\n",
        "        b_decision = b_decision.cpu().numpy()\n",
        "      \n",
        "        epoch_loss += float(b_loss) / iters_per_epoch  # CARE: WE SHOULD USE FLOAT OVER LOSS\n",
        "        true_positive += np.sum(y_train[batch_inds].astype(int) == b_decision)\n",
        "\n",
        "        b_loss.backward() # calculates derivations\n",
        "\n",
        "        optimizer.step()\n",
        "        optimizer.zero_grad() # CARE: MUST DO\n",
        "\n",
        "    epoch_train_accuracy = true_positive * 100.0 / len(x_train)\n",
        "    train_loss[e] = epoch_loss\n",
        "    train_acc[e] = epoch_train_accuracy\n",
        "    \n",
        " # Validating over validation data\n",
        "    with torch.no_grad():\n",
        "        model.eval()  # validation phase\n",
        "\n",
        "        val_inds = np.arange(len(x_val))\n",
        "\n",
        "        val_iters_per_epoch = int(np.ceil(1.0 * len(x_val) / batch_size))\n",
        "\n",
        "        epoch_validation_loss = 0\n",
        "        val_true_positive = 0\n",
        "\n",
        "\n",
        "        # iterating over the whole training set\n",
        "        for iter in range(val_iters_per_epoch):\n",
        "\n",
        "            val_batch_inds = val_inds[iter * batch_size: min(len(val_inds), (iter + 1) * batch_size)]\n",
        "\n",
        "            # reshaping placeholders\n",
        "            if len(batch_inds) != len(batch_x_placeholder):\n",
        "                batch_x_placeholder.resize_([len(batch_inds), 1, 10, 512, 512])\n",
        "                batch_y_placeholder.resize_([len(batch_inds), 1, 10, 512, 512])\n",
        "\n",
        "            # batch_x_placeholder.copy_(torch.Tensor(x_train[batch_inds, np.newaxis, :, :, :]))\n",
        "            # batch_y_placeholder.copy_(torch.Tensor(y_train[batch_inds, np.newaxis, :, :, :]))\n",
        "\n",
        "            b_decision, b_loss = model(batch_x_placeholder, batch_y_placeholder)\n",
        "            b_decision = b_decision.cpu().numpy()\n",
        "        \n",
        "            epoch_validation_loss += float(b_loss) / val_iters_per_epoch  # CARE: WE SHOULD USE FLOAT OVER LOSS\n",
        "            val_true_positive += np.sum(y_val[val_batch_inds].astype(int) == b_decision)\n",
        "                \n",
        "        epoch_validation_accuracy = val_true_positive * 100.0 / len(x_val)\n",
        "        val_loss[e] = epoch_validation_loss\n",
        "        val_acc[e] = epoch_validation_accuracy\n",
        "        # TO Complete\n",
        "    \n",
        "    print(f'Train epoch Loss: {epoch_loss:.4f}, train accuracy: {epoch_train_accuracy:.2f}, Validation Loss: {epoch_validation_loss:.4f}, validation accuracy: {epoch_validation_accuracy:.2f}')\n",
        "\n",
        "    # Saving the model and optimizer state\n",
        "    torch.save({\n",
        "            'epoch': e,\n",
        "            'optimizer_state_dict': optimizer.state_dict(),\n",
        "            'model_state_dict': model.state_dict(),\n",
        "            'train_loss': epoch_loss,\n",
        "            'train_accuracy': epoch_train_accuracy,\n",
        "            'validation_loss': epoch_validation_loss,\n",
        "            'validation_accuracy': epoch_validation_accuracy\n",
        "        }, 'epoch_%d_state.pt' % e)\n",
        "\n",
        "    print('Epoch %d ended in %.2f secs.' % (e, time() - t_start,))\n"
      ],
      "execution_count": 36,
      "outputs": [
        {
          "output_type": "stream",
          "text": [
            "dsconv shape of input: torch.Size([10, 1, 10, 512, 512])\n",
            "testing\n",
            "torch.Size([10, 16, 10, 512, 512])\n",
            "torch.Size([10, 1, 5, 256, 256])\n"
          ],
          "name": "stdout"
        },
        {
          "output_type": "stream",
          "text": [
            "/usr/local/lib/python3.6/dist-packages/torch/nn/functional.py:3121: UserWarning: Default upsampling behavior when mode=trilinear is changed to align_corners=False since 0.4.0. Please specify align_corners=True if the old behavior is desired. See the documentation of nn.Upsample for details.\n",
            "  \"See the documentation of nn.Upsample for details.\".format(mode))\n",
            "/usr/local/lib/python3.6/dist-packages/torch/nn/functional.py:3000: UserWarning: The default behavior for interpolate/upsample with float scale_factor changed in 1.6.0 to align with other frameworks/libraries, and uses scale_factor directly, instead of relying on the computed output size. If you wish to keep the old behavior, please set recompute_scale_factor=True. See the documentation of nn.Upsample for details. \n",
            "  warnings.warn(\"The default behavior for interpolate/upsample with float scale_factor changed \"\n"
          ],
          "name": "stderr"
        },
        {
          "output_type": "error",
          "ename": "RuntimeError",
          "evalue": "ignored",
          "traceback": [
            "\u001b[0;31m---------------------------------------------------------------------------\u001b[0m",
            "\u001b[0;31mRuntimeError\u001b[0m                              Traceback (most recent call last)",
            "\u001b[0;32m<ipython-input-36-ef047490ea3a>\u001b[0m in \u001b[0;36m<module>\u001b[0;34m()\u001b[0m\n\u001b[1;32m     30\u001b[0m         \u001b[0;31m# batch_y_placeholder.copy_(torch.Tensor(y_train[batch_inds, np.newaxis, :, :, :]))\u001b[0m\u001b[0;34m\u001b[0m\u001b[0;34m\u001b[0m\u001b[0;34m\u001b[0m\u001b[0m\n\u001b[1;32m     31\u001b[0m \u001b[0;34m\u001b[0m\u001b[0m\n\u001b[0;32m---> 32\u001b[0;31m         \u001b[0mb_decision\u001b[0m\u001b[0;34m,\u001b[0m \u001b[0mb_loss\u001b[0m \u001b[0;34m=\u001b[0m \u001b[0mmodel\u001b[0m\u001b[0;34m(\u001b[0m\u001b[0mbatch_x_placeholder\u001b[0m\u001b[0;34m,\u001b[0m \u001b[0mbatch_y_placeholder\u001b[0m\u001b[0;34m)\u001b[0m\u001b[0;34m\u001b[0m\u001b[0;34m\u001b[0m\u001b[0m\n\u001b[0m\u001b[1;32m     33\u001b[0m         \u001b[0mb_decision\u001b[0m \u001b[0;34m=\u001b[0m \u001b[0mb_decision\u001b[0m\u001b[0;34m.\u001b[0m\u001b[0mcpu\u001b[0m\u001b[0;34m(\u001b[0m\u001b[0;34m)\u001b[0m\u001b[0;34m.\u001b[0m\u001b[0mnumpy\u001b[0m\u001b[0;34m(\u001b[0m\u001b[0;34m)\u001b[0m\u001b[0;34m\u001b[0m\u001b[0;34m\u001b[0m\u001b[0m\n\u001b[1;32m     34\u001b[0m \u001b[0;34m\u001b[0m\u001b[0m\n",
            "\u001b[0;32m/usr/local/lib/python3.6/dist-packages/torch/nn/modules/module.py\u001b[0m in \u001b[0;36m_call_impl\u001b[0;34m(self, *input, **kwargs)\u001b[0m\n\u001b[1;32m    720\u001b[0m             \u001b[0mresult\u001b[0m \u001b[0;34m=\u001b[0m \u001b[0mself\u001b[0m\u001b[0;34m.\u001b[0m\u001b[0m_slow_forward\u001b[0m\u001b[0;34m(\u001b[0m\u001b[0;34m*\u001b[0m\u001b[0minput\u001b[0m\u001b[0;34m,\u001b[0m \u001b[0;34m**\u001b[0m\u001b[0mkwargs\u001b[0m\u001b[0;34m)\u001b[0m\u001b[0;34m\u001b[0m\u001b[0;34m\u001b[0m\u001b[0m\n\u001b[1;32m    721\u001b[0m         \u001b[0;32melse\u001b[0m\u001b[0;34m:\u001b[0m\u001b[0;34m\u001b[0m\u001b[0;34m\u001b[0m\u001b[0m\n\u001b[0;32m--> 722\u001b[0;31m             \u001b[0mresult\u001b[0m \u001b[0;34m=\u001b[0m \u001b[0mself\u001b[0m\u001b[0;34m.\u001b[0m\u001b[0mforward\u001b[0m\u001b[0;34m(\u001b[0m\u001b[0;34m*\u001b[0m\u001b[0minput\u001b[0m\u001b[0;34m,\u001b[0m \u001b[0;34m**\u001b[0m\u001b[0mkwargs\u001b[0m\u001b[0;34m)\u001b[0m\u001b[0;34m\u001b[0m\u001b[0;34m\u001b[0m\u001b[0m\n\u001b[0m\u001b[1;32m    723\u001b[0m         for hook in itertools.chain(\n\u001b[1;32m    724\u001b[0m                 \u001b[0m_global_forward_hooks\u001b[0m\u001b[0;34m.\u001b[0m\u001b[0mvalues\u001b[0m\u001b[0;34m(\u001b[0m\u001b[0;34m)\u001b[0m\u001b[0;34m,\u001b[0m\u001b[0;34m\u001b[0m\u001b[0;34m\u001b[0m\u001b[0m\n",
            "\u001b[0;32m<ipython-input-30-96eb81a34ea3>\u001b[0m in \u001b[0;36mforward\u001b[0;34m(self, InputImage, real_mask)\u001b[0m\n\u001b[1;32m     33\u001b[0m     \u001b[0mprint\u001b[0m\u001b[0;34m(\u001b[0m\u001b[0mDSconv_1\u001b[0m\u001b[0;34m.\u001b[0m\u001b[0mshape\u001b[0m\u001b[0;34m)\u001b[0m\u001b[0;34m\u001b[0m\u001b[0;34m\u001b[0m\u001b[0m\n\u001b[1;32m     34\u001b[0m     \u001b[0mprint\u001b[0m\u001b[0;34m(\u001b[0m\u001b[0mInputImage\u001b[0m\u001b[0;34m.\u001b[0m\u001b[0mshape\u001b[0m\u001b[0;34m)\u001b[0m\u001b[0;34m\u001b[0m\u001b[0;34m\u001b[0m\u001b[0m\n\u001b[0;32m---> 35\u001b[0;31m     \u001b[0mconcat_1\u001b[0m \u001b[0;34m=\u001b[0m \u001b[0mtorch\u001b[0m\u001b[0;34m.\u001b[0m\u001b[0mcat\u001b[0m\u001b[0;34m(\u001b[0m\u001b[0;34m[\u001b[0m\u001b[0mDSconv_1\u001b[0m\u001b[0;34m,\u001b[0m\u001b[0mInputImage\u001b[0m\u001b[0;34m]\u001b[0m\u001b[0;34m,\u001b[0m \u001b[0mdim\u001b[0m\u001b[0;34m=\u001b[0m\u001b[0;36m1\u001b[0m\u001b[0;34m)\u001b[0m\u001b[0;34m\u001b[0m\u001b[0;34m\u001b[0m\u001b[0m\n\u001b[0m\u001b[1;32m     36\u001b[0m     \u001b[0mDRDB1_output\u001b[0m \u001b[0;34m=\u001b[0m \u001b[0mself\u001b[0m\u001b[0;34m.\u001b[0m\u001b[0mdrdb\u001b[0m\u001b[0;34m(\u001b[0m\u001b[0mconcat_1\u001b[0m\u001b[0;34m)\u001b[0m\u001b[0;34m\u001b[0m\u001b[0;34m\u001b[0m\u001b[0m\n\u001b[1;32m     37\u001b[0m     \u001b[0;31m# resolution = 2 in encoder\u001b[0m\u001b[0;34m\u001b[0m\u001b[0;34m\u001b[0m\u001b[0;34m\u001b[0m\u001b[0m\n",
            "\u001b[0;31mRuntimeError\u001b[0m: Sizes of tensors must match except in dimension 2. Got 5 and 10 (The offending index is 0)"
          ]
        }
      ]
    },
    {
      "cell_type": "code",
      "metadata": {
        "id": "SCphHKVRW_RG"
      },
      "source": [
        ""
      ],
      "execution_count": null,
      "outputs": []
    }
  ]
}