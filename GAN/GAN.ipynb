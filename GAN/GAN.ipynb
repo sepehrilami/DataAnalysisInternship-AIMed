{
  "nbformat": 4,
  "nbformat_minor": 0,
  "metadata": {
    "kernelspec": {
      "display_name": "Python 3",
      "language": "python",
      "name": "python3"
    },
    "language_info": {
      "codemirror_mode": {
        "name": "ipython",
        "version": 3
      },
      "file_extension": ".py",
      "mimetype": "text/x-python",
      "name": "python",
      "nbconvert_exporter": "python",
      "pygments_lexer": "ipython3",
      "version": "3.6.6"
    },
    "colab": {
      "name": "Copy of mnist-cgan.ipynb",
      "provenance": [],
      "collapsed_sections": []
    },
    "accelerator": "GPU"
  },
  "cells": [
    {
      "cell_type": "code",
      "metadata": {
        "id": "U3aLA5Ft6AIK",
        "colab_type": "code",
        "colab": {}
      },
      "source": [
        "import torch\n",
        "import torch.nn as nn\n",
        "from torchvision.datasets import ImageFolder, MNIST\n",
        "from torchvision import transforms\n",
        "from torch import autograd\n",
        "import numpy as np"
      ],
      "execution_count": 1,
      "outputs": []
    },
    {
      "cell_type": "code",
      "metadata": {
        "id": "Y8k-HBP0WwdR",
        "colab_type": "code",
        "colab": {}
      },
      "source": [
        "class Generator(nn.Module):\n",
        "    def __init__(self):\n",
        "\n",
        "        super(Generator, self).__init__()\n",
        "\n",
        "        self.model = nn.Sequential(                                                         # B 1 28 14\n",
        "                                   \n",
        "            torch.nn.Conv2d(1, 32, 3, stride = 1, padding = (3, 2)),                        # B 32 32 16\n",
        "            torch.nn.LeakyReLU(0.2, inplace = True),\n",
        "            torch.nn.Conv2d(32, 32, 3, stride = 1, padding = 1),                            # B 32 32 16\n",
        "            torch.nn.LeakyReLU(0.2, inplace = True),\n",
        "            torch.nn.MaxPool2d(2, stride = 2, padding = 0),                                 # B 32 16 8\n",
        "\n",
        "            torch.nn.Conv2d(32, 64, 3, stride = 1, padding = 1),                            # B 64 16 8\n",
        "            torch.nn.LeakyReLU(0.2, inplace = 0.2),\n",
        "            torch.nn.Conv2d(64, 64, 3, stride = 1, padding = 1),                            # B 64 16 8\n",
        "            torch.nn.LeakyReLU(0.2, inplace = True),\n",
        "            torch.nn.MaxPool2d(2, stride = 2, padding = 0),                                 # B 64 8 4\n",
        "            \n",
        "            torch.nn.Conv2d(64, 128, 3, stride = 1, padding = 1),                           # B 128 8 4   \n",
        "            torch.nn.LeakyReLU(0.2, inplace = True),\n",
        "            torch.nn.MaxPool2d(2, stride = 2, padding = 0),                                 # B 128 8 4\n",
        "            torch.nn.LeakyReLU(0.2, inplace = True),\n",
        "\n",
        "            torch.nn.Conv2d(128, 256, 3, stride = 1, padding = (1, 3)),                     # B 256 8 8\n",
        "            torch.nn.LeakyReLU(0.2, inplace = True),\n",
        "            torch.nn.MaxPool2d(2, stride = 2, padding = 0),                                 # B 256 4 4\n",
        "            torch.nn.LeakyReLU(0.2, inplace = True),  \n",
        "\n",
        "            torch.nn.MaxPool2d(2, stride = 2, padding = 0),                                 # B 256 2 2\n",
        "            torch.nn.LeakyReLU(0.2, inplace = True),           \n",
        "        )    \n",
        "        \n",
        "        self.decider = torch.nn.Sequential(\n",
        "            torch.nn.Dropout(0.2),\n",
        "            torch.nn.Linear(256, 128),                                                      # B 128\n",
        "            torch.nn.LeakyReLU(),\n",
        "        )\n",
        "\n",
        "\n",
        "        self.sequential_transpose = nn.Sequential( # B 128 2 1\n",
        "            torch.nn.ConvTranspose2d(128, 64, kernel_size = 2, stride = 2, padding = 0),    # B 64 4 2    \n",
        "            torch.nn.LeakyReLU(),\n",
        "            torch.nn.ConvTranspose2d(64, 32, kernel_size = 2, stride = 2, padding = 0),     # B 64 8 4\n",
        "            torch.nn.LeakyReLU(),\n",
        "            torch.nn.ConvTranspose2d(32, 32, kernel_size = 2, stride = 2, padding = 0),     # B 32 16 8\n",
        "            torch.nn.LeakyReLU(),\n",
        "            torch.nn.ConvTranspose2d(32, 16, kernel_size = 2, stride = 2, padding = 0),     # B 16 32 16\n",
        "            torch.nn.LeakyReLU(),\n",
        "            torch.nn.ConvTranspose2d(16, 1, kernel_size = 3, stride = 1, padding = (3, 2)), # B 8 28 14\n",
        "            torch.nn.LeakyReLU(),\n",
        "        )\n",
        "\n",
        "        self.lin = torch.nn.Linear(100, 128)\n",
        "\n",
        "    def unsqueeze(self, input):\n",
        "        half = torch.unsqueeze(input, 2)\n",
        "        return torch.unsqueeze(half, 2)\n",
        "    \n",
        "    def forward(self, left, noise):\n",
        "        out = self.model(left)\n",
        "        out = self.decider(out.flatten(1))\n",
        "        out = self.unsqueeze(out)\n",
        "        noise = self.lin(noise.flatten(1))\n",
        "        noise = self.unsqueeze(noise)\n",
        "        print(\"noiseeeee\", noise.shape)\n",
        "        gen_out = torch.cat([out, noise], 2)\n",
        "        picture = self.sequential_transpose(gen_out)\n",
        "        return picture\n",
        "\n"
      ],
      "execution_count": 30,
      "outputs": []
    },
    {
      "cell_type": "code",
      "metadata": {
        "id": "2x-hHnl8W7LK",
        "colab_type": "code",
        "colab": {}
      },
      "source": [
        "class Discriminator(nn.Module):\n",
        "    def __init__(self):\n",
        "\n",
        "        super(Discriminator, self).__init__()\n",
        "\n",
        "        self.model = nn.Sequential(                                                         # B 1 28 28\n",
        "                                   \n",
        "            torch.nn.Conv2d(1, 32, 3, stride = 1, padding = 3),                             # B 32 32 32\n",
        "            torch.nn.LeakyReLU(0.2, inplace = True),\n",
        "            torch.nn.MaxPool2d(2, stride = 2, padding = 0),                                 # B 32 16 16\n",
        "\n",
        "            torch.nn.Conv2d(32, 64, 3, stride = 1, padding = 1),                            # B 64 16 16\n",
        "            torch.nn.LeakyReLU(0.2, inplace = 0.2),\n",
        "            torch.nn.Conv2d(64, 64, 3, stride = 1, padding = 1),                            # B 64 16 16\n",
        "            torch.nn.LeakyReLU(0.2, inplace = True),\n",
        "            torch.nn.MaxPool2d(2, stride = 2, padding = 0),                                 # B 64 8 8\n",
        "            \n",
        "            torch.nn.Conv2d(64, 128, 3, stride = 1, padding = 1),                           # B 128 16 16  \n",
        "            torch.nn.LeakyReLU(0.2, inplace = True),\n",
        "            torch.nn.Conv2d(128, 128, 3, stride = 1, padding = 1),                          # B 128 16 16\n",
        "            torch.nn.LeakyReLU(0.2, inplace = True),\n",
        "            torch.nn.MaxPool2d(2, stride = 2, padding = 0),                                 # B 128 8 8\n",
        "            torch.nn.LeakyReLU(0.2, inplace = True),\n",
        "\n",
        "            torch.nn.Conv2d(128, 256, 3, stride = 1, padding = 1),                          # B 256 8 8\n",
        "            torch.nn.LeakyReLU(0.2, inplace = True),\n",
        "            torch.nn.MaxPool2d(2, stride = 2, padding = 0),                                 # B 256 4 4\n",
        "            torch.nn.LeakyReLU(0.2, inplace = True),  \n",
        "\n",
        "            torch.nn.MaxPool2d(2, stride = 2, padding = 0),                                 # B 256 2 2\n",
        "            torch.nn.LeakyReLU(0.2, inplace = True),           \n",
        "        )   \n",
        "\n",
        "        self.decider = torch.nn.Sequential(\n",
        "            torch.nn.Dropout(0.2),\n",
        "            torch.nn.Linear(256, 128),                                                      # B 128\n",
        "            torch.nn.LeakyReLU(),\n",
        "            torch.nn.Linear(128, 1),                                                      # B 128\n",
        "            torch.nn.Sigmoid()\n",
        "        )\n",
        "\n",
        "    def forward(self, pictures):\n",
        "        if len(pictures.shape) == 3:\n",
        "            pictures = pictures.unsqueeze(1)\n",
        "        features = self.model(pictures)\n",
        "        out = self.decider(features.flatten(1))\n",
        "        out = out.squeeze(1)\n",
        "        return out\n",
        "\n",
        "\n"
      ],
      "execution_count": 3,
      "outputs": []
    },
    {
      "cell_type": "code",
      "metadata": {
        "id": "wKkVXqSWCssO",
        "colab_type": "code",
        "colab": {}
      },
      "source": [
        "batch_size = 256"
      ],
      "execution_count": 4,
      "outputs": []
    },
    {
      "cell_type": "code",
      "metadata": {
        "id": "V4H5Bs5rB-bE",
        "colab_type": "code",
        "colab": {}
      },
      "source": [
        "array = torch.zeros((batch_size, 1, 28, 14))\n",
        "noise_example = torch.zeros((batch_size, 100, 1, 1))"
      ],
      "execution_count": 5,
      "outputs": []
    },
    {
      "cell_type": "code",
      "metadata": {
        "id": "KnGUBUADbCml",
        "colab_type": "code",
        "colab": {}
      },
      "source": [
        "def loss_discriminator(criterion, dis_out, expected):\n",
        "    return criterion(dis_out, expected)"
      ],
      "execution_count": 6,
      "outputs": []
    },
    {
      "cell_type": "code",
      "metadata": {
        "id": "fKHOmc2uANrm",
        "colab_type": "code",
        "colab": {}
      },
      "source": [
        "from sklearn.datasets import fetch_openml\n",
        "mnist = fetch_openml('mnist_784')"
      ],
      "execution_count": 7,
      "outputs": []
    },
    {
      "cell_type": "code",
      "metadata": {
        "id": "akExxI8sAPi1",
        "colab_type": "code",
        "colab": {
          "base_uri": "https://localhost:8080/",
          "height": 50
        },
        "outputId": "f8cf9f62-ac4f-4941-b298-d0728162a99a"
      },
      "source": [
        "x = mnist.data\n",
        "y = mnist.target\n",
        "print(type(y))\n",
        "print(x.shape)"
      ],
      "execution_count": 8,
      "outputs": [
        {
          "output_type": "stream",
          "text": [
            "<class 'numpy.ndarray'>\n",
            "(70000, 784)\n"
          ],
          "name": "stdout"
        }
      ]
    },
    {
      "cell_type": "code",
      "metadata": {
        "id": "Ig4MsYn7ASX0",
        "colab_type": "code",
        "colab": {}
      },
      "source": [
        "x = x.reshape((70000, 28, 28))"
      ],
      "execution_count": 9,
      "outputs": []
    },
    {
      "cell_type": "code",
      "metadata": {
        "id": "K4eBePHQAUov",
        "colab_type": "code",
        "colab": {}
      },
      "source": [
        "from sklearn.model_selection import train_test_split"
      ],
      "execution_count": 10,
      "outputs": []
    },
    {
      "cell_type": "code",
      "metadata": {
        "id": "Y1yVJ-QSAcLi",
        "colab_type": "code",
        "colab": {
          "base_uri": "https://localhost:8080/",
          "height": 34
        },
        "outputId": "d7b9c77f-fe38-4832-b08c-c1b815040dfd"
      },
      "source": [
        "x_train, x_test, y_train, y_test = train_test_split(x, y, test_size = 0.3, random_state = 17)\n",
        "x_train, x_val, y_train, y_val =  train_test_split(x_train, y_train, test_size=0.2, random_state=40)\n",
        "print('%d train, %d validation, %d test data' % (len(x_train), len(x_val), len(x_test)))"
      ],
      "execution_count": 11,
      "outputs": [
        {
          "output_type": "stream",
          "text": [
            "39200 train, 9800 validation, 21000 test data\n"
          ],
          "name": "stdout"
        }
      ]
    },
    {
      "cell_type": "code",
      "metadata": {
        "id": "rChIbxnBVX35",
        "colab_type": "code",
        "colab": {}
      },
      "source": [
        "def concat_left_and_right(correct_left, gen_out):\n",
        "    pictures = torch.cat([correct_left, gen_out], 2)\n",
        "    return pictures"
      ],
      "execution_count": 12,
      "outputs": []
    },
    {
      "cell_type": "code",
      "metadata": {
        "id": "-qxmWOnZg-pb",
        "colab_type": "code",
        "colab": {}
      },
      "source": [
        "def generator_trainer(generator, discriminator, b_images, g_optimizer, criterion):    \n",
        "    \n",
        "    gen_optimizer.zero_grad()\n",
        "    B = b_images.shape[0]\n",
        "\n",
        "    noise = torch.randn(B, 100, 1, 1, device='cuda')\n",
        "    images = torch.tensor(b_images,).cuda()\n",
        "\n",
        "    left = images[:, :, :, :14]                                       # B 28  14\n",
        "    right = images[:, :, :, 14:]                                      # B 28  14\n",
        "\n",
        "    fake_right = generator(left, noise)                                 # B 28  14\n",
        "    validity = discriminator(torch.cat((left, fake_right), dim=3)).cuda()      # B\n",
        "\n",
        "    g_loss = criterion(validity, torch.ones(B).cuda())\n",
        "    g_loss.backward()\n",
        "    \n",
        "    gen_optimizer.step()\n",
        "    return g_loss"
      ],
      "execution_count": 13,
      "outputs": []
    },
    {
      "cell_type": "code",
      "metadata": {
        "id": "MxCMLdjALCci",
        "colab_type": "code",
        "colab": {}
      },
      "source": [
        "def discriminator_trainer(criterion, discriminator, right_pic):    \n",
        "    \n",
        "    length = right_pic.shape[0]\n",
        "    real_images = (right_pic[:length // 2])\n",
        "    fake_images = (right_pic[length // 2:])\n",
        "\n",
        "    noise = torch.randn(fake_images.shape[0], 100, 1, 1).cuda()\n",
        "    left = fake_images[:, :, :, :14]\n",
        "    with torch.no_grad():\n",
        "        fake_right = generator(left, noise).detach()\n",
        "    generated_images = torch.cat((left, fake_right), dim=3)                     # B/2   28  28\n",
        "\n",
        "    discriminator_inputs = torch.cat((real_images, generated_images), dim=0)    # B     28  28\n",
        "    expected = torch.cat((torch.ones(real_images.shape[0]), torch.zeros(generated_images.shape[0])), dim=0).cuda()   # B\n",
        "\n",
        "    dis_out = discriminator(discriminator_inputs).cuda()  \n",
        "    d_loss = loss_discriminator(criterion, dis_out, expected)\n",
        "    d_loss.backward()\n",
        "\n",
        "    dis_optimizer.step()\n",
        "    dis_optimizer.zero_grad()\n",
        "\n",
        "    return (d_loss)\n"
      ],
      "execution_count": 14,
      "outputs": []
    },
    {
      "cell_type": "code",
      "metadata": {
        "id": "6_pP4y5Q7gZV",
        "colab_type": "code",
        "colab": {}
      },
      "source": [
        "epochs = 20"
      ],
      "execution_count": 15,
      "outputs": []
    },
    {
      "cell_type": "code",
      "metadata": {
        "id": "K1G-vod76R6y",
        "colab_type": "code",
        "colab": {}
      },
      "source": [
        "train_loss = np.zeros((epochs,))"
      ],
      "execution_count": 16,
      "outputs": []
    },
    {
      "cell_type": "code",
      "metadata": {
        "id": "N6bM3iIY7LFw",
        "colab_type": "code",
        "colab": {}
      },
      "source": [
        "generator = Generator().cuda()\n",
        "discriminator = Discriminator().cuda()"
      ],
      "execution_count": 17,
      "outputs": []
    },
    {
      "cell_type": "code",
      "metadata": {
        "id": "YnLsakeI7CAX",
        "colab_type": "code",
        "colab": {}
      },
      "source": [
        "gen_optimizer = torch.optim.Adam(filter(\n",
        "    lambda p : p.requires_grad, generator.parameters()),\n",
        "    lr = 0.001\n",
        ") "
      ],
      "execution_count": 18,
      "outputs": []
    },
    {
      "cell_type": "code",
      "metadata": {
        "id": "TwHLAg6fcgAt",
        "colab_type": "code",
        "colab": {}
      },
      "source": [
        "dis_optimizer = torch.optim.Adam(filter(\n",
        "    lambda p : p.requires_grad, discriminator.parameters()),\n",
        "    lr = 0.001\n",
        ")"
      ],
      "execution_count": 19,
      "outputs": []
    },
    {
      "cell_type": "code",
      "metadata": {
        "id": "wLUzFN_97mRf",
        "colab_type": "code",
        "colab": {}
      },
      "source": [
        "from time import time"
      ],
      "execution_count": 20,
      "outputs": []
    },
    {
      "cell_type": "code",
      "metadata": {
        "id": "OfhjeLou7yBi",
        "colab_type": "code",
        "colab": {
          "base_uri": "https://localhost:8080/",
          "height": 34
        },
        "outputId": "37d2ef69-5aa4-4bf9-c1f8-1783a54c721d"
      },
      "source": [
        "print(x_train.shape)"
      ],
      "execution_count": 21,
      "outputs": [
        {
          "output_type": "stream",
          "text": [
            "(39200, 28, 28)\n"
          ],
          "name": "stdout"
        }
      ]
    },
    {
      "cell_type": "code",
      "metadata": {
        "id": "W5SQWFeYHyMt",
        "colab_type": "code",
        "colab": {
          "base_uri": "https://localhost:8080/",
          "height": 34
        },
        "outputId": "dc9b95a7-b5d1-46d4-c0ff-38cda5084592"
      },
      "source": [
        "x_train = np.expand_dims(x_train, axis=1)\n",
        "print(x_train.shape)"
      ],
      "execution_count": 22,
      "outputs": [
        {
          "output_type": "stream",
          "text": [
            "(39200, 1, 28, 28)\n"
          ],
          "name": "stdout"
        }
      ]
    },
    {
      "cell_type": "code",
      "metadata": {
        "id": "ZTqRlvfr_mgX",
        "colab_type": "code",
        "colab": {}
      },
      "source": [
        "x_train = torch.Tensor(x_train)"
      ],
      "execution_count": 23,
      "outputs": []
    },
    {
      "cell_type": "code",
      "metadata": {
        "id": "HrwhDc1rDwEU",
        "colab_type": "code",
        "colab": {
          "base_uri": "https://localhost:8080/",
          "height": 34
        },
        "outputId": "191d704a-a398-4efd-88a2-168ad93e090a"
      },
      "source": [
        "x_val = np.expand_dims(x_val, axis=1)\n",
        "x_val.shape"
      ],
      "execution_count": 24,
      "outputs": [
        {
          "output_type": "execute_result",
          "data": {
            "text/plain": [
              "(9800, 1, 28, 28)"
            ]
          },
          "metadata": {
            "tags": []
          },
          "execution_count": 24
        }
      ]
    },
    {
      "cell_type": "code",
      "metadata": {
        "id": "ZZ5HX0BkEJqg",
        "colab_type": "code",
        "colab": {}
      },
      "source": [
        "x_val = torch.Tensor(x_val).cuda()"
      ],
      "execution_count": 25,
      "outputs": []
    },
    {
      "cell_type": "code",
      "metadata": {
        "id": "kKBqwGZzK7_o",
        "colab_type": "code",
        "colab": {}
      },
      "source": [
        "def draw(images, texts, columns=1, rows=1):\n",
        "    fig = plt.figure(figsize=(2 * columns, 2 * rows))\n",
        "\n",
        "    for i in range(columns * rows):\n",
        "        ax = fig.add_subplot(rows, columns, i + 1)\n",
        "        ax.set_title(texts[i])\n",
        "        ax.set_aspect('equal')\n",
        "        ax.get_xaxis().set_visible(False)\n",
        "        ax.get_yaxis().set_visible(False)\n",
        "        plt.imshow(images[i].reshape((28, 28)))\n",
        "\n",
        "    cax = fig.add_axes([0.12, 0.1, 0.78, 0.8])\n",
        "    cax.get_xaxis().set_visible(False)\n",
        "    cax.get_yaxis().set_visible(False)\n",
        "    cax.set_frame_on(False)\n",
        "    plt.show()"
      ],
      "execution_count": 26,
      "outputs": []
    },
    {
      "cell_type": "code",
      "metadata": {
        "id": "rYBoaWYIKmP7",
        "colab_type": "code",
        "colab": {}
      },
      "source": [
        "def display(generator, images, columns, rows):\n",
        "    \n",
        "    inds = np.arange(len(x_val))\n",
        "    np.random.shuffle(inds)\n",
        "\n",
        "    batch = x_val[inds].cuda()\n",
        "\n",
        "    z = torch.randn(columns * rows, 100)\n",
        "    batch_images = batch\n",
        "    left = batch_images[:, :, :, :14]\n",
        "    right = generator(left, z)\n",
        "    generated_images = torch.cat((left, right), dim=3).cpu().numpy() * 255      # row*col   28  28\n",
        "\n",
        "    images_to_show = np.zeros((rows * columns, 2, 28, 28))\n",
        "    images_to_show[:,0] = batch\n",
        "    images_to_show[:,1] = generated_images\n",
        "    images_to_show = images_to_show.reshape(rows * columns * 2, 28, 28)\n",
        "\n",
        "    texts = np.zeros((rows * columns, 2), dtype=object)\n",
        "    texts[:,0] = np.array(['real' for _ in range(rows * columns)])\n",
        "    texts[:,1] = np.array(['generated' for _ in range(rows * columns)])\n",
        "    texts = texts.reshape(rows * columns * 2)\n",
        "\n",
        "    draw(images_to_show, texts, columns * 2, rows)"
      ],
      "execution_count": 27,
      "outputs": []
    },
    {
      "cell_type": "code",
      "metadata": {
        "id": "i3Az9P2xM-un",
        "colab_type": "code",
        "colab": {}
      },
      "source": [
        "criterion = torch.nn.BCELoss().cuda()"
      ],
      "execution_count": 28,
      "outputs": []
    },
    {
      "cell_type": "code",
      "metadata": {
        "id": "CQ_0qN9ifpk9",
        "colab_type": "code",
        "colab": {
          "base_uri": "https://localhost:8080/",
          "height": 229
        },
        "outputId": "555885ac-e82e-4d24-b63c-98a988f25a2a"
      },
      "source": [
        "iters_per_epoch = int(np.ceil(1.0 * len(x_train) / batch_size))\n",
        "\n",
        "for e in range(epochs):\n",
        "    t_start = time()\n",
        "\n",
        "    inds = np.arange(len(x_train))\n",
        "    np.random.shuffle(inds)\n",
        "\n",
        "    epoch_loss = 0\n",
        "    gen_loss = 0\n",
        "    \n",
        "    # iterating over the whole training set\n",
        "    for iter in range(iters_per_epoch):\n",
        "\n",
        "        batch_inds = inds[iter * batch_size: min(len(inds), (iter + 1) * batch_size)]\n",
        "        batch = x_train[batch_inds].cuda() \n",
        "\n",
        "\n",
        "        if iter % 2 == 0:\n",
        "            gen_epoch_loss = generator_trainer(generator, discriminator, batch, gen_optimizer, criterion)\n",
        "            \n",
        "            gen_loss += float(gen_epoch_loss)\n",
        "        \n",
        "        else:            \n",
        "            loss = discriminator_trainer(criterion, discriminator, batch)\n",
        "\n",
        "            epoch_loss += float(loss)\n",
        "\n",
        "\n",
        "    print(f'Discriminator Loss: {epoch_loss:.4f} and generator loss is: {gen_loss:.4f}')\n",
        "    \n",
        "    print('Epoch %d ended in %.2f secs.' % (e, time() - t_start,))\n",
        "\n",
        "    display(generator, x_val.cuda(), 8, 4)"
      ],
      "execution_count": 31,
      "outputs": [
        {
          "output_type": "error",
          "ename": "RuntimeError",
          "evalue": "ignored",
          "traceback": [
            "\u001b[0;31m---------------------------------------------------------------------------\u001b[0m",
            "\u001b[0;31mRuntimeError\u001b[0m                              Traceback (most recent call last)",
            "\u001b[0;32m<ipython-input-31-1efa576b11bc>\u001b[0m in \u001b[0;36m<module>\u001b[0;34m()\u001b[0m\n\u001b[1;32m     14\u001b[0m \u001b[0;34m\u001b[0m\u001b[0m\n\u001b[1;32m     15\u001b[0m         \u001b[0mbatch_inds\u001b[0m \u001b[0;34m=\u001b[0m \u001b[0minds\u001b[0m\u001b[0;34m[\u001b[0m\u001b[0miter\u001b[0m \u001b[0;34m*\u001b[0m \u001b[0mbatch_size\u001b[0m\u001b[0;34m:\u001b[0m \u001b[0mmin\u001b[0m\u001b[0;34m(\u001b[0m\u001b[0mlen\u001b[0m\u001b[0;34m(\u001b[0m\u001b[0minds\u001b[0m\u001b[0;34m)\u001b[0m\u001b[0;34m,\u001b[0m \u001b[0;34m(\u001b[0m\u001b[0miter\u001b[0m \u001b[0;34m+\u001b[0m \u001b[0;36m1\u001b[0m\u001b[0;34m)\u001b[0m \u001b[0;34m*\u001b[0m \u001b[0mbatch_size\u001b[0m\u001b[0;34m)\u001b[0m\u001b[0;34m]\u001b[0m\u001b[0;34m\u001b[0m\u001b[0;34m\u001b[0m\u001b[0m\n\u001b[0;32m---> 16\u001b[0;31m         \u001b[0mbatch\u001b[0m \u001b[0;34m=\u001b[0m \u001b[0mx_train\u001b[0m\u001b[0;34m[\u001b[0m\u001b[0mbatch_inds\u001b[0m\u001b[0;34m]\u001b[0m\u001b[0;34m.\u001b[0m\u001b[0mcuda\u001b[0m\u001b[0;34m(\u001b[0m\u001b[0;34m)\u001b[0m\u001b[0;34m\u001b[0m\u001b[0;34m\u001b[0m\u001b[0m\n\u001b[0m\u001b[1;32m     17\u001b[0m \u001b[0;34m\u001b[0m\u001b[0m\n\u001b[1;32m     18\u001b[0m \u001b[0;34m\u001b[0m\u001b[0m\n",
            "\u001b[0;31mRuntimeError\u001b[0m: CUDA error: an illegal memory access was encountered"
          ]
        }
      ]
    },
    {
      "cell_type": "code",
      "metadata": {
        "id": "Z9mhmIKNL1Lh",
        "colab_type": "code",
        "colab": {}
      },
      "source": [
        ""
      ],
      "execution_count": null,
      "outputs": []
    }
  ]
}