{
  "nbformat": 4,
  "nbformat_minor": 0,
  "metadata": {
    "colab": {
      "name": "AIMed-5.ipynb",
      "provenance": [],
      "collapsed_sections": [],
      "authorship_tag": "ABX9TyOOusjoI5BnU7NlNil2nEG0"
    },
    "kernelspec": {
      "name": "python3",
      "display_name": "Python 3"
    },
    "accelerator": "GPU"
  },
  "cells": [
    {
      "cell_type": "code",
      "metadata": {
        "id": "kaIwDi_vXAOj",
        "colab_type": "code",
        "colab": {}
      },
      "source": [
        "import  numpy as np\n",
        "import  torch\n",
        "import  sklearn\n",
        "import  tensorflow as tf\n",
        "from    keras.datasets import cifar10\n",
        "import  torchvision\n",
        "import  torchvision.transforms as transforms"
      ],
      "execution_count": 14,
      "outputs": []
    },
    {
      "cell_type": "code",
      "metadata": {
        "id": "Yd5Q0YkQnupq",
        "colab_type": "code",
        "colab": {}
      },
      "source": [
        "# Some trasformation on training data\n",
        "transform_train = transforms.Compose([\n",
        "    transforms.RandomCrop(32, padding=4),\n",
        "    transforms.RandomHorizontalFlip(0.3),\n",
        "    transforms.RandomRotation(8,),\n",
        "    transforms.Resize((224, 224)),\n",
        "    transforms.ToTensor(),\n",
        "    transforms.Normalize((0.4914, 0.4822, 0.4465), (0.2023, 0.1994, 0.2010)),\n",
        "])\n",
        "\n",
        "transform_test = transforms.Compose([\n",
        "    transforms.Resize((224, 224)),\n",
        "    transforms.ToTensor(),\n",
        "    transforms.Normalize((0.4914, 0.4822, 0.4465), (0.2023, 0.1994, 0.2010)),\n",
        "])"
      ],
      "execution_count": 15,
      "outputs": []
    },
    {
      "cell_type": "code",
      "metadata": {
        "id": "YO_Rw6jXjDxm",
        "colab_type": "code",
        "colab": {}
      },
      "source": [
        "batch_size = 32\n",
        "epochs = 20\n",
        "train_loss = np.zeros((epochs,))\n",
        "val_loss = np.zeros((epochs,))\n",
        "train_acc = np.zeros((epochs,))\n",
        "val_acc = np.zeros((epochs,))\n"
      ],
      "execution_count": 16,
      "outputs": []
    },
    {
      "cell_type": "code",
      "metadata": {
        "id": "NcJPEEzO2RY9",
        "colab_type": "code",
        "colab": {
          "base_uri": "https://localhost:8080/",
          "height": 50
        },
        "outputId": "4527a09d-3e03-4e75-93e4-7d3566b0a7f6"
      },
      "source": [
        "trainset = torchvision.datasets.CIFAR10(\n",
        "    root='./data', train=True, download=True, transform=transform_train)\n",
        "\n",
        "testset = torchvision.datasets.CIFAR10(\n",
        "    root='./data', train=False, download=True, transform=transform_test)\n",
        "\n",
        "testloader = torch.utils.data.DataLoader(\n",
        "    testset, batch_size=128, shuffle=False, num_workers=2)"
      ],
      "execution_count": 17,
      "outputs": [
        {
          "output_type": "stream",
          "text": [
            "Files already downloaded and verified\n",
            "Files already downloaded and verified\n"
          ],
          "name": "stdout"
        }
      ]
    },
    {
      "cell_type": "code",
      "metadata": {
        "id": "KywrYWoWnK8g",
        "colab_type": "code",
        "colab": {}
      },
      "source": [
        "class MyModel(torch.nn.Module):\n",
        "    def __init__(self, net, lr=0.001):\n",
        "        super(MyModel, self).__init__()\n",
        "\n",
        "        self.net = net\n",
        "\n",
        "        self.batch_x_placeholder = torch.zeros(size=[1, 3, 224, 224], dtype=torch.float32, device=torch.device('cuda:0'))\n",
        "        self.batch_y_placeholder = torch.zeros(size=[1], dtype=torch.long, device=torch.device('cuda:0'))\n",
        "\n",
        "        self.optimizer = torch.optim.Adam(filter(\n",
        "            lambda p: p.requires_grad, self.parameters()), \n",
        "            lr = lr\n",
        "        )\n",
        "\n",
        "    def forward(self, b_x, b_y=None):\n",
        "        out = self.net(b_x)\n",
        "        loss = -1 * torch.mean(out[torch.arange(b_x.shape[0]), b_y])\n",
        "        decision = torch.argmax(out, dim=-1)\n",
        "        return decision, loss"
      ],
      "execution_count": 26,
      "outputs": []
    },
    {
      "cell_type": "code",
      "metadata": {
        "id": "YEq7XA6ZS_CP",
        "colab_type": "code",
        "colab": {}
      },
      "source": [
        "def evaluate(testset):\n",
        "    with torch.no_grad():\n",
        "\n",
        "        model.eval()  # validation phase\n",
        "\n",
        "        predictions = []\n",
        "        loss = 0\n",
        "        corrects = 0\n",
        "        total = 0\n",
        "\n",
        "        iter = 1\n",
        "\n",
        "        # iterating over the whole training set\n",
        "        for b_x, b_y in testset:\n",
        "\n",
        "            # resize placeholder\n",
        "            if len(b_x) != len(batch_x_placeholder):\n",
        "                batch_x_placeholder.resize_([len(b_x), 3, 224, 224])\n",
        "                batch_y_placeholder.resize_([len(b_x)])\n",
        "        \n",
        "            batch_x_placeholder.copy_(b_x)\n",
        "        \n",
        "            if b_y is not None:\n",
        "                batch_y_placeholder.copy_(b_y)\n",
        "\n",
        "            b_decision, b_loss = model(batch_x_placeholder, batch_y_placeholder)\n",
        "\n",
        "            b_decision = b_decision.cpu().numpy()\n",
        "\n",
        "            loss += float(b_loss)\n",
        "            corrects += np.sum(b_y.cpu().numpy() == b_decision)\n",
        "            total += len(b_y)\n",
        "            predictions.append(b_decision)\n",
        "\n",
        "            if iter % 50 == 0:\n",
        "                print(f'[Test] Iteration {iter:3d}. loss: {loss / iter:.4e} - accuracy: {corrects * 100.0 / total:.2f}')\n",
        "\n",
        "\n",
        "            iter += 1\n",
        "\n",
        "        accuracy = corrects * 100.0 / total\n",
        "        loss /= (iter - 1)\n",
        "\n",
        "        return np.concatenate(predictions), loss, accuracy\n",
        "\n",
        "\n",
        "def save_parameters():\n",
        "    #saving model\n",
        "    torch.save({\n",
        "            'epoch': e,\n",
        "            'optimizer_state_dict': model.optimizer.state_dict(),\n",
        "            'model_state_dict': model.state_dict(),\n",
        "            'epoch_train_loss': epoch_train_loss,\n",
        "            'epoch_train_accuracy': epoch_train_accuracy,\n",
        "            'epoch_val_loss': epoch_val_loss,\n",
        "            'epoch_val_accuracy': epoch_val_accuracy\n",
        "        }, f'epoch_{e}_state.pt')\n",
        "\n",
        "def train_model(trainset, batch_size = 32):\n",
        "    \n",
        "    model.train()  # training phase\n",
        "\n",
        "    epoch_train_loss = 0\n",
        "    corrects = 0\n",
        "    total = 0\n",
        "    iter = 1\n",
        "\n",
        "    # iterate over training set\n",
        "    for b_x, b_y in trainset:\n",
        "\n",
        "        # resize placeholder\n",
        "        if len(b_x) != len(batch_x_placeholder):\n",
        "            batch_x_placeholder.resize_([len(b_x), 3, 224, 224])\n",
        "            batch_y_placeholder.resize_([len(b_x)])\n",
        "        \n",
        "        batch_x_placeholder.copy_(b_x)\n",
        "        if b_y is not None:\n",
        "            batch_y_placeholder.copy_(b_y)\n",
        "\n",
        "        b_decision, b_loss = model(batch_x_placeholder, batch_y_placeholder)\n",
        "\n",
        "        b_decision = b_decision.cpu().numpy()\n",
        "\n",
        "        epoch_train_loss += float(b_loss)\n",
        "        \n",
        "        corrects += np.sum(b_y.cpu().numpy() == b_decision)\n",
        "        total += len(b_y)\n",
        "\n",
        "        if iter % 50 == 0:\n",
        "            print(f'[Train] Iteration {iter:3d} - loss: {epoch_train_loss / iter:.4e} - accuracy: {corrects * 100.0 / total:.2f}')\n",
        "\n",
        "        b_loss.backward()\n",
        "\n",
        "        model.optimizer.step()\n",
        "        model.optimizer.zero_grad()\n",
        "        \n",
        "        iter += 1\n",
        "\n",
        "        epoch_train_accuracy = corrects * 100.0 / total\n",
        "        epoch_train_loss /= (iter - 1)\n",
        "\n",
        "    return epoch_train_loss, epoch_train_accuracy"
      ],
      "execution_count": 34,
      "outputs": []
    },
    {
      "cell_type": "code",
      "metadata": {
        "id": "jJY0euNCoilj",
        "colab_type": "code",
        "colab": {}
      },
      "source": [
        "def make_no_grad(module):\n",
        "    for param in module.parameters():\n",
        "        param.requires_grad_(False)"
      ],
      "execution_count": 35,
      "outputs": []
    },
    {
      "cell_type": "code",
      "metadata": {
        "id": "X44S6uCBoWNv",
        "colab_type": "code",
        "colab": {}
      },
      "source": [
        "resnet = torchvision.models.resnet18(pretrained=True, progress=True)\n",
        "\n",
        "# decider (FC)\n",
        "resnet.fc = torch.nn.Sequential(\n",
        "    torch.nn.Dropout(0.5),\n",
        "    torch.nn.Linear(512, 10),\n",
        "    torch.nn.LogSoftmax(dim=-1)\n",
        ")\n",
        "\n",
        "make_no_grad(resnet.conv1)\n",
        "make_no_grad(resnet.layer1)\n",
        "make_no_grad(resnet.layer2)\n",
        "\n",
        "def inside_forward(x):\n",
        "    with torch.no_grad():\n",
        "        x = resnet.conv1(x)\n",
        "        x = resnet.bn1(x)\n",
        "        x = resnet.relu(x)\n",
        "        x = resnet.maxpool(x)\n",
        "\n",
        "      x = resnet.layer1(x)\n",
        "    x = resnet.layer2(x)\n",
        "    x = resnet.layer3(x)\n",
        "    x = resnet.layer4(x)\n",
        "\n",
        "    x = resnet.avgpool(x)\n",
        "    x = resnet.fc(x.flatten(1))\n",
        "    return x\n",
        "\n",
        "resnet.forward = inside_forward\n"
      ],
      "execution_count": 36,
      "outputs": []
    },
    {
      "cell_type": "code",
      "metadata": {
        "id": "9sqy1jITpy64",
        "colab_type": "code",
        "colab": {}
      },
      "source": [
        "model = MyModel(torch.nn.DataParallel(resnet))\n",
        "\n",
        "batch_x_placeholder = model.batch_x_placeholder\n",
        "batch_y_placeholder = model.batch_y_placeholder\n",
        "epochs = 20"
      ],
      "execution_count": 37,
      "outputs": []
    },
    {
      "cell_type": "code",
      "metadata": {
        "id": "HqzD94v58_u2",
        "colab_type": "code",
        "colab": {}
      },
      "source": [
        "from time import time"
      ],
      "execution_count": 38,
      "outputs": []
    },
    {
      "cell_type": "code",
      "metadata": {
        "id": "PuuGSuRXElFN",
        "colab_type": "code",
        "colab": {}
      },
      "source": [
        "train_loss = np.zeros((epochs,))\n",
        "val_loss = np.zeros((epochs,))\n",
        "train_acc = np.zeros((epochs,))\n",
        "val_acc = np.zeros((epochs,))"
      ],
      "execution_count": 39,
      "outputs": []
    },
    {
      "cell_type": "code",
      "metadata": {
        "id": "JZt10p-v2Dzq",
        "colab_type": "code",
        "colab": {
          "base_uri": "https://localhost:8080/",
          "height": 1000
        },
        "outputId": "c334e154-2580-43ba-dfc7-58d8cf9834b0"
      },
      "source": [
        "trainset, validationset = torch.utils.data.random_split(trainset, lengths=(int(len(trainset) * 0.8), int(len(trainset) * 0.2)))\n",
        "\n",
        "trainloader = torch.utils.data.DataLoader(trainset, batch_size=128, shuffle=True, num_workers=2)\n",
        "\n",
        "validationloader = torch.utils.data.DataLoader(validationset, batch_size=128, shuffle=False, num_workers=2)\n",
        "\n",
        "\n",
        "\n",
        "\n",
        "for e in range(epochs):\n",
        "    t_start = time()\n",
        "\n",
        "    # train over dataset\n",
        "    epoch_train_loss, epoch_train_accuracy = train_model(trainloader)\n",
        "    train_loss[e] = epoch_train_loss\n",
        "    train_acc[e] = epoch_train_accuracy\n",
        "\n",
        "    # validating over validation set\n",
        "    _, epoch_val_loss, epoch_val_accuracy = evaluate(validationloader)\n",
        "    val_loss[e] = epoch_val_loss\n",
        "    val_acc[e] = epoch_val_accuracy\n",
        "\n",
        "    torch.save({\n",
        "            'epoch': e,\n",
        "            'optimizer_state_dict': model.optimizer.state_dict(),\n",
        "            'model_state_dict': model.state_dict(),\n",
        "            'epoch_train_loss': epoch_train_loss,\n",
        "            'epoch_train_accuracy': epoch_train_accuracy,\n",
        "            'epoch_val_loss': epoch_val_loss,\n",
        "            'epoch_val_accuracy': epoch_val_accuracy\n",
        "        }, f'epoch_{e}_state.pt')\n",
        "\n",
        "    print(f'Epoch {e} finished in {time() - t_start:.2f}s - train loss: {epoch_train_loss:.4f} - acc: {epoch_train_accuracy:.2f} - val loss: {epoch_val_loss:.4f} - val acc: {epoch_val_accuracy:.2f}')\n",
        "        \n"
      ],
      "execution_count": 40,
      "outputs": [
        {
          "output_type": "stream",
          "text": [
            "[Train] Iteration  50 - loss: 1.5901e-02 - accuracy: 67.30\n",
            "[Train] Iteration 100 - loss: 5.6314e-03 - accuracy: 73.06\n",
            "[Train] Iteration 150 - loss: 4.3435e-03 - accuracy: 75.68\n",
            "[Train] Iteration 200 - loss: 2.5079e-03 - accuracy: 77.61\n",
            "[Test] Iteration  50. loss: 6.9996e-01 - accuracy: 78.11\n",
            "Epoch 0 finished in 90.32s - train loss: 0.0025 - acc: 77.61 - val loss: 0.7000 - val acc: 78.11\n",
            "[Train] Iteration  50 - loss: 1.0772e-02 - accuracy: 84.81\n",
            "[Train] Iteration 100 - loss: 6.1840e-03 - accuracy: 84.80\n",
            "[Train] Iteration 150 - loss: 1.9642e-03 - accuracy: 84.94\n",
            "[Train] Iteration 200 - loss: 9.9288e-04 - accuracy: 85.25\n",
            "[Test] Iteration  50. loss: 4.8913e-01 - accuracy: 83.89\n",
            "Epoch 1 finished in 89.54s - train loss: 0.0010 - acc: 85.25 - val loss: 0.4891 - val acc: 83.89\n",
            "[Train] Iteration  50 - loss: 7.0933e-03 - accuracy: 88.67\n",
            "[Train] Iteration 100 - loss: 4.6397e-03 - accuracy: 87.85\n",
            "[Train] Iteration 150 - loss: 2.1283e-03 - accuracy: 88.02\n",
            "[Train] Iteration 200 - loss: 1.7134e-03 - accuracy: 87.89\n",
            "[Test] Iteration  50. loss: 4.2778e-01 - accuracy: 85.73\n",
            "Epoch 2 finished in 90.07s - train loss: 0.0017 - acc: 87.89 - val loss: 0.4278 - val acc: 85.73\n",
            "[Train] Iteration  50 - loss: 5.7050e-03 - accuracy: 90.52\n",
            "[Train] Iteration 100 - loss: 3.3747e-03 - accuracy: 90.51\n",
            "[Train] Iteration 150 - loss: 2.1622e-03 - accuracy: 90.52\n",
            "[Train] Iteration 200 - loss: 1.9446e-03 - accuracy: 90.16\n",
            "[Test] Iteration  50. loss: 4.0635e-01 - accuracy: 86.41\n",
            "Epoch 3 finished in 89.73s - train loss: 0.0019 - acc: 90.16 - val loss: 0.4063 - val acc: 86.41\n",
            "[Train] Iteration  50 - loss: 7.3827e-03 - accuracy: 91.78\n",
            "[Train] Iteration 100 - loss: 2.3706e-03 - accuracy: 91.59\n",
            "[Train] Iteration 150 - loss: 1.4787e-03 - accuracy: 91.17\n",
            "[Train] Iteration 200 - loss: 1.1407e-03 - accuracy: 91.04\n",
            "[Test] Iteration  50. loss: 3.7623e-01 - accuracy: 87.27\n",
            "Epoch 4 finished in 90.01s - train loss: 0.0011 - acc: 91.04 - val loss: 0.3762 - val acc: 87.27\n",
            "[Train] Iteration  50 - loss: 5.0115e-03 - accuracy: 92.44\n",
            "[Train] Iteration 100 - loss: 3.2516e-03 - accuracy: 92.57\n",
            "[Train] Iteration 150 - loss: 1.5384e-03 - accuracy: 92.29\n",
            "[Train] Iteration 200 - loss: 1.0159e-03 - accuracy: 92.29\n",
            "[Test] Iteration  50. loss: 3.7033e-01 - accuracy: 88.05\n",
            "Epoch 5 finished in 89.57s - train loss: 0.0010 - acc: 92.29 - val loss: 0.3703 - val acc: 88.05\n",
            "[Train] Iteration  50 - loss: 5.4246e-03 - accuracy: 93.09\n",
            "[Train] Iteration 100 - loss: 2.6877e-03 - accuracy: 92.94\n",
            "[Train] Iteration 150 - loss: 1.6607e-03 - accuracy: 92.84\n",
            "[Train] Iteration 200 - loss: 4.2539e-04 - accuracy: 92.82\n",
            "[Test] Iteration  50. loss: 3.6825e-01 - accuracy: 87.94\n",
            "Epoch 6 finished in 89.99s - train loss: 0.0004 - acc: 92.82 - val loss: 0.3683 - val acc: 87.94\n",
            "[Train] Iteration  50 - loss: 4.0885e-03 - accuracy: 93.75\n",
            "[Train] Iteration 100 - loss: 1.4401e-03 - accuracy: 93.54\n",
            "[Train] Iteration 150 - loss: 1.3147e-03 - accuracy: 93.72\n",
            "[Train] Iteration 200 - loss: 1.4131e-03 - accuracy: 93.58\n",
            "[Test] Iteration  50. loss: 3.8884e-01 - accuracy: 88.50\n",
            "Epoch 7 finished in 89.71s - train loss: 0.0014 - acc: 93.58 - val loss: 0.3888 - val acc: 88.50\n",
            "[Train] Iteration  50 - loss: 3.1906e-03 - accuracy: 94.58\n",
            "[Train] Iteration 100 - loss: 1.1584e-03 - accuracy: 94.18\n",
            "[Train] Iteration 150 - loss: 1.3955e-03 - accuracy: 94.21\n",
            "[Train] Iteration 200 - loss: 7.4422e-04 - accuracy: 94.09\n",
            "[Test] Iteration  50. loss: 3.6223e-01 - accuracy: 88.94\n",
            "Epoch 8 finished in 89.60s - train loss: 0.0007 - acc: 94.09 - val loss: 0.3622 - val acc: 88.94\n",
            "[Train] Iteration  50 - loss: 1.8204e-03 - accuracy: 95.16\n",
            "[Train] Iteration 100 - loss: 1.5867e-03 - accuracy: 94.99\n",
            "[Train] Iteration 150 - loss: 1.6116e-03 - accuracy: 94.60\n",
            "[Train] Iteration 200 - loss: 1.1863e-03 - accuracy: 94.63\n",
            "[Test] Iteration  50. loss: 3.2913e-01 - accuracy: 89.94\n",
            "Epoch 9 finished in 89.57s - train loss: 0.0012 - acc: 94.63 - val loss: 0.3291 - val acc: 89.94\n",
            "[Train] Iteration  50 - loss: 3.1693e-03 - accuracy: 95.42\n",
            "[Train] Iteration 100 - loss: 1.4598e-03 - accuracy: 95.05\n",
            "[Train] Iteration 150 - loss: 9.1336e-04 - accuracy: 95.06\n",
            "[Train] Iteration 200 - loss: 7.5306e-04 - accuracy: 94.90\n",
            "[Test] Iteration  50. loss: 3.7737e-01 - accuracy: 88.44\n",
            "Epoch 10 finished in 89.54s - train loss: 0.0008 - acc: 94.90 - val loss: 0.3774 - val acc: 88.44\n",
            "[Train] Iteration  50 - loss: 3.2784e-03 - accuracy: 95.66\n",
            "[Train] Iteration 100 - loss: 2.5240e-03 - accuracy: 95.37\n",
            "[Train] Iteration 150 - loss: 7.1663e-04 - accuracy: 95.26\n",
            "[Train] Iteration 200 - loss: 1.0260e-03 - accuracy: 95.21\n",
            "[Test] Iteration  50. loss: 4.0865e-01 - accuracy: 88.50\n",
            "Epoch 11 finished in 89.50s - train loss: 0.0010 - acc: 95.21 - val loss: 0.4086 - val acc: 88.50\n",
            "[Train] Iteration  50 - loss: 2.8054e-03 - accuracy: 96.00\n",
            "[Train] Iteration 100 - loss: 2.7651e-03 - accuracy: 95.76\n",
            "[Train] Iteration 150 - loss: 9.6410e-04 - accuracy: 95.46\n",
            "[Train] Iteration 200 - loss: 6.3269e-04 - accuracy: 95.51\n",
            "[Test] Iteration  50. loss: 3.3547e-01 - accuracy: 90.14\n",
            "Epoch 12 finished in 89.20s - train loss: 0.0006 - acc: 95.51 - val loss: 0.3355 - val acc: 90.14\n",
            "[Train] Iteration  50 - loss: 3.4114e-03 - accuracy: 96.23\n",
            "[Train] Iteration 100 - loss: 1.5362e-03 - accuracy: 96.15\n",
            "[Train] Iteration 150 - loss: 6.9212e-04 - accuracy: 96.12\n",
            "[Train] Iteration 200 - loss: 5.3089e-04 - accuracy: 96.04\n",
            "[Test] Iteration  50. loss: 3.6925e-01 - accuracy: 88.73\n",
            "Epoch 13 finished in 89.68s - train loss: 0.0005 - acc: 96.04 - val loss: 0.3692 - val acc: 88.73\n",
            "[Train] Iteration  50 - loss: 3.7156e-03 - accuracy: 96.31\n",
            "[Train] Iteration 100 - loss: 1.3597e-03 - accuracy: 96.17\n",
            "[Train] Iteration 150 - loss: 1.0866e-03 - accuracy: 96.23\n",
            "[Train] Iteration 200 - loss: 6.0800e-04 - accuracy: 96.19\n",
            "[Test] Iteration  50. loss: 3.2328e-01 - accuracy: 90.05\n",
            "Epoch 14 finished in 90.10s - train loss: 0.0006 - acc: 96.19 - val loss: 0.3233 - val acc: 90.05\n",
            "[Train] Iteration  50 - loss: 2.9235e-03 - accuracy: 96.53\n",
            "[Train] Iteration 100 - loss: 1.3755e-03 - accuracy: 96.57\n",
            "[Train] Iteration 150 - loss: 7.7079e-04 - accuracy: 96.46\n",
            "[Train] Iteration 200 - loss: 1.1394e-03 - accuracy: 96.33\n",
            "[Test] Iteration  50. loss: 4.0294e-01 - accuracy: 88.81\n",
            "Epoch 15 finished in 89.49s - train loss: 0.0011 - acc: 96.33 - val loss: 0.4029 - val acc: 88.81\n",
            "[Train] Iteration  50 - loss: 1.2178e-03 - accuracy: 96.53\n",
            "[Train] Iteration 100 - loss: 1.1146e-03 - accuracy: 96.45\n",
            "[Train] Iteration 150 - loss: 8.8718e-04 - accuracy: 96.56\n",
            "[Train] Iteration 200 - loss: 2.3994e-04 - accuracy: 96.53\n",
            "[Test] Iteration  50. loss: 3.8168e-01 - accuracy: 89.69\n",
            "Epoch 16 finished in 89.51s - train loss: 0.0002 - acc: 96.53 - val loss: 0.3817 - val acc: 89.69\n",
            "[Train] Iteration  50 - loss: 3.2771e-03 - accuracy: 97.31\n",
            "[Train] Iteration 100 - loss: 1.1723e-03 - accuracy: 96.88\n",
            "[Train] Iteration 150 - loss: 7.1676e-04 - accuracy: 96.89\n",
            "[Train] Iteration 200 - loss: 2.8520e-04 - accuracy: 96.88\n",
            "[Test] Iteration  50. loss: 3.3775e-01 - accuracy: 90.64\n",
            "Epoch 17 finished in 89.88s - train loss: 0.0003 - acc: 96.88 - val loss: 0.3378 - val acc: 90.64\n",
            "[Train] Iteration  50 - loss: 1.8631e-03 - accuracy: 97.36\n",
            "[Train] Iteration 100 - loss: 1.3819e-03 - accuracy: 97.27\n",
            "[Train] Iteration 150 - loss: 6.8443e-04 - accuracy: 97.30\n",
            "[Train] Iteration 200 - loss: 2.6489e-04 - accuracy: 97.14\n",
            "[Test] Iteration  50. loss: 4.0679e-01 - accuracy: 89.47\n",
            "Epoch 18 finished in 90.27s - train loss: 0.0003 - acc: 97.14 - val loss: 0.4068 - val acc: 89.47\n",
            "[Train] Iteration  50 - loss: 2.9978e-03 - accuracy: 97.36\n",
            "[Train] Iteration 100 - loss: 7.1599e-04 - accuracy: 97.20\n",
            "[Train] Iteration 150 - loss: 6.1784e-04 - accuracy: 97.04\n",
            "[Train] Iteration 200 - loss: 5.0112e-04 - accuracy: 97.12\n",
            "[Test] Iteration  50. loss: 3.3952e-01 - accuracy: 90.58\n",
            "Epoch 19 finished in 89.97s - train loss: 0.0005 - acc: 97.12 - val loss: 0.3395 - val acc: 90.58\n"
          ],
          "name": "stdout"
        }
      ]
    },
    {
      "cell_type": "code",
      "metadata": {
        "id": "r6kExYvmjFfK",
        "colab_type": "code",
        "colab": {}
      },
      "source": [
        "import matplotlib.pyplot as plt"
      ],
      "execution_count": 41,
      "outputs": []
    },
    {
      "cell_type": "code",
      "metadata": {
        "id": "Z7r88U50jFRp",
        "colab_type": "code",
        "colab": {
          "base_uri": "https://localhost:8080/",
          "height": 530
        },
        "outputId": "fe07fd5d-39d0-41ea-e7d6-2c0c26cc8603"
      },
      "source": [
        "fig = plt.figure(figsize=(16, 8))\n",
        "\n",
        "\n",
        "# loss\n",
        "ax = fig.add_subplot(121)\n",
        "ax.set_title('Loss / Epoch')\n",
        "ax.set_ylabel('Loss')\n",
        "ax.set_xlabel('Epoch')\n",
        "ax.set_aspect('auto')\n",
        "\n",
        "plt.plot(train_loss, label='Train', color='green', linewidth=3)\n",
        "plt.plot(val_loss, label='Validation', color='red', linewidth=3)\n",
        "\n",
        "\n",
        "plt.legend()\n",
        "\n",
        "# acc\n",
        "ax = fig.add_subplot(122)\n",
        "ax.set_title('Accuracy / Epoch')\n",
        "ax.set_ylabel('Accuracy')\n",
        "ax.set_xlabel('Epoch')\n",
        "ax.set_aspect('auto')\n",
        "\n",
        "plt.plot(train_acc, label='Train', color='green', linewidth=3)\n",
        "plt.plot(val_acc, label='Validation', color='red', linewidth=3)\n",
        "\n",
        "\n",
        "plt.legend()"
      ],
      "execution_count": 42,
      "outputs": [
        {
          "output_type": "execute_result",
          "data": {
            "text/plain": [
              "<matplotlib.legend.Legend at 0x7f00ddf64ef0>"
            ]
          },
          "metadata": {
            "tags": []
          },
          "execution_count": 42
        },
        {
          "output_type": "display_data",
          "data": {
            "image/png": "[encoded data removed]",
            "text/plain": [
              "<Figure size 1152x576 with 2 Axes>"
            ]
          },
          "metadata": {
            "tags": [],
            "needs_background": "light"
          }
        }
      ]
    },
    {
      "cell_type": "code",
      "metadata": {
        "id": "b8A62ikt0hPq",
        "colab_type": "code",
        "colab": {
          "base_uri": "https://localhost:8080/",
          "height": 34
        },
        "outputId": "2198ff33-1344-4874-b29d-02a2fbf28229"
      },
      "source": [
        "predictions, test_loss, test_accuracy = evaluate(testloader)"
      ],
      "execution_count": 43,
      "outputs": [
        {
          "output_type": "stream",
          "text": [
            "[Test] Iteration  50. loss: 3.5494e-01 - accuracy: 91.67\n"
          ],
          "name": "stdout"
        }
      ]
    },
    {
      "cell_type": "code",
      "metadata": {
        "id": "WeyvSmJf08ga",
        "colab_type": "code",
        "colab": {
          "base_uri": "https://localhost:8080/",
          "height": 34
        },
        "outputId": "52c3f82a-bf57-49de-f8f7-6d9f818ab7a3"
      },
      "source": [
        "test_accuracy"
      ],
      "execution_count": 45,
      "outputs": [
        {
          "output_type": "execute_result",
          "data": {
            "text/plain": [
              "91.75"
            ]
          },
          "metadata": {
            "tags": []
          },
          "execution_count": 45
        }
      ]
    },
    {
      "cell_type": "code",
      "metadata": {
        "id": "iBwOFLbyT8Lm",
        "colab_type": "code",
        "colab": {
          "base_uri": "https://localhost:8080/",
          "height": 195
        },
        "outputId": "8df71644-b477-49db-c923-d03d363e8b77"
      },
      "source": [
        "right_indices = predictions == np.array(testset.targets)\n",
        "right_images = testset.data[right_indices]\n",
        "right_labels = predictions[right_indices]\n",
        "choosen_indices = np.random.choice(np.arange(len(right_images)), size=40)\n",
        "\n",
        "images = right_images[choosen_indices]\n",
        "label_predictions = right_labels[choosen_indices]\n",
        "texts = [f'{right_labels[label_predictions[i]]}' for i in range(len(choosen_indices))]\n",
        "\n",
        "draw(images, texts, 10, 4)"
      ],
      "execution_count": 48,
      "outputs": [
        {
          "output_type": "error",
          "ename": "NameError",
          "evalue": "ignored",
          "traceback": [
            "\u001b[0;31m---------------------------------------------------------------------------\u001b[0m",
            "\u001b[0;31mNameError\u001b[0m                                 Traceback (most recent call last)",
            "\u001b[0;32m<ipython-input-48-8f8579f730ed>\u001b[0m in \u001b[0;36m<module>\u001b[0;34m()\u001b[0m\n\u001b[1;32m      8\u001b[0m \u001b[0mtexts\u001b[0m \u001b[0;34m=\u001b[0m \u001b[0;34m[\u001b[0m\u001b[0;34mf'{right_labels[label_predictions[i]]}'\u001b[0m \u001b[0;32mfor\u001b[0m \u001b[0mi\u001b[0m \u001b[0;32min\u001b[0m \u001b[0mrange\u001b[0m\u001b[0;34m(\u001b[0m\u001b[0mlen\u001b[0m\u001b[0;34m(\u001b[0m\u001b[0mchoosen_indices\u001b[0m\u001b[0;34m)\u001b[0m\u001b[0;34m)\u001b[0m\u001b[0;34m]\u001b[0m\u001b[0;34m\u001b[0m\u001b[0;34m\u001b[0m\u001b[0m\n\u001b[1;32m      9\u001b[0m \u001b[0;34m\u001b[0m\u001b[0m\n\u001b[0;32m---> 10\u001b[0;31m \u001b[0mdraw\u001b[0m\u001b[0;34m(\u001b[0m\u001b[0mimages\u001b[0m\u001b[0;34m,\u001b[0m \u001b[0mtexts\u001b[0m\u001b[0;34m,\u001b[0m \u001b[0;36m10\u001b[0m\u001b[0;34m,\u001b[0m \u001b[0;36m4\u001b[0m\u001b[0;34m)\u001b[0m\u001b[0;34m\u001b[0m\u001b[0;34m\u001b[0m\u001b[0m\n\u001b[0m",
            "\u001b[0;31mNameError\u001b[0m: name 'draw' is not defined"
          ]
        }
      ]
    },
    {
      "cell_type": "code",
      "metadata": {
        "id": "YBh2f9UPcZ94",
        "colab_type": "code",
        "colab": {}
      },
      "source": [
        "with torch.no_grad():\n",
        "        \n",
        "    model.eval()  # validation phase\n",
        "\n",
        "    inds = np.arange(len(x_test))\n",
        "\n",
        "    iters_per_epoch = int(np.ceil(1.0 * len(x_test) / batch_size))\n",
        "\n",
        "    epoch_loss = 0\n",
        "\n",
        "    features = []\n",
        "    reconstructeds = []\n",
        "    loss = 0\n",
        "\n",
        "    # iterating over the whole training set\n",
        "    for iter in range(iters_per_epoch):\n",
        "\n",
        "        batch_inds = inds[iter * batch_size: min(len(inds), (iter + 1) * batch_size)]\n",
        "\n",
        "        # reshaping placeholders\n",
        "        if len(batch_inds) != len(batch_x_placeholder):\n",
        "            batch_x_placeholder.resize_([len(batch_inds), 1, 28, 28])\n",
        "\n",
        "        batch_x_placeholder.copy_(torch.Tensor(x_test[batch_inds, np.newaxis, :, :]))\n",
        "\n",
        "        b_decision, b_loss = model(batch_x_placeholder, batch_y_placeholder)\n",
        "        b_decision = b_decision.flatten(1).cpu().numpy()\n",
        "    \n",
        "        epoch_loss += float(b_loss) / iters_per_epoch  # CARE: WE SHOULD USE FLOAT OVER LOSS\n",
        "        reconstructeds.append(b_decision)\n",
        "    \n",
        "    features = np.concatenate(reconstructeds)    \n"
      ],
      "execution_count": null,
      "outputs": []
    },
    {
      "cell_type": "code",
      "metadata": {
        "id": "sFpH67P8eIvN",
        "colab_type": "code",
        "colab": {}
      },
      "source": [
        "centers = np.zeros((10, features.shape[1]))\n",
        "y_test = y_test.astype(int)\n",
        "features.shape"
      ],
      "execution_count": null,
      "outputs": []
    },
    {
      "cell_type": "code",
      "metadata": {
        "id": "yxQq2Z-heLrF",
        "colab_type": "code",
        "colab": {}
      },
      "source": [
        "for label in range(10):\n",
        "    centers[label] = features[y_test == label].mean(axis=0)"
      ],
      "execution_count": null,
      "outputs": []
    },
    {
      "cell_type": "code",
      "metadata": {
        "id": "fx7iJnQDeQUC",
        "colab_type": "code",
        "colab": {}
      },
      "source": [
        "from sklearn.cluster import MiniBatchKMeans\n",
        "\n",
        "clustering = MiniBatchKMeans(n_clusters=10, batch_size=batch_size, verbose=2, init=centers, n_init=1)"
      ],
      "execution_count": null,
      "outputs": []
    },
    {
      "cell_type": "code",
      "metadata": {
        "id": "ADsrMYfzeRGi",
        "colab_type": "code",
        "colab": {}
      },
      "source": [
        "_ = clustering.fit(features)"
      ],
      "execution_count": null,
      "outputs": []
    },
    {
      "cell_type": "code",
      "metadata": {
        "id": "GKYwI7Dieaij",
        "colab_type": "code",
        "colab": {}
      },
      "source": [
        "matching_matrix = np.zeros((10, 10))"
      ],
      "execution_count": null,
      "outputs": []
    },
    {
      "cell_type": "code",
      "metadata": {
        "id": "bzSr8gN1efrb",
        "colab_type": "code",
        "colab": {}
      },
      "source": [
        "clusters = clustering.predict(features)"
      ],
      "execution_count": null,
      "outputs": []
    },
    {
      "cell_type": "code",
      "metadata": {
        "id": "xK5nwyzGej4A",
        "colab_type": "code",
        "colab": {}
      },
      "source": [
        "for cluster in range(10):\n",
        "    for label in range(10):\n",
        "        matching_matrix[cluster, label] = (y_test[clusters == cluster] == label).sum()"
      ],
      "execution_count": null,
      "outputs": []
    },
    {
      "cell_type": "code",
      "metadata": {
        "id": "PurtSdZHekey",
        "colab_type": "code",
        "colab": {}
      },
      "source": [
        "plt.figure(figsize=(10, 10))\n",
        "plt.imshow(matching_matrix.astype(int))\n",
        "plt.xlabel('Label')\n",
        "plt.ylabel('Cluster')"
      ],
      "execution_count": null,
      "outputs": []
    },
    {
      "cell_type": "code",
      "metadata": {
        "id": "IAu-VsUPepKS",
        "colab_type": "code",
        "colab": {}
      },
      "source": [
        "print('accuracy:', np.diagonal(matching_matrix).sum() / matching_matrix.sum())"
      ],
      "execution_count": null,
      "outputs": []
    },
    {
      "cell_type": "code",
      "metadata": {
        "id": "COh_nNqVjmFW",
        "colab_type": "code",
        "colab": {}
      },
      "source": [
        ""
      ],
      "execution_count": null,
      "outputs": []
    }
  ]
}