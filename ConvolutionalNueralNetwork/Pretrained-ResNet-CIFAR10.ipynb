{
  "nbformat": 4,
  "nbformat_minor": 0,
  "metadata": {
    "colab": {
      "name": "AIMed-5.ipynb",
      "provenance": [],
      "collapsed_sections": [],
      "authorship_tag": "ABX9TyP4asr+TS6mgJlD+XwOxUBY"
    },
    "kernelspec": {
      "name": "python3",
      "display_name": "Python 3"
    },
    "accelerator": "GPU"
  },
  "cells": [
    {
      "cell_type": "code",
      "metadata": {
        "id": "kaIwDi_vXAOj",
        "colab_type": "code",
        "colab": {}
      },
      "source": [
        "import  numpy as np\n",
        "import  torch\n",
        "import  sklearn\n",
        "import  tensorflow as tf\n",
        "from    keras.datasets import cifar10\n",
        "import  torchvision\n",
        "import  torchvision.transforms as transforms"
      ],
      "execution_count": 20,
      "outputs": []
    },
    {
      "cell_type": "code",
      "metadata": {
        "id": "Yd5Q0YkQnupq",
        "colab_type": "code",
        "colab": {}
      },
      "source": [
        "# Some trasformation on training data\n",
        "transform_train = transforms.Compose([\n",
        "    transforms.RandomCrop(32, padding=4),\n",
        "    transforms.RandomHorizontalFlip(0.3),\n",
        "    transforms.RandomRotation(8,),\n",
        "    transforms.Resize((224, 224)),\n",
        "    transforms.ToTensor(),\n",
        "    transforms.Normalize((0.4914, 0.4822, 0.4465), (0.2023, 0.1994, 0.2010)),\n",
        "])\n",
        "\n",
        "transform_test = transforms.Compose([\n",
        "    transforms.Resize((224, 224)),\n",
        "    transforms.ToTensor(),\n",
        "    transforms.Normalize((0.4914, 0.4822, 0.4465), (0.2023, 0.1994, 0.2010)),\n",
        "])"
      ],
      "execution_count": 2,
      "outputs": []
    },
    {
      "cell_type": "code",
      "metadata": {
        "id": "YO_Rw6jXjDxm",
        "colab_type": "code",
        "colab": {}
      },
      "source": [
        "batch_size = 32\n",
        "batch_x_placeholder = torch.zeros(size= [batch_size, 1, 224, 224], dtype = torch.float32, device =torch.device('cuda:0'))\n",
        "batch_y_placeholder = torch.zeros(size= [batch_size], dtype = torch.long, device = torch.device('cuda:0'))\n",
        "epochs = 20\n",
        "train_loss = np.zeros((epochs,))\n",
        "val_loss = np.zeros((epochs,))\n",
        "train_acc = np.zeros((epochs,))\n",
        "val_acc = np.zeros((epochs,))\n"
      ],
      "execution_count": 3,
      "outputs": []
    },
    {
      "cell_type": "code",
      "metadata": {
        "id": "NcJPEEzO2RY9",
        "colab_type": "code",
        "colab": {
          "base_uri": "https://localhost:8080/",
          "height": 50
        },
        "outputId": "a50028b0-bf75-4f10-ce11-29af809a829a"
      },
      "source": [
        "trainset = torchvision.datasets.CIFAR10(\n",
        "    root='./data', train=True, download=True, transform=transform_train)\n",
        "\n",
        "testset = torchvision.datasets.CIFAR10(\n",
        "    root='./data', train=False, download=True, transform=transform_test)\n",
        "\n",
        "testloader = torch.utils.data.DataLoader(\n",
        "    testset, batch_size=128, shuffle=False, num_workers=2)"
      ],
      "execution_count": 4,
      "outputs": [
        {
          "output_type": "stream",
          "text": [
            "Files already downloaded and verified\n",
            "Files already downloaded and verified\n"
          ],
          "name": "stdout"
        }
      ]
    },
    {
      "cell_type": "code",
      "metadata": {
        "id": "KywrYWoWnK8g",
        "colab_type": "code",
        "colab": {}
      },
      "source": [
        "class MyModel(torch.nn.Module):\n",
        "    def __init__(self, net, lr=0.01):\n",
        "        super(MyModel, self).__init__()\n",
        "\n",
        "        self.net = net\n",
        "\n",
        "        self.batch_x_placeholder = torch.zeros(size=[1, 3, 224, 224], dtype=torch.float32, device=torch.device('cuda:0'))\n",
        "        self.batch_y_placeholder = torch.zeros(size=[1], dtype=torch.long, device=torch.device('cuda:0'))\n",
        "\n",
        "        self.optimizer = torch.optim.Adam(filter(\n",
        "            lambda p: p.requires_grad, self.parameters()), \n",
        "            lr = lr\n",
        "        )\n",
        "\n",
        "    def forward(self, b_x, b_y=None):\n",
        "        out = self.net(b_x)\n",
        "        loss = -1 * torch.mean(out[torch.arange(b_x.shape[0]), b_y])\n",
        "        decision = torch.argmax(out, dim=-1)\n",
        "        return decision, loss"
      ],
      "execution_count": 5,
      "outputs": []
    },
    {
      "cell_type": "code",
      "metadata": {
        "id": "YEq7XA6ZS_CP",
        "colab_type": "code",
        "colab": {}
      },
      "source": [
        "def evaluate(testset):\n",
        "    with torch.no_grad():\n",
        "\n",
        "        model.eval()  # validation phase\n",
        "\n",
        "        predictions = []\n",
        "        loss = 0\n",
        "        corrects = 0\n",
        "        total = 0\n",
        "\n",
        "        iter = 1\n",
        "\n",
        "        # iterating over the whole training set\n",
        "        for b_x, b_y in testset:\n",
        "\n",
        "            # resize placeholder\n",
        "            if len(b_x) != len(batch_x_placeholder):\n",
        "                batch_x_placeholder.resize_([len(b_x), 3, 224, 224])\n",
        "                batch_y_placeholder.resize_([len(b_x)])\n",
        "        \n",
        "        batch_x_placeholder.copy_(b_x)\n",
        "        \n",
        "        if b_y is not None:\n",
        "            batch_y_placeholder.copy_(b_y)\n",
        "\n",
        "        b_decision, b_loss = model(batch_x_placeholder)\n",
        "\n",
        "        b_decision = b_decision.cpu().numpy()\n",
        "\n",
        "        loss += float(b_loss)\n",
        "        corrects += np.sum(b_y.cpu().numpy() == b_decision)\n",
        "        total += len(b_y)\n",
        "        predictions.append(b_decision)\n",
        "\n",
        "        if iter % 50 == 0:\n",
        "            print(f'[Test] Iteration {iter:3d}. loss: {loss / iter:.4e} - accuracy: {corrects * 100.0 / total:.2f}')\n",
        "\n",
        "\n",
        "        iter += 1\n",
        "\n",
        "        accuracy = corrects * 100.0 / total\n",
        "        loss /= (iter - 1)\n",
        "\n",
        "        return np.concatenate(predictions), loss, accuracy\n",
        "\n",
        "\n",
        "def save_parameters():\n",
        "    #saving model\n",
        "    torch.save({\n",
        "            'epoch': e,\n",
        "            'optimizer_state_dict': model.optimizer.state_dict(),\n",
        "            'model_state_dict': model.state_dict(),\n",
        "            'epoch_train_loss': epoch_train_loss,\n",
        "            'epoch_train_accuracy': epoch_train_accuracy,\n",
        "            'epoch_val_loss': epoch_val_loss,\n",
        "            'epoch_val_accuracy': epoch_val_accuracy\n",
        "        }, f'epoch_{e}_state.pt')\n",
        "\n",
        "def train_model(trainset, batch_size = 32):\n",
        "    \n",
        "    model.train()  # training phase\n",
        "\n",
        "    epoch_loss = 0\n",
        "    corrects = 0\n",
        "    total = 0\n",
        "    iter = 1\n",
        "\n",
        "    # iterate over training set\n",
        "    for b_x, b_y in trainset:\n",
        "\n",
        "        # resize placeholder\n",
        "        if len(b_x) != len(batch_x_placeholder):\n",
        "            batch_x_placeholder.resize_([len(b_x), 3, 224, 224])\n",
        "            batch_y_placeholder.resize_([len(b_x)])\n",
        "        \n",
        "        batch_x_placeholder.copy_(b_x)\n",
        "        if b_y is not None:\n",
        "            batch_y_placeholder.copy_(b_y)\n",
        "\n",
        "        b_decision, b_loss = model(batch_x_placeholder, batch_y_placeholder)\n",
        "\n",
        "        b_decision = b_decision.cpu().numpy()\n",
        "\n",
        "        epoch_loss += float(b_loss)\n",
        "        \n",
        "        corrects += np.sum(b_y.cpu().numpy() == b_decision)\n",
        "        total += len(b_y)\n",
        "\n",
        "        if iter % 50 == 0:\n",
        "            print(f'[Train] Iteration {iter:3d} - loss: {epoch_loss / iter:.4e} - accuracy: {corrects * 100.0 / total:.2f}')\n",
        "\n",
        "        b_loss.backward()\n",
        "\n",
        "        model.optimizer.step()\n",
        "        model.optimizer.zero_grad()\n",
        "        \n",
        "        iter += 1\n",
        "\n",
        "        epoch_train_accuracy = corrects * 100.0 / total\n",
        "        epoch_loss /= (iter - 1)\n",
        "\n",
        "    return epoch_loss, epoch_train_accuracy"
      ],
      "execution_count": 12,
      "outputs": []
    },
    {
      "cell_type": "code",
      "metadata": {
        "id": "jJY0euNCoilj",
        "colab_type": "code",
        "colab": {}
      },
      "source": [
        "def make_no_grad(module):\n",
        "    for param in module.parameters():\n",
        "        param.requires_grad_(False)"
      ],
      "execution_count": 13,
      "outputs": []
    },
    {
      "cell_type": "code",
      "metadata": {
        "id": "X44S6uCBoWNv",
        "colab_type": "code",
        "colab": {}
      },
      "source": [
        "resnet = torchvision.models.resnet18(pretrained=True, progress=True)\n",
        "\n",
        "# decider (FC)\n",
        "resnet.fc = torch.nn.Sequential(\n",
        "    torch.nn.Dropout(0.5),\n",
        "    torch.nn.Linear(512, 10),\n",
        "    torch.nn.LogSoftmax(dim=-1)\n",
        ")\n",
        "\n",
        "make_no_grad(resnet.conv1)\n",
        "make_no_grad(resnet.layer1)\n",
        "make_no_grad(resnet.layer2)\n",
        "\n",
        "def inside_forward(x):\n",
        "    with torch.no_grad():\n",
        "        x = resnet.conv1(x)\n",
        "        x = resnet.bn1(x)\n",
        "        x = resnet.relu(x)\n",
        "        x = resnet.maxpool(x)\n",
        "\n",
        "    x = resnet.layer1(x)\n",
        "    x = resnet.layer2(x)\n",
        "    x = resnet.layer3(x)\n",
        "    x = resnet.layer4(x)\n",
        "\n",
        "    x = resnet.avgpool(x)\n",
        "    x = resnet.fc(x.flatten(1))\n",
        "    return x\n",
        "\n",
        "resnet.forward = inside_forward\n"
      ],
      "execution_count": 14,
      "outputs": []
    },
    {
      "cell_type": "code",
      "metadata": {
        "id": "9sqy1jITpy64",
        "colab_type": "code",
        "colab": {}
      },
      "source": [
        "model = MyModel(torch.nn.DataParallel(resnet))\n",
        "\n",
        "epochs = 20"
      ],
      "execution_count": 15,
      "outputs": []
    },
    {
      "cell_type": "code",
      "metadata": {
        "id": "HqzD94v58_u2",
        "colab_type": "code",
        "colab": {}
      },
      "source": [
        "from time import time"
      ],
      "execution_count": 16,
      "outputs": []
    },
    {
      "cell_type": "code",
      "metadata": {
        "id": "JZt10p-v2Dzq",
        "colab_type": "code",
        "colab": {
          "base_uri": "https://localhost:8080/",
          "height": 1000
        },
        "outputId": "7ba3869d-cf6d-411b-d307-2e9fb1a48a66"
      },
      "source": [
        "trainset, validationset = torch.utils.data.random_split(trainset, lengths=(int(len(trainset) * 0.8), int(len(trainset) * 0.2)))\n",
        "\n",
        "trainloader = torch.utils.data.DataLoader(trainset, batch_size=128, shuffle=True, num_workers=2)\n",
        "\n",
        "validationloader = torch.utils.data.DataLoader(validationset, batch_size=128, shuffle=False, num_workers=2)\n",
        "\n",
        "\n",
        "train_loss = np.zeros((epochs,))\n",
        "val_loss = np.zeros((epochs,))\n",
        "train_acc = np.zeros((epochs,))\n",
        "val_acc = np.zeros((epochs,))\n",
        "\n",
        "\n",
        "for e in range(epochs):\n",
        "    t_start = time()\n",
        "\n",
        "    # train over dataset\n",
        "    epoch_loss, epoch_train_accuracy = train_model(trainloader)\n",
        "    train_loss[e] = epoch_loss\n",
        "    train_acc[e] = epoch_train_accuracy\n",
        "\n",
        "    # validating over validation set\n",
        "    _, epoch_val_loss, epoch_val_accuracy = evaluate(validationloader)\n",
        "    val_loss[e] = epoch_val_loss\n",
        "    val_acc[e] = epoch_val_accuracy\n",
        "\n",
        "    save_parameters()\n",
        "\n",
        "    print(f'Epoch {e} finished in {time() - t_start:.2f}s - train loss: {epoch_train_loss:.4f} - acc: {epoch_train_accuracy:.2f} - val loss: {epoch_val_loss:.4f} - val acc: {epoch_val_accuracy:.2f}')\n",
        "        \n"
      ],
      "execution_count": 17,
      "outputs": [
        {
          "output_type": "stream",
          "text": [
            "[Train] Iteration  50 - loss: 3.4578e-02 - accuracy: 27.83\n",
            "[Train] Iteration 100 - loss: 1.2666e-02 - accuracy: 36.30\n",
            "[Train] Iteration 150 - loss: 7.4997e-03 - accuracy: 42.97\n",
            "[Train] Iteration 200 - loss: 5.2462e-03 - accuracy: 47.35\n",
            "[Train] Iteration 250 - loss: 4.6890e-03 - accuracy: 50.57\n",
            "Epoch 0 finished in 81.49s - train loss: 0.0024 - acc: 50.57 - val loss: 5.3328 - val acc: 62.50\n",
            "[Train] Iteration  50 - loss: 2.1980e-02 - accuracy: 65.19\n",
            "[Train] Iteration 100 - loss: 9.6621e-03 - accuracy: 67.02\n",
            "[Train] Iteration 150 - loss: 6.0184e-03 - accuracy: 67.92\n",
            "[Train] Iteration 200 - loss: 3.5333e-03 - accuracy: 68.65\n",
            "[Train] Iteration 250 - loss: 3.1707e-03 - accuracy: 69.46\n",
            "Epoch 1 finished in 82.07s - train loss: 0.0024 - acc: 69.46 - val loss: 5.9376 - val acc: 64.06\n",
            "[Train] Iteration  50 - loss: 1.4513e-02 - accuracy: 74.42\n",
            "[Train] Iteration 100 - loss: 7.6852e-03 - accuracy: 74.74\n",
            "[Train] Iteration 150 - loss: 5.3334e-03 - accuracy: 75.01\n",
            "[Train] Iteration 200 - loss: 3.7919e-03 - accuracy: 75.05\n",
            "[Train] Iteration 250 - loss: 2.6477e-03 - accuracy: 75.48\n",
            "Epoch 2 finished in 82.76s - train loss: 0.0024 - acc: 75.48 - val loss: 7.2964 - val acc: 75.00\n",
            "[Train] Iteration  50 - loss: 1.4694e-02 - accuracy: 77.22\n",
            "[Train] Iteration 100 - loss: 5.2187e-03 - accuracy: 78.62\n",
            "[Train] Iteration 150 - loss: 5.2637e-03 - accuracy: 78.44\n",
            "[Train] Iteration 200 - loss: 3.7126e-03 - accuracy: 78.79\n",
            "[Train] Iteration 250 - loss: 1.5973e-03 - accuracy: 78.93\n",
            "Epoch 3 finished in 83.35s - train loss: 0.0024 - acc: 78.93 - val loss: 7.5444 - val acc: 68.75\n",
            "[Train] Iteration  50 - loss: 1.0193e-02 - accuracy: 80.25\n",
            "[Train] Iteration 100 - loss: 5.8994e-03 - accuracy: 80.46\n",
            "[Train] Iteration 150 - loss: 3.2995e-03 - accuracy: 80.91\n",
            "[Train] Iteration 200 - loss: 3.2374e-03 - accuracy: 81.22\n",
            "[Train] Iteration 250 - loss: 1.9406e-03 - accuracy: 81.39\n",
            "Epoch 4 finished in 83.45s - train loss: 0.0024 - acc: 81.39 - val loss: 7.8775 - val acc: 78.12\n",
            "[Train] Iteration  50 - loss: 1.1131e-02 - accuracy: 84.34\n",
            "[Train] Iteration 100 - loss: 5.7040e-03 - accuracy: 83.99\n",
            "[Train] Iteration 150 - loss: 2.5651e-03 - accuracy: 83.77\n",
            "[Train] Iteration 200 - loss: 2.3999e-03 - accuracy: 83.54\n",
            "[Train] Iteration 250 - loss: 1.4808e-03 - accuracy: 83.45\n",
            "Epoch 5 finished in 83.49s - train loss: 0.0024 - acc: 83.45 - val loss: 10.2601 - val acc: 75.00\n",
            "[Train] Iteration  50 - loss: 1.0521e-02 - accuracy: 84.47\n",
            "[Train] Iteration 100 - loss: 5.3434e-03 - accuracy: 84.51\n",
            "[Train] Iteration 150 - loss: 3.5101e-03 - accuracy: 84.62\n",
            "[Train] Iteration 200 - loss: 2.3307e-03 - accuracy: 84.59\n",
            "[Train] Iteration 250 - loss: 1.5426e-03 - accuracy: 84.67\n",
            "Epoch 6 finished in 83.67s - train loss: 0.0024 - acc: 84.67 - val loss: 9.6574 - val acc: 76.56\n",
            "[Train] Iteration  50 - loss: 9.4727e-03 - accuracy: 86.19\n",
            "[Train] Iteration 100 - loss: 5.4493e-03 - accuracy: 86.04\n",
            "[Train] Iteration 150 - loss: 2.7107e-03 - accuracy: 85.67\n",
            "[Train] Iteration 200 - loss: 1.8864e-03 - accuracy: 85.66\n",
            "[Train] Iteration 250 - loss: 1.5741e-03 - accuracy: 85.72\n",
            "Epoch 7 finished in 83.55s - train loss: 0.0024 - acc: 85.72 - val loss: 8.1126 - val acc: 79.69\n",
            "[Train] Iteration  50 - loss: 6.2126e-03 - accuracy: 87.02\n",
            "[Train] Iteration 100 - loss: 3.8910e-03 - accuracy: 87.16\n",
            "[Train] Iteration 150 - loss: 2.5735e-03 - accuracy: 86.97\n",
            "[Train] Iteration 200 - loss: 1.8763e-03 - accuracy: 86.96\n",
            "[Train] Iteration 250 - loss: 1.0517e-03 - accuracy: 87.04\n",
            "Epoch 8 finished in 79.39s - train loss: 0.0024 - acc: 87.04 - val loss: 9.5662 - val acc: 75.00\n",
            "[Train] Iteration  50 - loss: 1.1238e-02 - accuracy: 88.23\n",
            "[Train] Iteration 100 - loss: 3.3612e-03 - accuracy: 88.11\n",
            "[Train] Iteration 150 - loss: 3.0338e-03 - accuracy: 87.87\n",
            "[Train] Iteration 200 - loss: 1.8348e-03 - accuracy: 87.84\n",
            "[Train] Iteration 250 - loss: 1.2453e-03 - accuracy: 87.90\n",
            "Epoch 9 finished in 76.77s - train loss: 0.0024 - acc: 87.90 - val loss: 9.4573 - val acc: 81.25\n",
            "[Train] Iteration  50 - loss: 4.5176e-03 - accuracy: 88.78\n",
            "[Train] Iteration 100 - loss: 3.5813e-03 - accuracy: 88.77\n",
            "[Train] Iteration 150 - loss: 3.2739e-03 - accuracy: 88.62\n",
            "[Train] Iteration 200 - loss: 1.6099e-03 - accuracy: 88.61\n",
            "[Train] Iteration 250 - loss: 9.4201e-04 - accuracy: 88.46\n",
            "Epoch 10 finished in 84.02s - train loss: 0.0024 - acc: 88.46 - val loss: 10.4402 - val acc: 81.25\n",
            "[Train] Iteration  50 - loss: 5.5127e-03 - accuracy: 88.98\n",
            "[Train] Iteration 100 - loss: 4.4787e-03 - accuracy: 88.97\n",
            "[Train] Iteration 150 - loss: 2.1440e-03 - accuracy: 88.97\n",
            "[Train] Iteration 200 - loss: 1.7887e-03 - accuracy: 89.14\n",
            "[Train] Iteration 250 - loss: 1.1371e-03 - accuracy: 89.21\n",
            "Epoch 11 finished in 83.92s - train loss: 0.0024 - acc: 89.21 - val loss: 11.8169 - val acc: 79.69\n",
            "[Train] Iteration  50 - loss: 7.4188e-03 - accuracy: 89.80\n",
            "[Train] Iteration 100 - loss: 2.6500e-03 - accuracy: 89.36\n",
            "[Train] Iteration 150 - loss: 2.0659e-03 - accuracy: 89.33\n",
            "[Train] Iteration 200 - loss: 1.9225e-03 - accuracy: 89.38\n",
            "[Train] Iteration 250 - loss: 1.0625e-03 - accuracy: 89.46\n",
            "Epoch 12 finished in 84.09s - train loss: 0.0024 - acc: 89.46 - val loss: 10.5474 - val acc: 81.25\n",
            "[Train] Iteration  50 - loss: 5.5264e-03 - accuracy: 90.58\n",
            "[Train] Iteration 100 - loss: 2.0490e-03 - accuracy: 90.39\n",
            "[Train] Iteration 150 - loss: 2.4296e-03 - accuracy: 90.31\n",
            "[Train] Iteration 200 - loss: 1.4582e-03 - accuracy: 90.40\n",
            "[Train] Iteration 250 - loss: 9.5840e-04 - accuracy: 90.38\n",
            "Epoch 13 finished in 84.46s - train loss: 0.0024 - acc: 90.38 - val loss: 11.8480 - val acc: 79.69\n",
            "[Train] Iteration  50 - loss: 5.0562e-03 - accuracy: 90.92\n",
            "[Train] Iteration 100 - loss: 3.6057e-03 - accuracy: 90.92\n",
            "[Train] Iteration 150 - loss: 7.4975e-04 - accuracy: 91.14\n",
            "[Train] Iteration 200 - loss: 1.1188e-03 - accuracy: 90.93\n",
            "[Train] Iteration 250 - loss: 1.1055e-03 - accuracy: 90.87\n",
            "Epoch 14 finished in 83.87s - train loss: 0.0024 - acc: 90.87 - val loss: 11.3808 - val acc: 81.25\n",
            "[Train] Iteration  50 - loss: 6.8916e-03 - accuracy: 91.28\n",
            "[Train] Iteration 100 - loss: 4.3775e-03 - accuracy: 91.21\n",
            "[Train] Iteration 150 - loss: 3.0355e-03 - accuracy: 91.20\n",
            "[Train] Iteration 200 - loss: 1.8633e-03 - accuracy: 91.08\n",
            "[Train] Iteration 250 - loss: 1.1675e-03 - accuracy: 91.11\n",
            "Epoch 15 finished in 84.70s - train loss: 0.0024 - acc: 91.11 - val loss: 11.1371 - val acc: 81.25\n",
            "[Train] Iteration  50 - loss: 4.8459e-03 - accuracy: 92.00\n",
            "[Train] Iteration 100 - loss: 1.8840e-03 - accuracy: 91.48\n",
            "[Train] Iteration 150 - loss: 1.9487e-03 - accuracy: 91.45\n",
            "[Train] Iteration 200 - loss: 1.3392e-03 - accuracy: 91.43\n",
            "[Train] Iteration 250 - loss: 1.1552e-03 - accuracy: 91.48\n",
            "Epoch 16 finished in 85.19s - train loss: 0.0024 - acc: 91.48 - val loss: 11.7591 - val acc: 76.56\n",
            "[Train] Iteration  50 - loss: 3.2857e-03 - accuracy: 92.47\n",
            "[Train] Iteration 100 - loss: 2.5158e-03 - accuracy: 92.32\n",
            "[Train] Iteration 150 - loss: 1.0477e-03 - accuracy: 92.47\n",
            "[Train] Iteration 200 - loss: 1.4744e-03 - accuracy: 92.36\n",
            "[Train] Iteration 250 - loss: 5.9478e-04 - accuracy: 92.22\n",
            "Epoch 17 finished in 84.86s - train loss: 0.0024 - acc: 92.22 - val loss: 12.2845 - val acc: 78.12\n",
            "[Train] Iteration  50 - loss: 3.2662e-03 - accuracy: 92.91\n",
            "[Train] Iteration 100 - loss: 2.8644e-03 - accuracy: 92.48\n",
            "[Train] Iteration 150 - loss: 3.7094e-03 - accuracy: 92.04\n",
            "[Train] Iteration 200 - loss: 7.4509e-04 - accuracy: 91.98\n",
            "[Train] Iteration 250 - loss: 1.0684e-03 - accuracy: 91.91\n",
            "Epoch 18 finished in 85.45s - train loss: 0.0024 - acc: 91.91 - val loss: 12.6116 - val acc: 76.56\n",
            "[Train] Iteration  50 - loss: 5.2071e-03 - accuracy: 93.16\n",
            "[Train] Iteration 100 - loss: 2.1409e-03 - accuracy: 93.12\n",
            "[Train] Iteration 150 - loss: 1.2930e-03 - accuracy: 93.05\n",
            "[Train] Iteration 200 - loss: 9.0173e-04 - accuracy: 92.94\n",
            "[Train] Iteration 250 - loss: 6.0804e-04 - accuracy: 92.92\n",
            "Epoch 19 finished in 84.69s - train loss: 0.0024 - acc: 92.92 - val loss: 12.9451 - val acc: 79.69\n"
          ],
          "name": "stdout"
        }
      ]
    },
    {
      "cell_type": "code",
      "metadata": {
        "id": "r6kExYvmjFfK",
        "colab_type": "code",
        "colab": {}
      },
      "source": [
        "import matplotlib.pyplot as plt"
      ],
      "execution_count": 18,
      "outputs": []
    },
    {
      "cell_type": "code",
      "metadata": {
        "id": "Z7r88U50jFRp",
        "colab_type": "code",
        "colab": {
          "base_uri": "https://localhost:8080/",
          "height": 530
        },
        "outputId": "920a39e3-5e14-4ae4-8d94-5c772a0b823a"
      },
      "source": [
        "fig = plt.figure(figsize=(16, 8))\n",
        "\n",
        "\n",
        "# loss\n",
        "ax = fig.add_subplot(121)\n",
        "ax.set_title('Loss / Epoch')\n",
        "ax.set_ylabel('Loss')\n",
        "ax.set_xlabel('Epoch')\n",
        "ax.set_aspect('auto')\n",
        "\n",
        "plt.plot(train_loss, label='Train', color='green', linewidth=3)\n",
        "plt.plot(val_loss, label='Validation', color='red', linewidth=3)\n",
        "\n",
        "\n",
        "plt.legend()\n",
        "\n",
        "# acc\n",
        "ax = fig.add_subplot(122)\n",
        "ax.set_title('Accuracy / Epoch')\n",
        "ax.set_ylabel('Accuracy')\n",
        "ax.set_xlabel('Epoch')\n",
        "ax.set_aspect('auto')\n",
        "\n",
        "plt.plot(train_acc, label='Train', color='green', linewidth=3)\n",
        "plt.plot(val_acc, label='Validation', color='red', linewidth=3)\n",
        "\n",
        "\n",
        "plt.legend()"
      ],
      "execution_count": 19,
      "outputs": [
        {
          "output_type": "execute_result",
          "data": {
            "text/plain": [
              "<matplotlib.legend.Legend at 0x7f1e70229f98>"
            ]
          },
          "metadata": {
            "tags": []
          },
          "execution_count": 19
        },
        {
          "output_type": "display_data",
          "data": {
            "image/png": "[encoded data removed]",
            "text/plain": [
              "<Figure size 1152x576 with 2 Axes>"
            ]
          },
          "metadata": {
            "tags": [],
            "needs_background": "light"
          }
        }
      ]
    },
    {
      "cell_type": "code",
      "metadata": {
        "id": "iBwOFLbyT8Lm",
        "colab_type": "code",
        "colab": {
          "base_uri": "https://localhost:8080/",
          "height": 229
        },
        "outputId": "d1847c2c-6187-4f85-e86e-639e468912e0"
      },
      "source": [
        "right_indices = predictions == np.array(testset.targets)\n",
        "right_images = testset.data[right_indices]\n",
        "right_labels = predictions[right_indices]\n",
        "choosen_indices = np.random.choice(np.arange(len(right_images)), size=40)\n",
        "\n",
        "images = right_images[choosen_indices]\n",
        "label_predictions = right_labels[choosen_indices]\n",
        "texts = [f'{labels[label_predictions[i]]}' for i in range(len(choosen_indices))]\n",
        "\n",
        "draw(images, texts, 10, 4)"
      ],
      "execution_count": 28,
      "outputs": [
        {
          "output_type": "error",
          "ename": "NameError",
          "evalue": "ignored",
          "traceback": [
            "\u001b[0;31m---------------------------------------------------------------------------\u001b[0m",
            "\u001b[0;31mNameError\u001b[0m                                 Traceback (most recent call last)",
            "\u001b[0;32m<ipython-input-28-4da8551ef34b>\u001b[0m in \u001b[0;36m<module>\u001b[0;34m()\u001b[0m\n\u001b[0;32m----> 1\u001b[0;31m \u001b[0mright_indices\u001b[0m \u001b[0;34m=\u001b[0m \u001b[0mpredictions\u001b[0m \u001b[0;34m==\u001b[0m \u001b[0mnp\u001b[0m\u001b[0;34m.\u001b[0m\u001b[0marray\u001b[0m\u001b[0;34m(\u001b[0m\u001b[0mtestset\u001b[0m\u001b[0;34m.\u001b[0m\u001b[0mtargets\u001b[0m\u001b[0;34m)\u001b[0m\u001b[0;34m\u001b[0m\u001b[0;34m\u001b[0m\u001b[0m\n\u001b[0m\u001b[1;32m      2\u001b[0m \u001b[0mright_images\u001b[0m \u001b[0;34m=\u001b[0m \u001b[0mtestset\u001b[0m\u001b[0;34m.\u001b[0m\u001b[0mdata\u001b[0m\u001b[0;34m[\u001b[0m\u001b[0mright_indices\u001b[0m\u001b[0;34m]\u001b[0m\u001b[0;34m\u001b[0m\u001b[0;34m\u001b[0m\u001b[0m\n\u001b[1;32m      3\u001b[0m \u001b[0mright_labels\u001b[0m \u001b[0;34m=\u001b[0m \u001b[0mpredictions\u001b[0m\u001b[0;34m[\u001b[0m\u001b[0mright_indices\u001b[0m\u001b[0;34m]\u001b[0m\u001b[0;34m\u001b[0m\u001b[0;34m\u001b[0m\u001b[0m\n\u001b[1;32m      4\u001b[0m \u001b[0mchoosen_indices\u001b[0m \u001b[0;34m=\u001b[0m \u001b[0mnp\u001b[0m\u001b[0;34m.\u001b[0m\u001b[0mrandom\u001b[0m\u001b[0;34m.\u001b[0m\u001b[0mchoice\u001b[0m\u001b[0;34m(\u001b[0m\u001b[0mnp\u001b[0m\u001b[0;34m.\u001b[0m\u001b[0marange\u001b[0m\u001b[0;34m(\u001b[0m\u001b[0mlen\u001b[0m\u001b[0;34m(\u001b[0m\u001b[0mright_images\u001b[0m\u001b[0;34m)\u001b[0m\u001b[0;34m)\u001b[0m\u001b[0;34m,\u001b[0m \u001b[0msize\u001b[0m\u001b[0;34m=\u001b[0m\u001b[0;36m40\u001b[0m\u001b[0;34m)\u001b[0m\u001b[0;34m\u001b[0m\u001b[0;34m\u001b[0m\u001b[0m\n\u001b[1;32m      5\u001b[0m \u001b[0;34m\u001b[0m\u001b[0m\n",
            "\u001b[0;31mNameError\u001b[0m: name 'predictions' is not defined"
          ]
        }
      ]
    },
    {
      "cell_type": "code",
      "metadata": {
        "id": "YBh2f9UPcZ94",
        "colab_type": "code",
        "colab": {}
      },
      "source": [
        "with torch.no_grad():\n",
        "        \n",
        "    model.eval()  # validation phase\n",
        "\n",
        "    inds = np.arange(len(x_test))\n",
        "\n",
        "    iters_per_epoch = int(np.ceil(1.0 * len(x_test) / batch_size))\n",
        "\n",
        "    epoch_loss = 0\n",
        "\n",
        "    features = []\n",
        "    reconstructeds = []\n",
        "    loss = 0\n",
        "\n",
        "    # iterating over the whole training set\n",
        "    for iter in range(iters_per_epoch):\n",
        "\n",
        "        batch_inds = inds[iter * batch_size: min(len(inds), (iter + 1) * batch_size)]\n",
        "\n",
        "        # reshaping placeholders\n",
        "        if len(batch_inds) != len(batch_x_placeholder):\n",
        "            batch_x_placeholder.resize_([len(batch_inds), 1, 28, 28])\n",
        "\n",
        "        batch_x_placeholder.copy_(torch.Tensor(x_test[batch_inds, np.newaxis, :, :]))\n",
        "\n",
        "        b_decision, b_loss = model(batch_x_placeholder, batch_y_placeholder)\n",
        "        b_decision = b_decision.flatten(1).cpu().numpy()\n",
        "    \n",
        "        epoch_loss += float(b_loss) / iters_per_epoch  # CARE: WE SHOULD USE FLOAT OVER LOSS\n",
        "        reconstructeds.append(b_decision)\n",
        "    \n",
        "    features = np.concatenate(reconstructeds)    \n"
      ],
      "execution_count": null,
      "outputs": []
    },
    {
      "cell_type": "code",
      "metadata": {
        "id": "sFpH67P8eIvN",
        "colab_type": "code",
        "colab": {
          "base_uri": "https://localhost:8080/",
          "height": 195
        },
        "outputId": "7e6cfff2-50c6-49c5-94d4-2289886eebee"
      },
      "source": [
        "centers = np.zeros((10, features.shape[1]))\n",
        "y_test = y_test.astype(int)\n",
        "features.shape"
      ],
      "execution_count": 23,
      "outputs": [
        {
          "output_type": "error",
          "ename": "NameError",
          "evalue": "ignored",
          "traceback": [
            "\u001b[0;31m---------------------------------------------------------------------------\u001b[0m",
            "\u001b[0;31mNameError\u001b[0m                                 Traceback (most recent call last)",
            "\u001b[0;32m<ipython-input-23-8113af5c538c>\u001b[0m in \u001b[0;36m<module>\u001b[0;34m()\u001b[0m\n\u001b[0;32m----> 1\u001b[0;31m \u001b[0mcenters\u001b[0m \u001b[0;34m=\u001b[0m \u001b[0mnp\u001b[0m\u001b[0;34m.\u001b[0m\u001b[0mzeros\u001b[0m\u001b[0;34m(\u001b[0m\u001b[0;34m(\u001b[0m\u001b[0;36m10\u001b[0m\u001b[0;34m,\u001b[0m \u001b[0mfeatures\u001b[0m\u001b[0;34m.\u001b[0m\u001b[0mshape\u001b[0m\u001b[0;34m[\u001b[0m\u001b[0;36m1\u001b[0m\u001b[0;34m]\u001b[0m\u001b[0;34m)\u001b[0m\u001b[0;34m)\u001b[0m\u001b[0;34m\u001b[0m\u001b[0;34m\u001b[0m\u001b[0m\n\u001b[0m\u001b[1;32m      2\u001b[0m \u001b[0my_test\u001b[0m \u001b[0;34m=\u001b[0m \u001b[0my_test\u001b[0m\u001b[0;34m.\u001b[0m\u001b[0mastype\u001b[0m\u001b[0;34m(\u001b[0m\u001b[0mint\u001b[0m\u001b[0;34m)\u001b[0m\u001b[0;34m\u001b[0m\u001b[0;34m\u001b[0m\u001b[0m\n\u001b[1;32m      3\u001b[0m \u001b[0mfeatures\u001b[0m\u001b[0;34m.\u001b[0m\u001b[0mshape\u001b[0m\u001b[0;34m\u001b[0m\u001b[0;34m\u001b[0m\u001b[0m\n",
            "\u001b[0;31mNameError\u001b[0m: name 'features' is not defined"
          ]
        }
      ]
    },
    {
      "cell_type": "code",
      "metadata": {
        "id": "yxQq2Z-heLrF",
        "colab_type": "code",
        "colab": {
          "base_uri": "https://localhost:8080/",
          "height": 178
        },
        "outputId": "7543bff8-db03-42cb-dde9-80545ed61694"
      },
      "source": [
        "for label in range(10):\n",
        "    centers[label] = features[y_test == label].mean(axis=0)"
      ],
      "execution_count": 24,
      "outputs": [
        {
          "output_type": "error",
          "ename": "NameError",
          "evalue": "ignored",
          "traceback": [
            "\u001b[0;31m---------------------------------------------------------------------------\u001b[0m",
            "\u001b[0;31mNameError\u001b[0m                                 Traceback (most recent call last)",
            "\u001b[0;32m<ipython-input-24-b3c51516d265>\u001b[0m in \u001b[0;36m<module>\u001b[0;34m()\u001b[0m\n\u001b[1;32m      1\u001b[0m \u001b[0;32mfor\u001b[0m \u001b[0mlabel\u001b[0m \u001b[0;32min\u001b[0m \u001b[0mrange\u001b[0m\u001b[0;34m(\u001b[0m\u001b[0;36m10\u001b[0m\u001b[0;34m)\u001b[0m\u001b[0;34m:\u001b[0m\u001b[0;34m\u001b[0m\u001b[0;34m\u001b[0m\u001b[0m\n\u001b[0;32m----> 2\u001b[0;31m     \u001b[0mcenters\u001b[0m\u001b[0;34m[\u001b[0m\u001b[0mlabel\u001b[0m\u001b[0;34m]\u001b[0m \u001b[0;34m=\u001b[0m \u001b[0mfeatures\u001b[0m\u001b[0;34m[\u001b[0m\u001b[0my_test\u001b[0m \u001b[0;34m==\u001b[0m \u001b[0mlabel\u001b[0m\u001b[0;34m]\u001b[0m\u001b[0;34m.\u001b[0m\u001b[0mmean\u001b[0m\u001b[0;34m(\u001b[0m\u001b[0maxis\u001b[0m\u001b[0;34m=\u001b[0m\u001b[0;36m0\u001b[0m\u001b[0;34m)\u001b[0m\u001b[0;34m\u001b[0m\u001b[0;34m\u001b[0m\u001b[0m\n\u001b[0m",
            "\u001b[0;31mNameError\u001b[0m: name 'features' is not defined"
          ]
        }
      ]
    },
    {
      "cell_type": "code",
      "metadata": {
        "id": "fx7iJnQDeQUC",
        "colab_type": "code",
        "colab": {
          "base_uri": "https://localhost:8080/",
          "height": 195
        },
        "outputId": "7adcf571-9b87-42d3-a4b4-3f7c88bbe928"
      },
      "source": [
        "from sklearn.cluster import MiniBatchKMeans\n",
        "\n",
        "clustering = MiniBatchKMeans(n_clusters=10, batch_size=batch_size, verbose=2, init=centers, n_init=1)"
      ],
      "execution_count": 25,
      "outputs": [
        {
          "output_type": "error",
          "ename": "NameError",
          "evalue": "ignored",
          "traceback": [
            "\u001b[0;31m---------------------------------------------------------------------------\u001b[0m",
            "\u001b[0;31mNameError\u001b[0m                                 Traceback (most recent call last)",
            "\u001b[0;32m<ipython-input-25-7322ce4e0142>\u001b[0m in \u001b[0;36m<module>\u001b[0;34m()\u001b[0m\n\u001b[1;32m      1\u001b[0m \u001b[0;32mfrom\u001b[0m \u001b[0msklearn\u001b[0m\u001b[0;34m.\u001b[0m\u001b[0mcluster\u001b[0m \u001b[0;32mimport\u001b[0m \u001b[0mMiniBatchKMeans\u001b[0m\u001b[0;34m\u001b[0m\u001b[0;34m\u001b[0m\u001b[0m\n\u001b[1;32m      2\u001b[0m \u001b[0;34m\u001b[0m\u001b[0m\n\u001b[0;32m----> 3\u001b[0;31m \u001b[0mclustering\u001b[0m \u001b[0;34m=\u001b[0m \u001b[0mMiniBatchKMeans\u001b[0m\u001b[0;34m(\u001b[0m\u001b[0mn_clusters\u001b[0m\u001b[0;34m=\u001b[0m\u001b[0;36m10\u001b[0m\u001b[0;34m,\u001b[0m \u001b[0mbatch_size\u001b[0m\u001b[0;34m=\u001b[0m\u001b[0mbatch_size\u001b[0m\u001b[0;34m,\u001b[0m \u001b[0mverbose\u001b[0m\u001b[0;34m=\u001b[0m\u001b[0;36m2\u001b[0m\u001b[0;34m,\u001b[0m \u001b[0minit\u001b[0m\u001b[0;34m=\u001b[0m\u001b[0mcenters\u001b[0m\u001b[0;34m,\u001b[0m \u001b[0mn_init\u001b[0m\u001b[0;34m=\u001b[0m\u001b[0;36m1\u001b[0m\u001b[0;34m)\u001b[0m\u001b[0;34m\u001b[0m\u001b[0;34m\u001b[0m\u001b[0m\n\u001b[0m",
            "\u001b[0;31mNameError\u001b[0m: name 'centers' is not defined"
          ]
        }
      ]
    },
    {
      "cell_type": "code",
      "metadata": {
        "id": "ADsrMYfzeRGi",
        "colab_type": "code",
        "colab": {}
      },
      "source": [
        "_ = clustering.fit(features)"
      ],
      "execution_count": null,
      "outputs": []
    },
    {
      "cell_type": "code",
      "metadata": {
        "id": "GKYwI7Dieaij",
        "colab_type": "code",
        "colab": {}
      },
      "source": [
        "matching_matrix = np.zeros((10, 10))"
      ],
      "execution_count": null,
      "outputs": []
    },
    {
      "cell_type": "code",
      "metadata": {
        "id": "bzSr8gN1efrb",
        "colab_type": "code",
        "colab": {}
      },
      "source": [
        "clusters = clustering.predict(features)"
      ],
      "execution_count": null,
      "outputs": []
    },
    {
      "cell_type": "code",
      "metadata": {
        "id": "xK5nwyzGej4A",
        "colab_type": "code",
        "colab": {}
      },
      "source": [
        "for cluster in range(10):\n",
        "    for label in range(10):\n",
        "        matching_matrix[cluster, label] = (y_test[clusters == cluster] == label).sum()"
      ],
      "execution_count": null,
      "outputs": []
    },
    {
      "cell_type": "code",
      "metadata": {
        "id": "PurtSdZHekey",
        "colab_type": "code",
        "colab": {}
      },
      "source": [
        "plt.figure(figsize=(10, 10))\n",
        "plt.imshow(matching_matrix.astype(int))\n",
        "plt.xlabel('Label')\n",
        "plt.ylabel('Cluster')"
      ],
      "execution_count": null,
      "outputs": []
    },
    {
      "cell_type": "code",
      "metadata": {
        "id": "IAu-VsUPepKS",
        "colab_type": "code",
        "colab": {}
      },
      "source": [
        "print('accuracy:', np.diagonal(matching_matrix).sum() / matching_matrix.sum())"
      ],
      "execution_count": null,
      "outputs": []
    },
    {
      "cell_type": "code",
      "metadata": {
        "id": "COh_nNqVjmFW",
        "colab_type": "code",
        "colab": {}
      },
      "source": [
        ""
      ],
      "execution_count": null,
      "outputs": []
    }
  ]
}