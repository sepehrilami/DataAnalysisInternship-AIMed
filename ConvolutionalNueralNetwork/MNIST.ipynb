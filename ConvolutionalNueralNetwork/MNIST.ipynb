{
  "nbformat": 4,
  "nbformat_minor": 0,
  "metadata": {
    "colab": {
      "name": "AIMed-5.ipynb",
      "provenance": [],
      "collapsed_sections": [],
      "authorship_tag": "ABX9TyO4K04vTGyc0TOjr35LsGy/"
    },
    "kernelspec": {
      "name": "python3",
      "display_name": "Python 3"
    },
    "accelerator": "GPU"
  },
  "cells": [
    {
      "cell_type": "code",
      "metadata": {
        "id": "kaIwDi_vXAOj",
        "colab_type": "code",
        "colab": {}
      },
      "source": [
        "import numpy as np\n",
        "import torch\n",
        "import sklearn"
      ],
      "execution_count": 1,
      "outputs": []
    },
    {
      "cell_type": "code",
      "metadata": {
        "id": "MhqS86r7XR5L",
        "colab_type": "code",
        "colab": {}
      },
      "source": [
        "from sklearn.datasets import fetch_openml\n",
        "mnist = fetch_openml('mnist_784')"
      ],
      "execution_count": 2,
      "outputs": []
    },
    {
      "cell_type": "code",
      "metadata": {
        "id": "g8PidJbUXqvS",
        "colab_type": "code",
        "colab": {
          "base_uri": "https://localhost:8080/",
          "height": 50
        },
        "outputId": "8506ee86-6596-4a11-9359-c919967761ca"
      },
      "source": [
        "y = mnist.target\n",
        "x = mnist.data\n",
        "print(type(y))\n",
        "print(x.shape)"
      ],
      "execution_count": 3,
      "outputs": [
        {
          "output_type": "stream",
          "text": [
            "<class 'numpy.ndarray'>\n",
            "(70000, 784)\n"
          ],
          "name": "stdout"
        }
      ]
    },
    {
      "cell_type": "code",
      "metadata": {
        "id": "Rd_8F6PVX1GC",
        "colab_type": "code",
        "colab": {}
      },
      "source": [
        "x = x.reshape((70000, 28, 28))"
      ],
      "execution_count": 4,
      "outputs": []
    },
    {
      "cell_type": "code",
      "metadata": {
        "id": "0u4bY-3FYEkl",
        "colab_type": "code",
        "colab": {}
      },
      "source": [
        "from sklearn.model_selection import train_test_split"
      ],
      "execution_count": 5,
      "outputs": []
    },
    {
      "cell_type": "code",
      "metadata": {
        "id": "o7O_h-g6YFrm",
        "colab_type": "code",
        "colab": {
          "base_uri": "https://localhost:8080/",
          "height": 34
        },
        "outputId": "a70bbe63-38e7-4fa7-8f74-7eaada446168"
      },
      "source": [
        "x_train, x_test, y_train, y_test = train_test_split(x, y, test_size = 0.3, random_state = 17)\n",
        "x_train, x_val, y_train, y_val =  train_test_split(x_train, y_train, test_size=0.2, random_state=40)\n",
        "print('%d train, %d validation, %d test data' % (len(x_train), len(x_val), len(x_test)))"
      ],
      "execution_count": 6,
      "outputs": [
        {
          "output_type": "stream",
          "text": [
            "39200 train, 9800 validation, 21000 test data\n"
          ],
          "name": "stdout"
        }
      ]
    },
    {
      "cell_type": "code",
      "metadata": {
        "id": "iDS7idKuYFRS",
        "colab_type": "code",
        "colab": {}
      },
      "source": [
        "class MyModel(torch.nn.Module):\n",
        "  def __init__(self):\n",
        "\n",
        "    super(MyModel, self).__init__()\n",
        "\n",
        "    self.features = torch.nn.Sequential( # Inp: B 1 28 28\n",
        "        torch.nn.Conv2d(1, 32, 3, stride=1, padding=0), # B 32 26 26\n",
        "        torch.nn.ReLU(),\n",
        "        torch.nn.Conv2d(32, 32, 3, stride=1, padding=0), # B 32 24 24\n",
        "        torch.nn.ReLU(),\n",
        "        torch.nn.MaxPool2d(2, stride=2, padding=0), # B 32 12 12\n",
        "\n",
        "        torch.nn.Conv2d(32, 64, 3, stride=1, padding=0), # B 64 10 10\n",
        "        torch.nn.ReLU(),\n",
        "        torch.nn.Conv2d(64, 64, 3, stride=1, padding=0), # B  64 8 8\n",
        "        torch.nn.ReLU(),\n",
        "        torch.nn.MaxPool2d(2, stride=2, padding=0), # B 64 4 4\n",
        "        \n",
        "        torch.nn.Conv2d(64, 128, 3, stride=1, padding=0), # B 128 2 2\n",
        "        torch.nn.ReLU()\n",
        "\n",
        "    )\n",
        "\n",
        "    self.decider = torch.nn.Sequential(\n",
        "        torch.nn.Dropout(0.5),\n",
        "        torch.nn.Linear(4 * 128, 128), # B 128\n",
        "        torch.nn.ReLU(),\n",
        "        torch.nn.Linear(128, 10) # B 10\n",
        "    )\n",
        "\n",
        "    self.log_prob_cal = torch.nn.LogSoftmax(dim = 1) # B 10\n",
        "\n",
        "\n",
        "  def forward(self, b_x, b_y = None):\n",
        "      conv_features = self.features(b_x)\n",
        "      class_scores = self.decider(conv_features.flatten(1))\n",
        "      log_probs = self.log_prob_cal(class_scores)\n",
        "      loss = -1 * torch.mean(log_probs[torch.arange(b_x.shape[0]), b_y])\n",
        "      decision = torch.argmax(log_probs, dim = -1)\n",
        "      return decision, loss"
      ],
      "execution_count": 7,
      "outputs": []
    },
    {
      "cell_type": "code",
      "metadata": {
        "id": "IBSzVRMdhU9r",
        "colab_type": "code",
        "colab": {}
      },
      "source": [
        "model = MyModel()\n",
        "model = model.cuda()"
      ],
      "execution_count": 8,
      "outputs": []
    },
    {
      "cell_type": "code",
      "metadata": {
        "id": "Wv_jon7JhVTx",
        "colab_type": "code",
        "colab": {
          "base_uri": "https://localhost:8080/",
          "height": 252
        },
        "outputId": "48249ec8-ea1a-4def-afa0-af9fceab55bd"
      },
      "source": [
        "for n, v in model.named_parameters():\n",
        "  print(n)"
      ],
      "execution_count": 9,
      "outputs": [
        {
          "output_type": "stream",
          "text": [
            "features.0.weight\n",
            "features.0.bias\n",
            "features.2.weight\n",
            "features.2.bias\n",
            "features.5.weight\n",
            "features.5.bias\n",
            "features.7.weight\n",
            "features.7.bias\n",
            "features.10.weight\n",
            "features.10.bias\n",
            "decider.1.weight\n",
            "decider.1.bias\n",
            "decider.3.weight\n",
            "decider.3.bias\n"
          ],
          "name": "stdout"
        }
      ]
    },
    {
      "cell_type": "code",
      "metadata": {
        "id": "YO_Rw6jXjDxm",
        "colab_type": "code",
        "colab": {}
      },
      "source": [
        "batch_size = 64\n",
        "batch_x_placeholder = torch.zeros(size= [batch_size, 1, 28, 28], dtype = torch.float32, device =torch.device('cuda:0'))\n",
        "batch_y_placeholder = torch.zeros(size= [batch_size], dtype = torch.long, device = torch.device('cuda:0'))\n",
        "epochs = 10\n",
        "train_loss = np.zeros((epochs,))\n",
        "val_loss = np.zeros((epochs,))\n",
        "train_acc = np.zeros((epochs,))\n",
        "val_acc = np.zeros((epochs,))\n"
      ],
      "execution_count": 10,
      "outputs": []
    },
    {
      "cell_type": "code",
      "metadata": {
        "id": "12IN3TDLqHXE",
        "colab_type": "code",
        "colab": {}
      },
      "source": [
        "optimizer = torch.optim.Adam(filter(\n",
        "    lambda p : p.requires_grad, model.parameters()),\n",
        "    lr = 0.001\n",
        ")"
      ],
      "execution_count": 11,
      "outputs": []
    },
    {
      "cell_type": "code",
      "metadata": {
        "id": "s8ju1eHijFaJ",
        "colab_type": "code",
        "colab": {}
      },
      "source": [
        "from time import time"
      ],
      "execution_count": 12,
      "outputs": []
    },
    {
      "cell_type": "code",
      "metadata": {
        "id": "1tgfA9R7jFra",
        "colab_type": "code",
        "colab": {
          "base_uri": "https://localhost:8080/",
          "height": 353
        },
        "outputId": "8564d83f-ddf9-4032-ced0-cc260f085b2d"
      },
      "source": [
        "iters_per_epoch = int(np.ceil(1.0 * len(x_train) / batch_size))\n",
        "\n",
        "for e in range(epochs):\n",
        "    t_start = time()\n",
        "\n",
        "    model.train() # training phase\n",
        "\n",
        "    # shuffling\n",
        "    inds = np.arange(len(x_train))\n",
        "    np.random.shuffle(inds)\n",
        "\n",
        "    epoch_loss = 0\n",
        "    true_positive = 0\n",
        "\n",
        "\n",
        "    # iterating over the whole training set\n",
        "    for iter in range(iters_per_epoch):\n",
        "\n",
        "        batch_inds = inds[iter * batch_size: min(len(inds), (iter + 1) * batch_size)]\n",
        "\n",
        "        # reshaping placeholders\n",
        "        if len(batch_inds) != len(batch_x_placeholder):\n",
        "            batch_x_placeholder.resize_([len(batch_inds), 1, 28, 28])\n",
        "            batch_y_placeholder.resize_([len(batch_inds)])\n",
        "\n",
        "        batch_x_placeholder.copy_(torch.Tensor(x_train[batch_inds, np.newaxis, :, :]))\n",
        "        batch_y_placeholder.copy_(torch.Tensor(y_train[batch_inds].astype(int)))\n",
        "\n",
        "        b_decision, b_loss = model(batch_x_placeholder, batch_y_placeholder)\n",
        "        b_decision = b_decision.cpu().numpy()\n",
        "      \n",
        "        epoch_loss += float(b_loss) / iters_per_epoch  # CARE: WE SHOULD USE FLOAT OVER LOSS\n",
        "        true_positive += np.sum(y_train[batch_inds].astype(int) == b_decision)\n",
        "\n",
        "        b_loss.backward() # calculates derivations\n",
        "\n",
        "        optimizer.step()\n",
        "        optimizer.zero_grad() # CARE: MUST DO\n",
        "\n",
        "    epoch_train_accuracy = true_positive * 100.0 / len(x_train)\n",
        "    train_loss[e] = epoch_loss\n",
        "    train_acc[e] = epoch_train_accuracy\n",
        "    \n",
        " # Validating over validation data\n",
        "    with torch.no_grad():\n",
        "        model.eval()  # validation phase\n",
        "\n",
        "        val_inds = np.arange(len(x_val))\n",
        "\n",
        "        val_iters_per_epoch = int(np.ceil(1.0 * len(x_val) / batch_size))\n",
        "\n",
        "        epoch_validation_loss = 0\n",
        "        val_true_positive = 0\n",
        "\n",
        "\n",
        "        # iterating over the whole training set\n",
        "        for iter in range(val_iters_per_epoch):\n",
        "\n",
        "            val_batch_inds = val_inds[iter * batch_size: min(len(val_inds), (iter + 1) * batch_size)]\n",
        "\n",
        "            # reshaping placeholders\n",
        "            if len(val_batch_inds) != len(batch_x_placeholder):\n",
        "                batch_x_placeholder.resize_([len(val_batch_inds), 1, 28, 28])\n",
        "                batch_y_placeholder.resize_([len(val_batch_inds)])\n",
        "\n",
        "            batch_x_placeholder.copy_(torch.Tensor(x_val[val_batch_inds, np.newaxis, :, :]))\n",
        "            batch_y_placeholder.copy_(torch.Tensor(y_val[val_batch_inds].astype(int)))\n",
        "\n",
        "            b_decision, b_loss = model(batch_x_placeholder, batch_y_placeholder)\n",
        "            b_decision = b_decision.cpu().numpy()\n",
        "        \n",
        "            epoch_validation_loss += float(b_loss) / val_iters_per_epoch  # CARE: WE SHOULD USE FLOAT OVER LOSS\n",
        "            val_true_positive += np.sum(y_val[val_batch_inds].astype(int) == b_decision)\n",
        "                \n",
        "        epoch_validation_accuracy = val_true_positive * 100.0 / len(x_val)\n",
        "        val_loss[e] = epoch_validation_loss\n",
        "        val_acc[e] = epoch_validation_accuracy\n",
        "        # TO Complete\n",
        "    \n",
        "    print(f'Train epoch Loss: {epoch_loss:.4f}, train accuracy: {epoch_train_accuracy:.2f}, Validation Loss: {epoch_validation_loss:.4f}, validation accuracy: {epoch_validation_accuracy:.2f}')\n",
        "\n",
        "    # Saving the model and optimizer state\n",
        "    torch.save({\n",
        "            'epoch': e,\n",
        "            'optimizer_state_dict': optimizer.state_dict(),\n",
        "            'model_state_dict': model.state_dict(),\n",
        "            'train_loss': epoch_loss,\n",
        "            'train_accuracy': epoch_train_accuracy,\n",
        "            'validation_loss': epoch_validation_loss,\n",
        "            'validation_accuracy': epoch_validation_accuracy\n",
        "        }, 'epoch_%d_state.pt' % e)\n",
        "\n",
        "    print('Epoch %d ended in %.2f secs.' % (e, time() - t_start,))\n",
        "\n"
      ],
      "execution_count": 13,
      "outputs": [
        {
          "output_type": "stream",
          "text": [
            "Train epoch Loss: 0.2170, train accuracy: 93.19, Validation Loss: 0.0590, validation accuracy: 98.33\n",
            "Epoch 0 ended in 7.90 secs.\n",
            "Train epoch Loss: 0.0698, train accuracy: 97.94, Validation Loss: 0.0399, validation accuracy: 98.81\n",
            "Epoch 1 ended in 7.74 secs.\n",
            "Train epoch Loss: 0.0538, train accuracy: 98.44, Validation Loss: 0.0499, validation accuracy: 98.48\n",
            "Epoch 2 ended in 7.72 secs.\n",
            "Train epoch Loss: 0.0438, train accuracy: 98.73, Validation Loss: 0.0375, validation accuracy: 98.85\n",
            "Epoch 3 ended in 7.77 secs.\n",
            "Train epoch Loss: 0.0356, train accuracy: 98.96, Validation Loss: 0.0439, validation accuracy: 98.90\n",
            "Epoch 4 ended in 7.81 secs.\n",
            "Train epoch Loss: 0.0391, train accuracy: 98.91, Validation Loss: 0.0457, validation accuracy: 98.82\n",
            "Epoch 5 ended in 7.74 secs.\n",
            "Train epoch Loss: 0.0331, train accuracy: 99.03, Validation Loss: 0.0477, validation accuracy: 98.87\n",
            "Epoch 6 ended in 7.72 secs.\n",
            "Train epoch Loss: 0.0308, train accuracy: 99.12, Validation Loss: 0.0444, validation accuracy: 98.96\n",
            "Epoch 7 ended in 7.75 secs.\n",
            "Train epoch Loss: 0.0286, train accuracy: 99.15, Validation Loss: 0.0570, validation accuracy: 98.74\n",
            "Epoch 8 ended in 7.71 secs.\n",
            "Train epoch Loss: 0.0287, train accuracy: 99.18, Validation Loss: 0.0555, validation accuracy: 98.61\n",
            "Epoch 9 ended in 7.65 secs.\n"
          ],
          "name": "stdout"
        }
      ]
    },
    {
      "cell_type": "code",
      "metadata": {
        "id": "r6kExYvmjFfK",
        "colab_type": "code",
        "colab": {}
      },
      "source": [
        "import matplotlib.pyplot as plt"
      ],
      "execution_count": 14,
      "outputs": []
    },
    {
      "cell_type": "code",
      "metadata": {
        "id": "Z7r88U50jFRp",
        "colab_type": "code",
        "colab": {
          "base_uri": "https://localhost:8080/",
          "height": 530
        },
        "outputId": "39425a84-68d9-4759-c594-4b3982ca7adf"
      },
      "source": [
        "fig = plt.figure(figsize=(16, 8))\n",
        "\n",
        "\n",
        "# loss\n",
        "ax = fig.add_subplot(121)\n",
        "ax.set_title('Loss')\n",
        "ax.set_xlabel('Loss')\n",
        "ax.set_ylabel('Epoch')\n",
        "ax.set_aspect('auto')\n",
        "\n",
        "plt.plot(train_loss, label='Train', color='blue', linewidth=3)\n",
        "plt.plot(val_loss, label='Validation', color='yellow', linewidth=3)\n",
        "plt.ylim(0, 0.250)\n",
        "\n",
        "plt.legend()\n",
        "\n",
        "# acc\n",
        "ax = fig.add_subplot(122)\n",
        "ax.set_title('Accuracy')\n",
        "ax.set_xlabel('Accuracy')\n",
        "ax.set_ylabel('Epoch')\n",
        "ax.set_aspect('auto')\n",
        "plt.ylim((90, 100))\n",
        "\n",
        "plt.plot(train_acc, label='Train', color='blue', linewidth=3)\n",
        "plt.plot(val_acc, label='Validation', color='yellow', linewidth=3)\n",
        "\n",
        "\n",
        "plt.legend()"
      ],
      "execution_count": 15,
      "outputs": [
        {
          "output_type": "execute_result",
          "data": {
            "text/plain": [
              "<matplotlib.legend.Legend at 0x7f3694d31eb8>"
            ]
          },
          "metadata": {
            "tags": []
          },
          "execution_count": 15
        },
        {
          "output_type": "display_data",
          "data": {
            "image/png": "[encoded data removed]",
            "text/plain": [
              "<Figure size 1152x576 with 2 Axes>"
            ]
          },
          "metadata": {
            "tags": [],
            "needs_background": "light"
          }
        }
      ]
    }
  ]
}